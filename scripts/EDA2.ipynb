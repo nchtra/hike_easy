{
 "cells": [
  {
   "cell_type": "markdown",
   "metadata": {},
   "source": [
    "## Exploratory Data Analysis (EDA)\n",
    "\n",
    "Goal - Create a similarity metric based on just the numerical data (elevation gain, distance, star rating)"
   ]
  },
  {
   "cell_type": "code",
   "execution_count": 228,
   "metadata": {},
   "outputs": [],
   "source": [
    "import pandas as pd\n",
    "import matplotlib.pyplot as plt\n",
    "import numpy as np\n",
    "import seaborn as sns\n",
    "import matplotlib\n",
    "import matplotlib.pyplot as plt\n",
    "import pickle\n",
    "\n",
    "from sklearn.feature_extraction.text import TfidfVectorizer\n",
    "from sklearn.preprocessing import StandardScaler, MinMaxScaler, RobustScaler, OneHotEncoder ,LabelBinarizer\n",
    "from sklearn.metrics.pairwise import cosine_similarity, euclidean_distances, linear_kernel\n",
    "from scipy.spatial.distance import cdist\n"
   ]
  },
  {
   "cell_type": "markdown",
   "metadata": {},
   "source": [
    "### READ IN PICKLE DATA FILE"
   ]
  },
  {
   "cell_type": "code",
   "execution_count": 229,
   "metadata": {},
   "outputs": [],
   "source": [
    "#Read in pickle data file\n",
    "data=pd.read_pickle('../data/alltrails_ontario.pkl')\n",
    "data1=pd.read_pickle('../data/alltrails_ontario.pkl')\n",
    "# data1="
   ]
  },
  {
   "cell_type": "code",
   "execution_count": 287,
   "metadata": {},
   "outputs": [],
   "source": [
    "tn=data['name'].str.lower()\n",
    "data['trailName']=tn"
   ]
  },
  {
   "cell_type": "code",
   "execution_count": 289,
   "metadata": {},
   "outputs": [],
   "source": [
    "data\n",
    "data.to_pickle('../data/alltrails_ontario_curated.pkl')"
   ]
  },
  {
   "cell_type": "markdown",
   "metadata": {},
   "source": [
    "### CURATION\n",
    "1. Change trail attributes to string for TF-IDF\n",
    "2. Remove nan from elevation data"
   ]
  },
  {
   "cell_type": "code",
   "execution_count": 230,
   "metadata": {},
   "outputs": [],
   "source": [
    "#Replace nan with 0. - I had to do this since elevation had a few rows with nan\n",
    "data.loc[np.isnan(data['elevation'])|(data['elevation']<0.1), 'elevation'] = 1"
   ]
  },
  {
   "cell_type": "code",
   "execution_count": 231,
   "metadata": {
    "scrolled": true
   },
   "outputs": [
    {
     "name": "stdout",
     "output_type": "stream",
     "text": [
      "['dogsonleash', 'wheelchairfriendly', 'kidfriendly', 'strollerfriendly', 'hiking', 'mountainbiking', 'naturetrips', 'snowshoeing', 'trailrunning', 'walking', 'forest', 'paved', 'views', 'snow']\n"
     ]
    },
    {
     "data": {
      "text/html": [
       "<div>\n",
       "<style scoped>\n",
       "    .dataframe tbody tr th:only-of-type {\n",
       "        vertical-align: middle;\n",
       "    }\n",
       "\n",
       "    .dataframe tbody tr th {\n",
       "        vertical-align: top;\n",
       "    }\n",
       "\n",
       "    .dataframe thead th {\n",
       "        text-align: right;\n",
       "    }\n",
       "</style>\n",
       "<table border=\"1\" class=\"dataframe\">\n",
       "  <thead>\n",
       "    <tr style=\"text-align: right;\">\n",
       "      <th></th>\n",
       "      <th>difficulty</th>\n",
       "      <th>distance</th>\n",
       "      <th>elevation</th>\n",
       "      <th>name</th>\n",
       "      <th>nreviews</th>\n",
       "      <th>review</th>\n",
       "      <th>route_type</th>\n",
       "      <th>stars</th>\n",
       "      <th>trail_attributes</th>\n",
       "      <th>tagstr</th>\n",
       "    </tr>\n",
       "  </thead>\n",
       "  <tbody>\n",
       "    <tr>\n",
       "      <th>0</th>\n",
       "      <td>MODERATE</td>\n",
       "      <td>5.6</td>\n",
       "      <td>32.0</td>\n",
       "      <td>Taylor Creek Trail</td>\n",
       "      <td>23</td>\n",
       "      <td>Great for strollers, bikes etc. Opposite side ...</td>\n",
       "      <td>Out &amp; Back</td>\n",
       "      <td>3.7</td>\n",
       "      <td>[dogs on leash, wheelchair friendly, kid frien...</td>\n",
       "      <td>dogsonleash wheelchairfriendly kidfriendly str...</td>\n",
       "    </tr>\n",
       "    <tr>\n",
       "      <th>1</th>\n",
       "      <td>MODERATE</td>\n",
       "      <td>4.7</td>\n",
       "      <td>64.0</td>\n",
       "      <td>Hilton Falls Trail</td>\n",
       "      <td>238</td>\n",
       "      <td>What a gem! I was so pleasantly  surprised by ...</td>\n",
       "      <td>Loop</td>\n",
       "      <td>4.3</td>\n",
       "      <td>[dogs on leash, cross country skiing, fishing,...</td>\n",
       "      <td>dogsonleash crosscountryskiing fishing hiking ...</td>\n",
       "    </tr>\n",
       "  </tbody>\n",
       "</table>\n",
       "</div>"
      ],
      "text/plain": [
       "  difficulty  distance  elevation                name nreviews  \\\n",
       "0   MODERATE       5.6       32.0  Taylor Creek Trail       23   \n",
       "1   MODERATE       4.7       64.0  Hilton Falls Trail      238   \n",
       "\n",
       "                                              review  route_type  stars  \\\n",
       "0  Great for strollers, bikes etc. Opposite side ...  Out & Back    3.7   \n",
       "1  What a gem! I was so pleasantly  surprised by ...        Loop    4.3   \n",
       "\n",
       "                                    trail_attributes  \\\n",
       "0  [dogs on leash, wheelchair friendly, kid frien...   \n",
       "1  [dogs on leash, cross country skiing, fishing,...   \n",
       "\n",
       "                                              tagstr  \n",
       "0  dogsonleash wheelchairfriendly kidfriendly str...  \n",
       "1  dogsonleash crosscountryskiing fishing hiking ...  "
      ]
     },
     "execution_count": 231,
     "metadata": {},
     "output_type": "execute_result"
    }
   ],
   "source": [
    "#Curate trail attributes to create single words for each array element\n",
    "trail_attributes=data.trail_attributes\n",
    "hattrib=[]\n",
    "for l1 in trail_attributes:\n",
    "    hattrib.append([l2.replace(' ', '') for l2 in l1])\n",
    "print (hattrib[0])\n",
    "\n",
    "# Add the curated attibutes as a new column ('tagstr') in data\n",
    "data['tagstr']=pd.Series(hattrib)\n",
    "data['tagstr']=[' '.join(tag) for tag in data.tagstr.values]\n",
    "data.head(2)"
   ]
  },
  {
   "cell_type": "markdown",
   "metadata": {},
   "source": [
    "###  cosine similarity metric based on tag strings"
   ]
  },
  {
   "cell_type": "code",
   "execution_count": 232,
   "metadata": {},
   "outputs": [
    {
     "data": {
      "text/plain": [
       "(1215, 1215)"
      ]
     },
     "execution_count": 232,
     "metadata": {},
     "output_type": "execute_result"
    }
   ],
   "source": [
    "# Create cosine similarity metric based on tag strings\n",
    "tfidf=TfidfVectorizer()\n",
    "tfidf_mat=tfidf.fit_transform(data['tagstr'])\n",
    "tfidf_mat.shape\n",
    "\n",
    "cosine_sim_tagstr = linear_kernel(tfidf_mat,tfidf_mat)\n",
    "cosine_sim_tagstr[10][:20]\n",
    "cosine_sim_tagstr.shape"
   ]
  },
  {
   "cell_type": "markdown",
   "metadata": {},
   "source": [
    "###  cosine similarity metric based on trail difficulty used as category"
   ]
  },
  {
   "cell_type": "code",
   "execution_count": 233,
   "metadata": {},
   "outputs": [
    {
     "data": {
      "text/plain": [
       "(1215, 1215)"
      ]
     },
     "execution_count": 233,
     "metadata": {},
     "output_type": "execute_result"
    }
   ],
   "source": [
    "# Create cosine similarity metric based on trail difficulty used as category\n",
    "data['difficulty'].astype('category')\n",
    "# data\n",
    "lb=LabelBinarizer()\n",
    "lb_diffic=lb.fit_transform(data['difficulty'])\n",
    "# lb_diffic[:12]\n",
    "# data.head(10)\n",
    "\n",
    "cosine_sim_diffic = linear_kernel(lb_diffic,lb_diffic)\n",
    "cosine_sim_diffic.shape"
   ]
  },
  {
   "cell_type": "markdown",
   "metadata": {},
   "source": [
    "### Reverse mapping of indices with corresponding trail names"
   ]
  },
  {
   "cell_type": "code",
   "execution_count": 234,
   "metadata": {},
   "outputs": [
    {
     "data": {
      "text/plain": [
       "1215"
      ]
     },
     "execution_count": 234,
     "metadata": {},
     "output_type": "execute_result"
    }
   ],
   "source": [
    "# Reverse map ofindices with corresponding trail names\n",
    "trail_indices=pd.Series(data.index, index=data['name']).drop_duplicates()\n",
    "len(trail_indices)\n",
    "# trail_indices"
   ]
  },
  {
   "cell_type": "code",
   "execution_count": 235,
   "metadata": {},
   "outputs": [
    {
     "data": {
      "text/plain": [
       "<matplotlib.axes._subplots.AxesSubplot at 0x2661eb9de10>"
      ]
     },
     "execution_count": 235,
     "metadata": {},
     "output_type": "execute_result"
    },
    {
     "data": {
      "image/png": "[encoded data removed]",
      "text/plain": [
       "<Figure size 432x288 with 1 Axes>"
      ]
     },
     "metadata": {},
     "output_type": "display_data"
    }
   ],
   "source": [
    "# Testing numerical data\n",
    "elev=data['elevation']\n",
    "#Natural log of elevation\n",
    "log_elev=np.log(elev)\n",
    "data['log_elevation']=log_elev\n",
    "sns.kdeplot(log_elev)\n",
    "# data.head(5)"
   ]
  },
  {
   "cell_type": "code",
   "execution_count": 236,
   "metadata": {
    "scrolled": true
   },
   "outputs": [
    {
     "data": {
      "text/plain": [
       "<matplotlib.axes._subplots.AxesSubplot at 0x2661f213438>"
      ]
     },
     "execution_count": 236,
     "metadata": {},
     "output_type": "execute_result"
    },
    {
     "data": {
      "image/png": "[encoded data removed]",
      "text/plain": [
       "<Figure size 432x288 with 1 Axes>"
      ]
     },
     "metadata": {},
     "output_type": "display_data"
    }
   ],
   "source": [
    "dist=data['distance']\n",
    "log_dist=np.log(dist)\n",
    "log_dist\n",
    "data['log_distance']=log_dist\n",
    "sns.kdeplot(log_dist)\n",
    "# data.head(2)"
   ]
  },
  {
   "cell_type": "markdown",
   "metadata": {},
   "source": [
    "###  cosine similarity metric for numerical data"
   ]
  },
  {
   "cell_type": "code",
   "execution_count": 237,
   "metadata": {
    "scrolled": true
   },
   "outputs": [
    {
     "data": {
      "text/plain": [
       "<matplotlib.axes._subplots.AxesSubplot at 0x2661ec8b320>"
      ]
     },
     "execution_count": 237,
     "metadata": {},
     "output_type": "execute_result"
    },
    {
     "data": {
      "image/png": "[encoded data removed]",
      "text/plain": [
       "<Figure size 432x288 with 1 Axes>"
      ]
     },
     "metadata": {},
     "output_type": "display_data"
    }
   ],
   "source": [
    "num_data=data[['log_elevation','log_distance','stars']]\n",
    "sns.kdeplot(data['log_elevation'])\n",
    "sns.kdeplot(data['log_distance'])\n",
    "sns.kdeplot(data['stars'])\n",
    "# num_data['log_elevation']"
   ]
  },
  {
   "cell_type": "code",
   "execution_count": 238,
   "metadata": {},
   "outputs": [
    {
     "data": {
      "text/plain": [
       "<matplotlib.axes._subplots.AxesSubplot at 0x2661f53dbe0>"
      ]
     },
     "execution_count": 238,
     "metadata": {},
     "output_type": "execute_result"
    },
    {
     "data": {
      "image/png": "[encoded data removed]",
      "text/plain": [
       "<Figure size 432x288 with 1 Axes>"
      ]
     },
     "metadata": {},
     "output_type": "display_data"
    }
   ],
   "source": [
    "# Robust scaling for numerical data\n",
    "scaler=RobustScaler()\n",
    "# scaler=StandardScaler()\n",
    "scaled_numdata=scaler.fit_transform(num_data)\n",
    "scaled_numdata=pd.DataFrame(scaled_numdata, columns=['log_elevation', 'log_distance', 'stars'])\n",
    "sns.kdeplot(scaled_numdata['log_elevation'])\n",
    "sns.kdeplot(scaled_numdata['log_distance'])\n",
    "sns.kdeplot(scaled_numdata['stars'])"
   ]
  },
  {
   "cell_type": "code",
   "execution_count": 239,
   "metadata": {},
   "outputs": [
    {
     "data": {
      "text/plain": [
       "(array([ 0.55788665, -0.03610592, -0.49512622, ...,  0.45589055,\n",
       "         2.11114822,  0.15141181]),\n",
       " array([-0.03610592,  0.16815323,  0.3060822 , ..., -0.27964914,\n",
       "        -1.19278599,  0.06182081]))"
      ]
     },
     "execution_count": 239,
     "metadata": {},
     "output_type": "execute_result"
    }
   ],
   "source": [
    "# Cosine similarity for numerical data\n",
    "scaled_numdata.shape\n",
    "cosine_sim_num = linear_kernel(scaled_numdata, scaled_numdata)\n",
    "cosine_sim_num1 = cosine_similarity(scaled_numdata, scaled_numdata)\n",
    "cosine_sim_num[0], cosine_sim_num[1]"
   ]
  },
  {
   "cell_type": "markdown",
   "metadata": {},
   "source": [
    "###  cosine similarity of numerical data - only elevation and distance"
   ]
  },
  {
   "cell_type": "code",
   "execution_count": 240,
   "metadata": {},
   "outputs": [
    {
     "data": {
      "text/plain": [
       "<matplotlib.axes._subplots.AxesSubplot at 0x26625559780>"
      ]
     },
     "execution_count": 240,
     "metadata": {},
     "output_type": "execute_result"
    },
    {
     "data": {
      "image/png": "[encoded data removed]",
      "text/plain": [
       "<Figure size 432x288 with 1 Axes>"
      ]
     },
     "metadata": {},
     "output_type": "display_data"
    }
   ],
   "source": [
    "num_data2=data[['log_elevation','log_distance']]\n",
    "sns.kdeplot(data['log_elevation'])\n",
    "sns.kdeplot(data['log_distance'])\n",
    "# num_data['log_elevation']"
   ]
  },
  {
   "cell_type": "code",
   "execution_count": 241,
   "metadata": {},
   "outputs": [
    {
     "data": {
      "text/plain": [
       "<matplotlib.axes._subplots.AxesSubplot at 0x266255dd4e0>"
      ]
     },
     "execution_count": 241,
     "metadata": {},
     "output_type": "execute_result"
    },
    {
     "data": {
      "image/png": "[encoded data removed]",
      "text/plain": [
       "<Figure size 432x288 with 1 Axes>"
      ]
     },
     "metadata": {},
     "output_type": "display_data"
    }
   ],
   "source": [
    "# Robust scaling for numerical data\n",
    "scaler=RobustScaler()\n",
    "# scaler=StandardScaler()\n",
    "scaled_numdata2=scaler.fit_transform(num_data2)\n",
    "scaled_numdata2=pd.DataFrame(scaled_numdata2, columns=['log_elevation', 'log_distance'])\n",
    "sns.kdeplot(scaled_numdata2['log_elevation'])\n",
    "sns.kdeplot(scaled_numdata2['log_distance'])"
   ]
  },
  {
   "cell_type": "code",
   "execution_count": 271,
   "metadata": {},
   "outputs": [
    {
     "data": {
      "text/plain": [
       "array([[ 1.        ,  0.97521905, -0.43241187, ...,  0.40333187,\n",
       "         0.73553754,  0.33880283],\n",
       "       [ 0.97521905,  1.        , -0.22220807, ...,  0.59578481,\n",
       "         0.8671978 ,  0.5385637 ],\n",
       "       [-0.43241187, -0.22220807,  1.        , ...,  0.65067672,\n",
       "         0.29281602,  0.70184636],\n",
       "       ...,\n",
       "       [ 0.40333187,  0.59578481,  0.65067672, ...,  1.        ,\n",
       "         0.91659999,  0.99758509],\n",
       "       [ 0.73553754,  0.8671978 ,  0.29281602, ...,  0.91659999,\n",
       "         1.        ,  0.88661801],\n",
       "       [ 0.33880283,  0.5385637 ,  0.70184636, ...,  0.99758509,\n",
       "         0.88661801,  1.        ]])"
      ]
     },
     "execution_count": 271,
     "metadata": {},
     "output_type": "execute_result"
    }
   ],
   "source": [
    "# Cosine similarity for numerical data\n",
    "scaled_numdata2.shape\n",
    "cosine_sim_num2 = linear_kernel(scaled_numdata2, scaled_numdata2)\n",
    "cosine_sim_num2c = cosine_similarity(scaled_numdata2, scaled_numdata2)\n",
    "cosine_sim_num2[0], cosine_sim_num2c[1]\n",
    "cosine_sim_num2c.shape\n",
    "cosine_sim_num2c"
   ]
  },
  {
   "cell_type": "markdown",
   "metadata": {},
   "source": [
    "###  Create cosine similarity based on all features"
   ]
  },
  {
   "cell_type": "code",
   "execution_count": 269,
   "metadata": {},
   "outputs": [
    {
     "data": {
      "text/plain": [
       "array([ 1.        ,  0.89425601,  0.8037629 ,  0.38365813, -0.13906687,\n",
       "        0.114582  ,  0.8884473 ,  0.13253397,  0.0605837 , -0.29819394])"
      ]
     },
     "execution_count": 269,
     "metadata": {},
     "output_type": "execute_result"
    }
   ],
   "source": [
    "#Combined features where only distance and elevation are used for the numerical data\n",
    "combined_features_sim2=np.concatenate([cosine_sim_tagstr, cosine_sim_diffic, cosine_sim_num2], axis=1)\n",
    "combined_features_sim2.shape\n",
    "\n",
    "#Calculate similarity matrix for combined features\n",
    "cosine_sim_allfeat2=cosine_similarity(combined_features_sim2, combined_features_sim2)\n",
    "cosine_sim_allfeat2[0][:10]\n",
    "# cosine_sim_allfeat2.shape"
   ]
  },
  {
   "cell_type": "code",
   "execution_count": null,
   "metadata": {},
   "outputs": [],
   "source": []
  },
  {
   "cell_type": "code",
   "execution_count": 273,
   "metadata": {},
   "outputs": [
    {
     "data": {
      "text/plain": [
       "numpy.ndarray"
      ]
     },
     "execution_count": 273,
     "metadata": {},
     "output_type": "execute_result"
    }
   ],
   "source": [
    "#Combined features where stars, distance and elevation are used for the numerical data\n",
    "combined_features_sim3=np.concatenate([cosine_sim_tagstr, cosine_sim_diffic, cosine_sim_num], axis=1)\n",
    "combined_features_sim3.shape\n",
    "\n",
    "#Calculate similarity matrix for combined features\n",
    "cosine_sim_allfeat3=cosine_similarity(combined_features_sim3, combined_features_sim3)\n",
    "type(cosine_sim_allfeat3)"
   ]
  },
  {
   "cell_type": "markdown",
   "metadata": {},
   "source": [
    "###  Write cosine similarity based on all features into a pickle file"
   ]
  },
  {
   "cell_type": "code",
   "execution_count": 275,
   "metadata": {},
   "outputs": [],
   "source": [
    "# mat=np.matrix(cosine_sim_allfeat2)\n",
    "# mat.dump('cosine_sim2.dat')\n",
    "\n",
    "np.savetxt('cosine_sim2.dat', cosine_sim_allfeat2)"
   ]
  },
  {
   "cell_type": "code",
   "execution_count": 280,
   "metadata": {},
   "outputs": [
    {
     "data": {
      "text/plain": [
       "numpy.ndarray"
      ]
     },
     "execution_count": 280,
     "metadata": {},
     "output_type": "execute_result"
    }
   ],
   "source": [
    "x=np.loadtxt('../data/cosine_sim2.dat')\n",
    "type(x)\n",
    "# x"
   ]
  },
  {
   "cell_type": "code",
   "execution_count": 246,
   "metadata": {},
   "outputs": [],
   "source": [
    "mat3=np.matrix(cosine_sim_allfeat3)\n",
    "mat3.dump('cosine_sim3.dat')\n"
   ]
  },
  {
   "cell_type": "code",
   "execution_count": 247,
   "metadata": {},
   "outputs": [
    {
     "data": {
      "text/html": [
       "<div>\n",
       "<style scoped>\n",
       "    .dataframe tbody tr th:only-of-type {\n",
       "        vertical-align: middle;\n",
       "    }\n",
       "\n",
       "    .dataframe tbody tr th {\n",
       "        vertical-align: top;\n",
       "    }\n",
       "\n",
       "    .dataframe thead th {\n",
       "        text-align: right;\n",
       "    }\n",
       "</style>\n",
       "<table border=\"1\" class=\"dataframe\">\n",
       "  <thead>\n",
       "    <tr style=\"text-align: right;\">\n",
       "      <th></th>\n",
       "      <th>difficulty</th>\n",
       "      <th>distance</th>\n",
       "      <th>elevation</th>\n",
       "      <th>name</th>\n",
       "      <th>nreviews</th>\n",
       "      <th>review</th>\n",
       "      <th>route_type</th>\n",
       "      <th>stars</th>\n",
       "      <th>trail_attributes</th>\n",
       "      <th>tagstr</th>\n",
       "      <th>log_elevation</th>\n",
       "      <th>log_distance</th>\n",
       "    </tr>\n",
       "  </thead>\n",
       "  <tbody>\n",
       "    <tr>\n",
       "      <th>0</th>\n",
       "      <td>MODERATE</td>\n",
       "      <td>5.6</td>\n",
       "      <td>32.0</td>\n",
       "      <td>Taylor Creek Trail</td>\n",
       "      <td>23</td>\n",
       "      <td>Great for strollers, bikes etc. Opposite side ...</td>\n",
       "      <td>Out &amp; Back</td>\n",
       "      <td>3.7</td>\n",
       "      <td>[dogs on leash, wheelchair friendly, kid frien...</td>\n",
       "      <td>dogsonleash wheelchairfriendly kidfriendly str...</td>\n",
       "      <td>3.465736</td>\n",
       "      <td>1.722767</td>\n",
       "    </tr>\n",
       "    <tr>\n",
       "      <th>1</th>\n",
       "      <td>MODERATE</td>\n",
       "      <td>4.7</td>\n",
       "      <td>64.0</td>\n",
       "      <td>Hilton Falls Trail</td>\n",
       "      <td>238</td>\n",
       "      <td>What a gem! I was so pleasantly  surprised by ...</td>\n",
       "      <td>Loop</td>\n",
       "      <td>4.3</td>\n",
       "      <td>[dogs on leash, cross country skiing, fishing,...</td>\n",
       "      <td>dogsonleash crosscountryskiing fishing hiking ...</td>\n",
       "      <td>4.158883</td>\n",
       "      <td>1.547563</td>\n",
       "    </tr>\n",
       "    <tr>\n",
       "      <th>2</th>\n",
       "      <td>MODERATE</td>\n",
       "      <td>2.3</td>\n",
       "      <td>100.0</td>\n",
       "      <td>Niagara Glen Trail</td>\n",
       "      <td>135</td>\n",
       "      <td>Beautiful area with several trails.  Loved exp...</td>\n",
       "      <td>Loop</td>\n",
       "      <td>4.7</td>\n",
       "      <td>[dogs on leash, kid friendly, hiking, nature t...</td>\n",
       "      <td>dogsonleash kidfriendly hiking naturetrips wal...</td>\n",
       "      <td>4.605170</td>\n",
       "      <td>0.832909</td>\n",
       "    </tr>\n",
       "    <tr>\n",
       "      <th>3</th>\n",
       "      <td>MODERATE</td>\n",
       "      <td>7.2</td>\n",
       "      <td>128.0</td>\n",
       "      <td>Nassagaweya and Bruce Trail Loop from Rattlesn...</td>\n",
       "      <td>170</td>\n",
       "      <td>Great views! We went in January so there weren...</td>\n",
       "      <td>Loop</td>\n",
       "      <td>4.2</td>\n",
       "      <td>[dogs on leash, kid friendly, hiking, nature t...</td>\n",
       "      <td>dogsonleash kidfriendly hiking naturetrips sno...</td>\n",
       "      <td>4.852030</td>\n",
       "      <td>1.974081</td>\n",
       "    </tr>\n",
       "    <tr>\n",
       "      <th>4</th>\n",
       "      <td>MODERATE</td>\n",
       "      <td>15.3</td>\n",
       "      <td>427.0</td>\n",
       "      <td>Lion's Head Loop Via Bruce Trail</td>\n",
       "      <td>117</td>\n",
       "      <td>Amazing trail with stunning lookouts. Hiked it...</td>\n",
       "      <td>Loop</td>\n",
       "      <td>4.8</td>\n",
       "      <td>[dogs on leash, hiking, nature trips, walking,...</td>\n",
       "      <td>dogsonleash hiking naturetrips walking birdwat...</td>\n",
       "      <td>6.056784</td>\n",
       "      <td>2.727853</td>\n",
       "    </tr>\n",
       "  </tbody>\n",
       "</table>\n",
       "</div>"
      ],
      "text/plain": [
       "  difficulty  distance  elevation  \\\n",
       "0   MODERATE       5.6       32.0   \n",
       "1   MODERATE       4.7       64.0   \n",
       "2   MODERATE       2.3      100.0   \n",
       "3   MODERATE       7.2      128.0   \n",
       "4   MODERATE      15.3      427.0   \n",
       "\n",
       "                                                name nreviews  \\\n",
       "0                                 Taylor Creek Trail       23   \n",
       "1                                 Hilton Falls Trail      238   \n",
       "2                                 Niagara Glen Trail      135   \n",
       "3  Nassagaweya and Bruce Trail Loop from Rattlesn...      170   \n",
       "4                  Lion's Head Loop Via Bruce Trail       117   \n",
       "\n",
       "                                              review  route_type  stars  \\\n",
       "0  Great for strollers, bikes etc. Opposite side ...  Out & Back    3.7   \n",
       "1  What a gem! I was so pleasantly  surprised by ...        Loop    4.3   \n",
       "2  Beautiful area with several trails.  Loved exp...        Loop    4.7   \n",
       "3  Great views! We went in January so there weren...        Loop    4.2   \n",
       "4  Amazing trail with stunning lookouts. Hiked it...        Loop    4.8   \n",
       "\n",
       "                                    trail_attributes  \\\n",
       "0  [dogs on leash, wheelchair friendly, kid frien...   \n",
       "1  [dogs on leash, cross country skiing, fishing,...   \n",
       "2  [dogs on leash, kid friendly, hiking, nature t...   \n",
       "3  [dogs on leash, kid friendly, hiking, nature t...   \n",
       "4  [dogs on leash, hiking, nature trips, walking,...   \n",
       "\n",
       "                                              tagstr  log_elevation  \\\n",
       "0  dogsonleash wheelchairfriendly kidfriendly str...       3.465736   \n",
       "1  dogsonleash crosscountryskiing fishing hiking ...       4.158883   \n",
       "2  dogsonleash kidfriendly hiking naturetrips wal...       4.605170   \n",
       "3  dogsonleash kidfriendly hiking naturetrips sno...       4.852030   \n",
       "4  dogsonleash hiking naturetrips walking birdwat...       6.056784   \n",
       "\n",
       "   log_distance  \n",
       "0      1.722767  \n",
       "1      1.547563  \n",
       "2      0.832909  \n",
       "3      1.974081  \n",
       "4      2.727853  "
      ]
     },
     "execution_count": 247,
     "metadata": {},
     "output_type": "execute_result"
    }
   ],
   "source": [
    "data.head()"
   ]
  },
  {
   "cell_type": "code",
   "execution_count": 284,
   "metadata": {},
   "outputs": [
    {
     "name": "stdout",
     "output_type": "stream",
     "text": [
      "index 1\n",
      "[(442, 0.9829678736877491), (325, 0.9825410201954988), (130, 0.9728747080398896), (269, 0.968575693936848), (716, 0.965348896476093), (540, 0.9652673700929668), (1114, 0.9613720373617043), (896, 0.9612984335043019), (877, 0.9601624237303154), (154, 0.9597624255427394)]\n"
     ]
    }
   ],
   "source": [
    "cosine_sim=np.loadtxt('../data/cosine_sim2.dat')\n",
    "\n",
    "\n",
    "def recommendations_trailname(trail_name, cosine_sim=cosine_sim):\n",
    "    indices=pd.Series(data.index, index=data['name'].str.lower())\n",
    "    index=indices[trail_name]\n",
    "    print ('index', index)\n",
    "    #Extract pairwise similarity score with all trails for the input trail\n",
    "    similarity_scores=list(enumerate(cosine_sim[index]))\n",
    "#     print (similarity_scores)\n",
    "    #Sort scores to extract the top ranked trails\n",
    "    sorted_scores=sorted(similarity_scores, key=lambda x:x[1], reverse=True)\n",
    "    sorted_scores=sorted_scores[1:11]\n",
    "    print (sorted_scores)\n",
    "\n",
    "np.squeeze(np.array(cosine_sim))\n",
    "recommendations_trailname('hilton falls trail')"
   ]
  },
  {
   "cell_type": "code",
   "execution_count": null,
   "metadata": {},
   "outputs": [],
   "source": [
    "# data['trailName']=data['name'].str.lower()\n",
    "# data"
   ]
  }
 ],
 "metadata": {
  "kernelspec": {
   "display_name": "Python 3",
   "language": "python",
   "name": "python3"
  },
  "language_info": {
   "codemirror_mode": {
    "name": "ipython",
    "version": 3
   },
   "file_extension": ".py",
   "mimetype": "text/x-python",
   "name": "python",
   "nbconvert_exporter": "python",
   "pygments_lexer": "ipython3",
   "version": "3.6.5"
  }
 },
 "nbformat": 4,
 "nbformat_minor": 2
}
