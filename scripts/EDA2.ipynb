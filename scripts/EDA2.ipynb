{
 "cells": [
  {
   "cell_type": "markdown",
   "metadata": {},
   "source": [
    "## Exploratory Data Analysis (EDA)\n",
    "\n",
    "Goal - Create a similarity metric based on just the numerical data (elevation gain, distance, star rating)"
   ]
  },
  {
   "cell_type": "code",
   "execution_count": 1,
   "metadata": {},
   "outputs": [],
   "source": [
    "import pandas as pd\n",
    "import matplotlib.pyplot as plt\n",
    "import numpy as np\n",
    "import seaborn as sns\n",
    "import matplotlib\n",
    "import matplotlib.pyplot as plt\n",
    "import pickle\n",
    "\n",
    "from sklearn.feature_extraction.text import TfidfVectorizer, CountVectorizer\n",
    "from sklearn.preprocessing import StandardScaler, MinMaxScaler, RobustScaler, OneHotEncoder ,LabelBinarizer\n",
    "from sklearn.metrics.pairwise import cosine_similarity, euclidean_distances, linear_kernel\n",
    "from scipy.spatial.distance import cdist\n"
   ]
  },
  {
   "cell_type": "markdown",
   "metadata": {},
   "source": [
    "### READ IN PICKLE DATA FILE"
   ]
  },
  {
   "cell_type": "code",
   "execution_count": 2,
   "metadata": {},
   "outputs": [],
   "source": [
    "#Read in pickle data file\n",
    "data=pd.read_pickle('../data/alltrails_ontario.pkl')\n",
    "data1=pd.read_pickle('../data/alltrails_ontario.pkl')\n",
    "# data1="
   ]
  },
  {
   "cell_type": "code",
   "execution_count": 3,
   "metadata": {},
   "outputs": [],
   "source": [
    "tn=data['name'].str.lower()\n",
    "data['trailName']=tn"
   ]
  },
  {
   "cell_type": "code",
   "execution_count": 4,
   "metadata": {},
   "outputs": [],
   "source": [
    "# data.head(2)\n",
    "#Ran on 2019-01-31\n",
    "# data.to_pickle('../data/alltrails_ontario_curated.pkl')"
   ]
  },
  {
   "cell_type": "markdown",
   "metadata": {},
   "source": [
    "### CURATION\n",
    "1. Change trail attributes to string for TF-IDF\n",
    "2. Remove nan from elevation data"
   ]
  },
  {
   "cell_type": "code",
   "execution_count": 5,
   "metadata": {},
   "outputs": [],
   "source": [
    "#Replace nan with 0. - I had to do this since elevation had a few rows with nan\n",
    "data.loc[np.isnan(data['elevation'])|(data['elevation']<0.1), 'elevation'] = 1"
   ]
  },
  {
   "cell_type": "code",
   "execution_count": 6,
   "metadata": {
    "scrolled": false
   },
   "outputs": [
    {
     "name": "stdout",
     "output_type": "stream",
     "text": [
      "['dogsonleash', 'wheelchairfriendly', 'kidfriendly', 'strollerfriendly', 'hiking', 'mountainbiking', 'naturetrips', 'snowshoeing', 'trailrunning', 'walking', 'forest', 'paved', 'views', 'snow']\n"
     ]
    },
    {
     "data": {
      "text/html": [
       "<div>\n",
       "<style scoped>\n",
       "    .dataframe tbody tr th:only-of-type {\n",
       "        vertical-align: middle;\n",
       "    }\n",
       "\n",
       "    .dataframe tbody tr th {\n",
       "        vertical-align: top;\n",
       "    }\n",
       "\n",
       "    .dataframe thead th {\n",
       "        text-align: right;\n",
       "    }\n",
       "</style>\n",
       "<table border=\"1\" class=\"dataframe\">\n",
       "  <thead>\n",
       "    <tr style=\"text-align: right;\">\n",
       "      <th></th>\n",
       "      <th>difficulty</th>\n",
       "      <th>distance</th>\n",
       "      <th>elevation</th>\n",
       "      <th>name</th>\n",
       "      <th>nreviews</th>\n",
       "      <th>review</th>\n",
       "      <th>route_type</th>\n",
       "      <th>stars</th>\n",
       "      <th>trail_attributes</th>\n",
       "      <th>trailName</th>\n",
       "      <th>tagstr</th>\n",
       "    </tr>\n",
       "  </thead>\n",
       "  <tbody>\n",
       "    <tr>\n",
       "      <th>0</th>\n",
       "      <td>MODERATE</td>\n",
       "      <td>5.6</td>\n",
       "      <td>32.0</td>\n",
       "      <td>Taylor Creek Trail</td>\n",
       "      <td>23</td>\n",
       "      <td>Great for strollers, bikes etc. Opposite side ...</td>\n",
       "      <td>Out &amp; Back</td>\n",
       "      <td>3.7</td>\n",
       "      <td>[dogs on leash, wheelchair friendly, kid frien...</td>\n",
       "      <td>taylor creek trail</td>\n",
       "      <td>dogsonleash wheelchairfriendly kidfriendly str...</td>\n",
       "    </tr>\n",
       "    <tr>\n",
       "      <th>1</th>\n",
       "      <td>MODERATE</td>\n",
       "      <td>4.7</td>\n",
       "      <td>64.0</td>\n",
       "      <td>Hilton Falls Trail</td>\n",
       "      <td>238</td>\n",
       "      <td>What a gem! I was so pleasantly  surprised by ...</td>\n",
       "      <td>Loop</td>\n",
       "      <td>4.3</td>\n",
       "      <td>[dogs on leash, cross country skiing, fishing,...</td>\n",
       "      <td>hilton falls trail</td>\n",
       "      <td>dogsonleash crosscountryskiing fishing hiking ...</td>\n",
       "    </tr>\n",
       "  </tbody>\n",
       "</table>\n",
       "</div>"
      ],
      "text/plain": [
       "  difficulty  distance  elevation                name nreviews  \\\n",
       "0   MODERATE       5.6       32.0  Taylor Creek Trail       23   \n",
       "1   MODERATE       4.7       64.0  Hilton Falls Trail      238   \n",
       "\n",
       "                                              review  route_type  stars  \\\n",
       "0  Great for strollers, bikes etc. Opposite side ...  Out & Back    3.7   \n",
       "1  What a gem! I was so pleasantly  surprised by ...        Loop    4.3   \n",
       "\n",
       "                                    trail_attributes           trailName  \\\n",
       "0  [dogs on leash, wheelchair friendly, kid frien...  taylor creek trail   \n",
       "1  [dogs on leash, cross country skiing, fishing,...  hilton falls trail   \n",
       "\n",
       "                                              tagstr  \n",
       "0  dogsonleash wheelchairfriendly kidfriendly str...  \n",
       "1  dogsonleash crosscountryskiing fishing hiking ...  "
      ]
     },
     "execution_count": 6,
     "metadata": {},
     "output_type": "execute_result"
    }
   ],
   "source": [
    "#Curate trail attributes to create single words for each array element\n",
    "trail_attributes=data.trail_attributes\n",
    "hattrib=[]\n",
    "for l1 in trail_attributes:\n",
    "    hattrib.append([l2.replace(' ', '') for l2 in l1])\n",
    "print (hattrib[0])\n",
    "\n",
    "# Add the curated attibutes as a new column ('tagstr') in data\n",
    "data['tagstr']=pd.Series(hattrib)\n",
    "data['tagstr']=[' '.join(tag) for tag in data.tagstr.values]\n",
    "data.head(2)"
   ]
  },
  {
   "cell_type": "code",
   "execution_count": 7,
   "metadata": {},
   "outputs": [
    {
     "data": {
      "text/html": [
       "<div>\n",
       "<style scoped>\n",
       "    .dataframe tbody tr th:only-of-type {\n",
       "        vertical-align: middle;\n",
       "    }\n",
       "\n",
       "    .dataframe tbody tr th {\n",
       "        vertical-align: top;\n",
       "    }\n",
       "\n",
       "    .dataframe thead th {\n",
       "        text-align: right;\n",
       "    }\n",
       "</style>\n",
       "<table border=\"1\" class=\"dataframe\">\n",
       "  <thead>\n",
       "    <tr style=\"text-align: right;\">\n",
       "      <th></th>\n",
       "      <th>difficulty</th>\n",
       "      <th>distance</th>\n",
       "      <th>elevation</th>\n",
       "      <th>name</th>\n",
       "      <th>nreviews</th>\n",
       "      <th>review</th>\n",
       "      <th>route_type</th>\n",
       "      <th>stars</th>\n",
       "      <th>trail_attributes</th>\n",
       "      <th>trailName</th>\n",
       "      <th>tagstr</th>\n",
       "      <th>urlname</th>\n",
       "    </tr>\n",
       "  </thead>\n",
       "  <tbody>\n",
       "    <tr>\n",
       "      <th>0</th>\n",
       "      <td>MODERATE</td>\n",
       "      <td>5.6</td>\n",
       "      <td>32.0</td>\n",
       "      <td>Taylor Creek Trail</td>\n",
       "      <td>23</td>\n",
       "      <td>Great for strollers, bikes etc. Opposite side ...</td>\n",
       "      <td>Out &amp; Back</td>\n",
       "      <td>3.7</td>\n",
       "      <td>[dogs on leash, wheelchair friendly, kid frien...</td>\n",
       "      <td>taylor creek trail</td>\n",
       "      <td>dogsonleash wheelchairfriendly kidfriendly str...</td>\n",
       "      <td>taylor-creek-trail</td>\n",
       "    </tr>\n",
       "    <tr>\n",
       "      <th>1</th>\n",
       "      <td>MODERATE</td>\n",
       "      <td>4.7</td>\n",
       "      <td>64.0</td>\n",
       "      <td>Hilton Falls Trail</td>\n",
       "      <td>238</td>\n",
       "      <td>What a gem! I was so pleasantly  surprised by ...</td>\n",
       "      <td>Loop</td>\n",
       "      <td>4.3</td>\n",
       "      <td>[dogs on leash, cross country skiing, fishing,...</td>\n",
       "      <td>hilton falls trail</td>\n",
       "      <td>dogsonleash crosscountryskiing fishing hiking ...</td>\n",
       "      <td>hilton-falls-trail</td>\n",
       "    </tr>\n",
       "  </tbody>\n",
       "</table>\n",
       "</div>"
      ],
      "text/plain": [
       "  difficulty  distance  elevation                name nreviews  \\\n",
       "0   MODERATE       5.6       32.0  Taylor Creek Trail       23   \n",
       "1   MODERATE       4.7       64.0  Hilton Falls Trail      238   \n",
       "\n",
       "                                              review  route_type  stars  \\\n",
       "0  Great for strollers, bikes etc. Opposite side ...  Out & Back    3.7   \n",
       "1  What a gem! I was so pleasantly  surprised by ...        Loop    4.3   \n",
       "\n",
       "                                    trail_attributes           trailName  \\\n",
       "0  [dogs on leash, wheelchair friendly, kid frien...  taylor creek trail   \n",
       "1  [dogs on leash, cross country skiing, fishing,...  hilton falls trail   \n",
       "\n",
       "                                              tagstr             urlname  \n",
       "0  dogsonleash wheelchairfriendly kidfriendly str...  taylor-creek-trail  \n",
       "1  dogsonleash crosscountryskiing fishing hiking ...  hilton-falls-trail  "
      ]
     },
     "execution_count": 7,
     "metadata": {},
     "output_type": "execute_result"
    }
   ],
   "source": [
    "uname=data['name'].str.lower()\n",
    "# (' ', '-')\n",
    "uname=uname.str.replace(' ','-')\n",
    "data['urlname']=uname\n",
    "data.head(2)\n",
    "# uname.head()"
   ]
  },
  {
   "cell_type": "code",
   "execution_count": 8,
   "metadata": {},
   "outputs": [
    {
     "data": {
      "text/html": [
       "<div>\n",
       "<style scoped>\n",
       "    .dataframe tbody tr th:only-of-type {\n",
       "        vertical-align: middle;\n",
       "    }\n",
       "\n",
       "    .dataframe tbody tr th {\n",
       "        vertical-align: top;\n",
       "    }\n",
       "\n",
       "    .dataframe thead th {\n",
       "        text-align: right;\n",
       "    }\n",
       "</style>\n",
       "<table border=\"1\" class=\"dataframe\">\n",
       "  <thead>\n",
       "    <tr style=\"text-align: right;\">\n",
       "      <th></th>\n",
       "      <th>difficulty</th>\n",
       "      <th>distance</th>\n",
       "      <th>elevation</th>\n",
       "      <th>name</th>\n",
       "      <th>nreviews</th>\n",
       "      <th>review</th>\n",
       "      <th>route_type</th>\n",
       "      <th>stars</th>\n",
       "      <th>trail_attributes</th>\n",
       "      <th>trailName</th>\n",
       "      <th>tagstr</th>\n",
       "      <th>urlname</th>\n",
       "      <th>tags_str</th>\n",
       "    </tr>\n",
       "  </thead>\n",
       "  <tbody>\n",
       "    <tr>\n",
       "      <th>0</th>\n",
       "      <td>MODERATE</td>\n",
       "      <td>5.6</td>\n",
       "      <td>32.0</td>\n",
       "      <td>Taylor Creek Trail</td>\n",
       "      <td>23</td>\n",
       "      <td>Great for strollers, bikes etc. Opposite side ...</td>\n",
       "      <td>Out &amp; Back</td>\n",
       "      <td>3.7</td>\n",
       "      <td>[dogs on leash, wheelchair friendly, kid frien...</td>\n",
       "      <td>taylor creek trail</td>\n",
       "      <td>dogsonleash wheelchairfriendly kidfriendly str...</td>\n",
       "      <td>taylor-creek-trail</td>\n",
       "      <td>dogs on leash, wheelchair friendly, kid friend...</td>\n",
       "    </tr>\n",
       "    <tr>\n",
       "      <th>1</th>\n",
       "      <td>MODERATE</td>\n",
       "      <td>4.7</td>\n",
       "      <td>64.0</td>\n",
       "      <td>Hilton Falls Trail</td>\n",
       "      <td>238</td>\n",
       "      <td>What a gem! I was so pleasantly  surprised by ...</td>\n",
       "      <td>Loop</td>\n",
       "      <td>4.3</td>\n",
       "      <td>[dogs on leash, cross country skiing, fishing,...</td>\n",
       "      <td>hilton falls trail</td>\n",
       "      <td>dogsonleash crosscountryskiing fishing hiking ...</td>\n",
       "      <td>hilton-falls-trail</td>\n",
       "      <td>dogs on leash, cross country skiing, fishing, ...</td>\n",
       "    </tr>\n",
       "  </tbody>\n",
       "</table>\n",
       "</div>"
      ],
      "text/plain": [
       "  difficulty  distance  elevation                name nreviews  \\\n",
       "0   MODERATE       5.6       32.0  Taylor Creek Trail       23   \n",
       "1   MODERATE       4.7       64.0  Hilton Falls Trail      238   \n",
       "\n",
       "                                              review  route_type  stars  \\\n",
       "0  Great for strollers, bikes etc. Opposite side ...  Out & Back    3.7   \n",
       "1  What a gem! I was so pleasantly  surprised by ...        Loop    4.3   \n",
       "\n",
       "                                    trail_attributes           trailName  \\\n",
       "0  [dogs on leash, wheelchair friendly, kid frien...  taylor creek trail   \n",
       "1  [dogs on leash, cross country skiing, fishing,...  hilton falls trail   \n",
       "\n",
       "                                              tagstr             urlname  \\\n",
       "0  dogsonleash wheelchairfriendly kidfriendly str...  taylor-creek-trail   \n",
       "1  dogsonleash crosscountryskiing fishing hiking ...  hilton-falls-trail   \n",
       "\n",
       "                                            tags_str  \n",
       "0  dogs on leash, wheelchair friendly, kid friend...  \n",
       "1  dogs on leash, cross country skiing, fishing, ...  "
      ]
     },
     "execution_count": 8,
     "metadata": {},
     "output_type": "execute_result"
    }
   ],
   "source": [
    "tattr=data['trail_attributes']\n",
    "tattr1=tattr.apply(lambda x: ', '.join(map(str, x)))\n",
    "tattr1\n",
    "data['tags_str']=tattr1\n",
    "data.head(2)"
   ]
  },
  {
   "cell_type": "code",
   "execution_count": null,
   "metadata": {},
   "outputs": [],
   "source": []
  },
  {
   "cell_type": "markdown",
   "metadata": {},
   "source": [
    "###  cosine similarity metric based on tag strings"
   ]
  },
  {
   "cell_type": "code",
   "execution_count": 9,
   "metadata": {},
   "outputs": [
    {
     "name": "stdout",
     "output_type": "stream",
     "text": [
      "  (0, 12)\t0.16627989149311911\n",
      "  (0, 48)\t0.3887154022266255\n",
      "  (0, 18)\t0.16989692004708368\n",
      "  (0, 42)\t0.39082521863240766\n",
      "  (0, 15)\t0.1250384603835403\n",
      "  (0, 20)\t0.286222371661858\n",
      "  (0, 22)\t0.16465970241687586\n",
      "  (0, 41)\t0.27186295188585274\n",
      "  (0, 43)\t0.19554888051634897\n",
      "  (0, 45)\t0.12576378144161154\n",
      "  (0, 14)\t0.16407620905459377\n",
      "  (0, 30)\t0.47750141494039944\n",
      "  (0, 44)\t0.1581234535411064\n",
      "  (0, 40)\t0.3272221728001923\n",
      "['backpacking', 'beach', 'birdwatching', 'blowdown', 'bridgeout', 'bugs', 'camping', 'cave', 'citywalk', 'closed', 'crosscountryskiing', 'dogfriendly', 'dogsonleash', 'fishing', 'forest', 'hiking', 'historicsite', 'horsebackriding', 'kidfriendly', 'lake', 'mountainbiking', 'muddy', 'naturetrips', 'nodogs', 'noshade', 'offroaddriving', 'offtrail', 'overgrown', 'paddlesports', 'partiallypaved', 'paved', 'privateproperty', 'railstrails', 'river', 'roadbiking', 'rockclimbing', 'rocky', 'scenicdriving', 'scramble', 'skiing', 'snow', 'snowshoeing', 'strollerfriendly', 'trailrunning', 'views', 'walking', 'washedout', 'waterfall', 'wheelchairfriendly', 'wildflowers', 'wildlife']\n",
      "dogsonleash wheelchairfriendly kidfriendly strollerfriendly hiking mountainbiking naturetrips snowshoeing trailrunning walking forest paved views snow\n"
     ]
    },
    {
     "data": {
      "text/plain": [
       "array([0.19798116, 0.25023058, 0.31385437, 0.59065205, 0.32995455,\n",
       "       0.45687345, 0.47430293, 0.32344082, 0.41538313, 0.43074916,\n",
       "       1.        , 0.27560225, 0.2631469 , 0.3156043 , 0.79175798,\n",
       "       0.3007684 , 0.38460531, 0.3488739 , 0.22921044, 0.2258769 ])"
      ]
     },
     "execution_count": 9,
     "metadata": {},
     "output_type": "execute_result"
    }
   ],
   "source": [
    "# Create cosine similarity metric based on tag strings\n",
    "tfidf=TfidfVectorizer()\n",
    "tfidf_mat=tfidf.fit_transform(data['tagstr'])\n",
    "# print (tfidf_mat[0])\n",
    "print (tfidf_mat[0])\n",
    "print (tfidf.get_feature_names())\n",
    "print (data['tagstr'][0])\n",
    "\n",
    "cosine_sim_tagstr = linear_kernel(tfidf_mat,tfidf_mat)\n",
    "cosine_sim_tagstr[10][:20]\n",
    "# cosine_sim_tagstr"
   ]
  },
  {
   "cell_type": "markdown",
   "metadata": {},
   "source": [
    "###  cosine similarity metric based on trail difficulty used as category"
   ]
  },
  {
   "cell_type": "code",
   "execution_count": 10,
   "metadata": {},
   "outputs": [
    {
     "data": {
      "text/plain": [
       "(1215, 1215)"
      ]
     },
     "execution_count": 10,
     "metadata": {},
     "output_type": "execute_result"
    }
   ],
   "source": [
    "# Create cosine similarity metric based on trail difficulty used as category\n",
    "data['difficulty'].astype('category')\n",
    "# data\n",
    "lb=LabelBinarizer()\n",
    "lb_diffic=lb.fit_transform(data['difficulty'])\n",
    "# lb_diffic[:12]\n",
    "# data.head(10)\n",
    "\n",
    "cosine_sim_diffic = linear_kernel(lb_diffic,lb_diffic)\n",
    "cosine_sim_diffic.shape"
   ]
  },
  {
   "cell_type": "markdown",
   "metadata": {},
   "source": [
    "### Reverse mapping of indices with corresponding trail names"
   ]
  },
  {
   "cell_type": "code",
   "execution_count": 11,
   "metadata": {},
   "outputs": [
    {
     "data": {
      "text/plain": [
       "1215"
      ]
     },
     "execution_count": 11,
     "metadata": {},
     "output_type": "execute_result"
    }
   ],
   "source": [
    "# Reverse map ofindices with corresponding trail names\n",
    "trail_indices=pd.Series(data.index, index=data['name']).drop_duplicates()\n",
    "len(trail_indices)\n",
    "# trail_indices"
   ]
  },
  {
   "cell_type": "code",
   "execution_count": 12,
   "metadata": {},
   "outputs": [
    {
     "name": "stderr",
     "output_type": "stream",
     "text": [
      "C:\\Users\\chtra\\Anaconda3\\lib\\site-packages\\scipy\\stats\\stats.py:1713: FutureWarning: Using a non-tuple sequence for multidimensional indexing is deprecated; use `arr[tuple(seq)]` instead of `arr[seq]`. In the future this will be interpreted as an array index, `arr[np.array(seq)]`, which will result either in an error or a different result.\n",
      "  return np.add.reduce(sorted[indexer] * weights, axis=axis) / sumval\n"
     ]
    },
    {
     "data": {
      "text/plain": [
       "<matplotlib.axes._subplots.AxesSubplot at 0x2464622dc88>"
      ]
     },
     "execution_count": 12,
     "metadata": {},
     "output_type": "execute_result"
    },
    {
     "data": {
      "image/png": "[encoded data removed]",
      "text/plain": [
       "<Figure size 432x288 with 1 Axes>"
      ]
     },
     "metadata": {
      "needs_background": "light"
     },
     "output_type": "display_data"
    }
   ],
   "source": [
    "# Testing numerical data\n",
    "elev=data['elevation']\n",
    "#Natural log of elevation\n",
    "log_elev=np.log(elev)\n",
    "data['log_elevation']=log_elev\n",
    "sns.kdeplot(log_elev)\n",
    "# data.head(5)"
   ]
  },
  {
   "cell_type": "code",
   "execution_count": 13,
   "metadata": {
    "scrolled": true
   },
   "outputs": [
    {
     "data": {
      "text/plain": [
       "<matplotlib.axes._subplots.AxesSubplot at 0x24647124b70>"
      ]
     },
     "execution_count": 13,
     "metadata": {},
     "output_type": "execute_result"
    },
    {
     "data": {
      "image/png": "[encoded data removed]",
      "text/plain": [
       "<Figure size 432x288 with 1 Axes>"
      ]
     },
     "metadata": {
      "needs_background": "light"
     },
     "output_type": "display_data"
    }
   ],
   "source": [
    "dist=data['distance']\n",
    "log_dist=np.log(dist)\n",
    "log_dist\n",
    "data['log_distance']=log_dist\n",
    "sns.kdeplot(log_dist)\n",
    "# data.head(2)"
   ]
  },
  {
   "cell_type": "markdown",
   "metadata": {},
   "source": [
    "###  cosine similarity metric for numerical data"
   ]
  },
  {
   "cell_type": "code",
   "execution_count": 14,
   "metadata": {
    "scrolled": true
   },
   "outputs": [
    {
     "data": {
      "text/plain": [
       "<matplotlib.axes._subplots.AxesSubplot at 0x246471d4ef0>"
      ]
     },
     "execution_count": 14,
     "metadata": {},
     "output_type": "execute_result"
    },
    {
     "data": {
      "image/png": "[encoded data removed]",
      "text/plain": [
       "<Figure size 432x288 with 1 Axes>"
      ]
     },
     "metadata": {
      "needs_background": "light"
     },
     "output_type": "display_data"
    }
   ],
   "source": [
    "num_data=data[['log_elevation','log_distance','stars']]\n",
    "sns.kdeplot(data['log_elevation'])\n",
    "sns.kdeplot(data['log_distance'])\n",
    "sns.kdeplot(data['stars'])\n",
    "# num_data['log_elevation']"
   ]
  },
  {
   "cell_type": "code",
   "execution_count": 15,
   "metadata": {},
   "outputs": [
    {
     "name": "stderr",
     "output_type": "stream",
     "text": [
      "C:\\Users\\chtra\\Anaconda3\\lib\\site-packages\\scipy\\stats\\stats.py:1713: FutureWarning: Using a non-tuple sequence for multidimensional indexing is deprecated; use `arr[tuple(seq)]` instead of `arr[seq]`. In the future this will be interpreted as an array index, `arr[np.array(seq)]`, which will result either in an error or a different result.\n",
      "  return np.add.reduce(sorted[indexer] * weights, axis=axis) / sumval\n"
     ]
    },
    {
     "data": {
      "text/plain": [
       "<matplotlib.axes._subplots.AxesSubplot at 0x246472465c0>"
      ]
     },
     "execution_count": 15,
     "metadata": {},
     "output_type": "execute_result"
    },
    {
     "data": {
      "image/png": "[encoded data removed]",
      "text/plain": [
       "<Figure size 432x288 with 1 Axes>"
      ]
     },
     "metadata": {
      "needs_background": "light"
     },
     "output_type": "display_data"
    }
   ],
   "source": [
    "# Robust scaling for numerical data\n",
    "scaler=RobustScaler()\n",
    "# scaler=StandardScaler()\n",
    "scaled_numdata=scaler.fit_transform(num_data)\n",
    "scaled_numdata=pd.DataFrame(scaled_numdata, columns=['log_elevation', 'log_distance', 'stars'])\n",
    "sns.kdeplot(scaled_numdata['log_elevation'])\n",
    "sns.kdeplot(scaled_numdata['log_distance'])\n",
    "sns.kdeplot(scaled_numdata['stars'])"
   ]
  },
  {
   "cell_type": "code",
   "execution_count": 16,
   "metadata": {},
   "outputs": [
    {
     "data": {
      "text/plain": [
       "(array([ 0.55788665, -0.03610592, -0.49512622, ...,  0.45589055,\n",
       "         2.11114822,  0.15141181]),\n",
       " array([-0.03610592,  0.16815323,  0.3060822 , ..., -0.27964914,\n",
       "        -1.19278599,  0.06182081]))"
      ]
     },
     "execution_count": 16,
     "metadata": {},
     "output_type": "execute_result"
    }
   ],
   "source": [
    "# Cosine similarity for numerical data\n",
    "scaled_numdata.shape\n",
    "cosine_sim_num = linear_kernel(scaled_numdata, scaled_numdata)\n",
    "cosine_sim_num1 = cosine_similarity(scaled_numdata, scaled_numdata)\n",
    "cosine_sim_num[0], cosine_sim_num[1]"
   ]
  },
  {
   "cell_type": "markdown",
   "metadata": {},
   "source": [
    "###  cosine similarity of numerical data - only elevation and distance"
   ]
  },
  {
   "cell_type": "code",
   "execution_count": 17,
   "metadata": {},
   "outputs": [
    {
     "name": "stderr",
     "output_type": "stream",
     "text": [
      "C:\\Users\\chtra\\Anaconda3\\lib\\site-packages\\scipy\\stats\\stats.py:1713: FutureWarning: Using a non-tuple sequence for multidimensional indexing is deprecated; use `arr[tuple(seq)]` instead of `arr[seq]`. In the future this will be interpreted as an array index, `arr[np.array(seq)]`, which will result either in an error or a different result.\n",
      "  return np.add.reduce(sorted[indexer] * weights, axis=axis) / sumval\n"
     ]
    },
    {
     "data": {
      "text/plain": [
       "<matplotlib.axes._subplots.AxesSubplot at 0x2464729ec50>"
      ]
     },
     "execution_count": 17,
     "metadata": {},
     "output_type": "execute_result"
    },
    {
     "data": {
      "image/png": "[encoded data removed]",
      "text/plain": [
       "<Figure size 432x288 with 1 Axes>"
      ]
     },
     "metadata": {
      "needs_background": "light"
     },
     "output_type": "display_data"
    }
   ],
   "source": [
    "num_data2=data[['log_elevation','log_distance']]\n",
    "sns.kdeplot(data['log_elevation'])\n",
    "sns.kdeplot(data['log_distance'])\n",
    "# num_data['log_elevation']"
   ]
  },
  {
   "cell_type": "code",
   "execution_count": 18,
   "metadata": {},
   "outputs": [
    {
     "name": "stderr",
     "output_type": "stream",
     "text": [
      "C:\\Users\\chtra\\Anaconda3\\lib\\site-packages\\scipy\\stats\\stats.py:1713: FutureWarning: Using a non-tuple sequence for multidimensional indexing is deprecated; use `arr[tuple(seq)]` instead of `arr[seq]`. In the future this will be interpreted as an array index, `arr[np.array(seq)]`, which will result either in an error or a different result.\n",
      "  return np.add.reduce(sorted[indexer] * weights, axis=axis) / sumval\n"
     ]
    },
    {
     "data": {
      "text/plain": [
       "<matplotlib.axes._subplots.AxesSubplot at 0x2464734b9e8>"
      ]
     },
     "execution_count": 18,
     "metadata": {},
     "output_type": "execute_result"
    },
    {
     "data": {
      "image/png": "[encoded data removed]",
      "text/plain": [
       "<Figure size 432x288 with 1 Axes>"
      ]
     },
     "metadata": {
      "needs_background": "light"
     },
     "output_type": "display_data"
    }
   ],
   "source": [
    "# Robust scaling for numerical data\n",
    "scaler=RobustScaler()\n",
    "# scaler=StandardScaler()\n",
    "scaled_numdata2=scaler.fit_transform(num_data2)\n",
    "scaled_numdata2=pd.DataFrame(scaled_numdata2, columns=['log_elevation', 'log_distance'])\n",
    "sns.kdeplot(scaled_numdata2['log_elevation'])\n",
    "sns.kdeplot(scaled_numdata2['log_distance'])"
   ]
  },
  {
   "cell_type": "code",
   "execution_count": 19,
   "metadata": {},
   "outputs": [
    {
     "data": {
      "text/plain": [
       "array([[ 1.        ,  0.97521905, -0.43241187, ...,  0.40333187,\n",
       "         0.73553754,  0.33880283],\n",
       "       [ 0.97521905,  1.        , -0.22220807, ...,  0.59578481,\n",
       "         0.8671978 ,  0.5385637 ],\n",
       "       [-0.43241187, -0.22220807,  1.        , ...,  0.65067672,\n",
       "         0.29281602,  0.70184636],\n",
       "       ...,\n",
       "       [ 0.40333187,  0.59578481,  0.65067672, ...,  1.        ,\n",
       "         0.91659999,  0.99758509],\n",
       "       [ 0.73553754,  0.8671978 ,  0.29281602, ...,  0.91659999,\n",
       "         1.        ,  0.88661801],\n",
       "       [ 0.33880283,  0.5385637 ,  0.70184636, ...,  0.99758509,\n",
       "         0.88661801,  1.        ]])"
      ]
     },
     "execution_count": 19,
     "metadata": {},
     "output_type": "execute_result"
    }
   ],
   "source": [
    "# Cosine similarity for numerical data\n",
    "scaled_numdata2.shape\n",
    "cosine_sim_num2 = linear_kernel(scaled_numdata2, scaled_numdata2)\n",
    "cosine_sim_num2c = cosine_similarity(scaled_numdata2, scaled_numdata2)\n",
    "cosine_sim_num2[0], cosine_sim_num2c[1]\n",
    "cosine_sim_num2c.shape\n",
    "cosine_sim_num2c"
   ]
  },
  {
   "cell_type": "markdown",
   "metadata": {},
   "source": [
    "###  Create cosine similarity based on all features"
   ]
  },
  {
   "cell_type": "code",
   "execution_count": 20,
   "metadata": {},
   "outputs": [
    {
     "data": {
      "text/plain": [
       "array([ 1.        ,  0.89425601,  0.8037629 ,  0.38365813, -0.13906687,\n",
       "        0.114582  ,  0.8884473 ,  0.13253397,  0.0605837 , -0.29819394])"
      ]
     },
     "execution_count": 20,
     "metadata": {},
     "output_type": "execute_result"
    }
   ],
   "source": [
    "#Combined features where only distance and elevation are used for the numerical data\n",
    "combined_features_sim2=np.concatenate([cosine_sim_tagstr, cosine_sim_diffic, cosine_sim_num2], axis=1)\n",
    "combined_features_sim2.shape\n",
    "\n",
    "#Calculate similarity matrix for combined features\n",
    "cosine_sim_allfeat2=cosine_similarity(combined_features_sim2, combined_features_sim2)\n",
    "cosine_sim_allfeat2[0][:10]\n",
    "# cosine_sim_allfeat2.shape"
   ]
  },
  {
   "cell_type": "code",
   "execution_count": null,
   "metadata": {},
   "outputs": [],
   "source": []
  },
  {
   "cell_type": "code",
   "execution_count": 21,
   "metadata": {},
   "outputs": [
    {
     "data": {
      "text/plain": [
       "numpy.ndarray"
      ]
     },
     "execution_count": 21,
     "metadata": {},
     "output_type": "execute_result"
    }
   ],
   "source": [
    "#Combined features where stars, distance and elevation are used for the numerical data\n",
    "combined_features_sim3=np.concatenate([cosine_sim_tagstr, cosine_sim_diffic, cosine_sim_num], axis=1)\n",
    "combined_features_sim3.shape\n",
    "\n",
    "#Calculate similarity matrix for combined features\n",
    "cosine_sim_allfeat3=cosine_similarity(combined_features_sim3, combined_features_sim3)\n",
    "type(cosine_sim_allfeat3)"
   ]
  },
  {
   "cell_type": "markdown",
   "metadata": {},
   "source": [
    "###  Write cosine similarity based on all features into a pickle file"
   ]
  },
  {
   "cell_type": "code",
   "execution_count": 22,
   "metadata": {},
   "outputs": [],
   "source": [
    "# mat=np.matrix(cosine_sim_allfeat2)\n",
    "# mat.dump('cosine_sim2.dat')\n",
    "\n",
    "np.savetxt('cosine_sim2.dat', cosine_sim_allfeat2)"
   ]
  },
  {
   "cell_type": "code",
   "execution_count": 23,
   "metadata": {},
   "outputs": [
    {
     "data": {
      "text/plain": [
       "numpy.ndarray"
      ]
     },
     "execution_count": 23,
     "metadata": {},
     "output_type": "execute_result"
    }
   ],
   "source": [
    "x=np.loadtxt('../data/cosine_sim2.dat')\n",
    "type(x)\n",
    "# x"
   ]
  },
  {
   "cell_type": "code",
   "execution_count": 24,
   "metadata": {},
   "outputs": [],
   "source": [
    "mat3=np.matrix(cosine_sim_allfeat3)\n",
    "mat3.dump('cosine_sim3.dat')\n"
   ]
  },
  {
   "cell_type": "code",
   "execution_count": 25,
   "metadata": {},
   "outputs": [
    {
     "data": {
      "text/html": [
       "<div>\n",
       "<style scoped>\n",
       "    .dataframe tbody tr th:only-of-type {\n",
       "        vertical-align: middle;\n",
       "    }\n",
       "\n",
       "    .dataframe tbody tr th {\n",
       "        vertical-align: top;\n",
       "    }\n",
       "\n",
       "    .dataframe thead th {\n",
       "        text-align: right;\n",
       "    }\n",
       "</style>\n",
       "<table border=\"1\" class=\"dataframe\">\n",
       "  <thead>\n",
       "    <tr style=\"text-align: right;\">\n",
       "      <th></th>\n",
       "      <th>difficulty</th>\n",
       "      <th>distance</th>\n",
       "      <th>elevation</th>\n",
       "      <th>name</th>\n",
       "      <th>nreviews</th>\n",
       "      <th>review</th>\n",
       "      <th>route_type</th>\n",
       "      <th>stars</th>\n",
       "      <th>trail_attributes</th>\n",
       "      <th>trailName</th>\n",
       "      <th>tagstr</th>\n",
       "      <th>urlname</th>\n",
       "      <th>tags_str</th>\n",
       "      <th>log_elevation</th>\n",
       "      <th>log_distance</th>\n",
       "    </tr>\n",
       "  </thead>\n",
       "  <tbody>\n",
       "    <tr>\n",
       "      <th>0</th>\n",
       "      <td>MODERATE</td>\n",
       "      <td>5.6</td>\n",
       "      <td>32.0</td>\n",
       "      <td>Taylor Creek Trail</td>\n",
       "      <td>23</td>\n",
       "      <td>Great for strollers, bikes etc. Opposite side ...</td>\n",
       "      <td>Out &amp; Back</td>\n",
       "      <td>3.7</td>\n",
       "      <td>[dogs on leash, wheelchair friendly, kid frien...</td>\n",
       "      <td>taylor creek trail</td>\n",
       "      <td>dogsonleash wheelchairfriendly kidfriendly str...</td>\n",
       "      <td>taylor-creek-trail</td>\n",
       "      <td>dogs on leash, wheelchair friendly, kid friend...</td>\n",
       "      <td>3.465736</td>\n",
       "      <td>1.722767</td>\n",
       "    </tr>\n",
       "    <tr>\n",
       "      <th>1</th>\n",
       "      <td>MODERATE</td>\n",
       "      <td>4.7</td>\n",
       "      <td>64.0</td>\n",
       "      <td>Hilton Falls Trail</td>\n",
       "      <td>238</td>\n",
       "      <td>What a gem! I was so pleasantly  surprised by ...</td>\n",
       "      <td>Loop</td>\n",
       "      <td>4.3</td>\n",
       "      <td>[dogs on leash, cross country skiing, fishing,...</td>\n",
       "      <td>hilton falls trail</td>\n",
       "      <td>dogsonleash crosscountryskiing fishing hiking ...</td>\n",
       "      <td>hilton-falls-trail</td>\n",
       "      <td>dogs on leash, cross country skiing, fishing, ...</td>\n",
       "      <td>4.158883</td>\n",
       "      <td>1.547563</td>\n",
       "    </tr>\n",
       "    <tr>\n",
       "      <th>2</th>\n",
       "      <td>MODERATE</td>\n",
       "      <td>2.3</td>\n",
       "      <td>100.0</td>\n",
       "      <td>Niagara Glen Trail</td>\n",
       "      <td>135</td>\n",
       "      <td>Beautiful area with several trails.  Loved exp...</td>\n",
       "      <td>Loop</td>\n",
       "      <td>4.7</td>\n",
       "      <td>[dogs on leash, kid friendly, hiking, nature t...</td>\n",
       "      <td>niagara glen trail</td>\n",
       "      <td>dogsonleash kidfriendly hiking naturetrips wal...</td>\n",
       "      <td>niagara-glen-trail</td>\n",
       "      <td>dogs on leash, kid friendly, hiking, nature tr...</td>\n",
       "      <td>4.605170</td>\n",
       "      <td>0.832909</td>\n",
       "    </tr>\n",
       "    <tr>\n",
       "      <th>3</th>\n",
       "      <td>MODERATE</td>\n",
       "      <td>7.2</td>\n",
       "      <td>128.0</td>\n",
       "      <td>Nassagaweya and Bruce Trail Loop from Rattlesn...</td>\n",
       "      <td>170</td>\n",
       "      <td>Great views! We went in January so there weren...</td>\n",
       "      <td>Loop</td>\n",
       "      <td>4.2</td>\n",
       "      <td>[dogs on leash, kid friendly, hiking, nature t...</td>\n",
       "      <td>nassagaweya and bruce trail loop from rattlesn...</td>\n",
       "      <td>dogsonleash kidfriendly hiking naturetrips sno...</td>\n",
       "      <td>nassagaweya-and-bruce-trail-loop-from-rattlesn...</td>\n",
       "      <td>dogs on leash, kid friendly, hiking, nature tr...</td>\n",
       "      <td>4.852030</td>\n",
       "      <td>1.974081</td>\n",
       "    </tr>\n",
       "    <tr>\n",
       "      <th>4</th>\n",
       "      <td>MODERATE</td>\n",
       "      <td>15.3</td>\n",
       "      <td>427.0</td>\n",
       "      <td>Lion's Head Loop Via Bruce Trail</td>\n",
       "      <td>117</td>\n",
       "      <td>Amazing trail with stunning lookouts. Hiked it...</td>\n",
       "      <td>Loop</td>\n",
       "      <td>4.8</td>\n",
       "      <td>[dogs on leash, hiking, nature trips, walking,...</td>\n",
       "      <td>lion's head loop via bruce trail</td>\n",
       "      <td>dogsonleash hiking naturetrips walking birdwat...</td>\n",
       "      <td>lion's-head-loop-via-bruce-trail-</td>\n",
       "      <td>dogs on leash, hiking, nature trips, walking, ...</td>\n",
       "      <td>6.056784</td>\n",
       "      <td>2.727853</td>\n",
       "    </tr>\n",
       "  </tbody>\n",
       "</table>\n",
       "</div>"
      ],
      "text/plain": [
       "  difficulty  distance  elevation  \\\n",
       "0   MODERATE       5.6       32.0   \n",
       "1   MODERATE       4.7       64.0   \n",
       "2   MODERATE       2.3      100.0   \n",
       "3   MODERATE       7.2      128.0   \n",
       "4   MODERATE      15.3      427.0   \n",
       "\n",
       "                                                name nreviews  \\\n",
       "0                                 Taylor Creek Trail       23   \n",
       "1                                 Hilton Falls Trail      238   \n",
       "2                                 Niagara Glen Trail      135   \n",
       "3  Nassagaweya and Bruce Trail Loop from Rattlesn...      170   \n",
       "4                  Lion's Head Loop Via Bruce Trail       117   \n",
       "\n",
       "                                              review  route_type  stars  \\\n",
       "0  Great for strollers, bikes etc. Opposite side ...  Out & Back    3.7   \n",
       "1  What a gem! I was so pleasantly  surprised by ...        Loop    4.3   \n",
       "2  Beautiful area with several trails.  Loved exp...        Loop    4.7   \n",
       "3  Great views! We went in January so there weren...        Loop    4.2   \n",
       "4  Amazing trail with stunning lookouts. Hiked it...        Loop    4.8   \n",
       "\n",
       "                                    trail_attributes  \\\n",
       "0  [dogs on leash, wheelchair friendly, kid frien...   \n",
       "1  [dogs on leash, cross country skiing, fishing,...   \n",
       "2  [dogs on leash, kid friendly, hiking, nature t...   \n",
       "3  [dogs on leash, kid friendly, hiking, nature t...   \n",
       "4  [dogs on leash, hiking, nature trips, walking,...   \n",
       "\n",
       "                                           trailName  \\\n",
       "0                                 taylor creek trail   \n",
       "1                                 hilton falls trail   \n",
       "2                                 niagara glen trail   \n",
       "3  nassagaweya and bruce trail loop from rattlesn...   \n",
       "4                  lion's head loop via bruce trail    \n",
       "\n",
       "                                              tagstr  \\\n",
       "0  dogsonleash wheelchairfriendly kidfriendly str...   \n",
       "1  dogsonleash crosscountryskiing fishing hiking ...   \n",
       "2  dogsonleash kidfriendly hiking naturetrips wal...   \n",
       "3  dogsonleash kidfriendly hiking naturetrips sno...   \n",
       "4  dogsonleash hiking naturetrips walking birdwat...   \n",
       "\n",
       "                                             urlname  \\\n",
       "0                                 taylor-creek-trail   \n",
       "1                                 hilton-falls-trail   \n",
       "2                                 niagara-glen-trail   \n",
       "3  nassagaweya-and-bruce-trail-loop-from-rattlesn...   \n",
       "4                  lion's-head-loop-via-bruce-trail-   \n",
       "\n",
       "                                            tags_str  log_elevation  \\\n",
       "0  dogs on leash, wheelchair friendly, kid friend...       3.465736   \n",
       "1  dogs on leash, cross country skiing, fishing, ...       4.158883   \n",
       "2  dogs on leash, kid friendly, hiking, nature tr...       4.605170   \n",
       "3  dogs on leash, kid friendly, hiking, nature tr...       4.852030   \n",
       "4  dogs on leash, hiking, nature trips, walking, ...       6.056784   \n",
       "\n",
       "   log_distance  \n",
       "0      1.722767  \n",
       "1      1.547563  \n",
       "2      0.832909  \n",
       "3      1.974081  \n",
       "4      2.727853  "
      ]
     },
     "execution_count": 25,
     "metadata": {},
     "output_type": "execute_result"
    }
   ],
   "source": [
    "data.head()"
   ]
  },
  {
   "cell_type": "code",
   "execution_count": 26,
   "metadata": {},
   "outputs": [
    {
     "name": "stdout",
     "output_type": "stream",
     "text": [
      "index 1\n",
      "[(442, 0.9829678736877491), (325, 0.9825410201954988), (130, 0.9728747080398896), (269, 0.968575693936848), (716, 0.965348896476093), (540, 0.9652673700929668), (1114, 0.9613720373617043), (896, 0.9612984335043019), (877, 0.9601624237303154), (154, 0.9597624255427394)]\n"
     ]
    }
   ],
   "source": [
    "cosine_sim=np.loadtxt('../data/cosine_sim2.dat')\n",
    "\n",
    "\n",
    "def recommendations_trailname(trail_name, cosine_sim=cosine_sim):\n",
    "    indices=pd.Series(data.index, index=data['name'].str.lower())\n",
    "    index=indices[trail_name]\n",
    "    print ('index', index)\n",
    "    #Extract pairwise similarity score with all trails for the input trail\n",
    "    similarity_scores=list(enumerate(cosine_sim[index]))\n",
    "#     print (similarity_scores)\n",
    "    #Sort scores to extract the top ranked trails\n",
    "    sorted_scores=sorted(similarity_scores, key=lambda x:x[1], reverse=True)\n",
    "    sorted_scores=sorted_scores[1:11]\n",
    "    print (sorted_scores)\n",
    "\n",
    "np.squeeze(np.array(cosine_sim))\n",
    "recommendations_trailname('hilton falls trail')"
   ]
  },
  {
   "cell_type": "code",
   "execution_count": 27,
   "metadata": {},
   "outputs": [],
   "source": [
    "# data['trailName']=data['name'].str.lower()\n",
    "# data"
   ]
  },
  {
   "cell_type": "markdown",
   "metadata": {},
   "source": [
    "###  Testing tag comparison with user input"
   ]
  },
  {
   "cell_type": "code",
   "execution_count": 28,
   "metadata": {},
   "outputs": [
    {
     "name": "stdout",
     "output_type": "stream",
     "text": [
      "dogsonleashkidfriendly\n"
     ]
    }
   ],
   "source": [
    "s1='dogsonleash'\n",
    "s2='kidfriendly'\n",
    "inpstr=str(s1) + str(s2)\n",
    "print (inpstr)\n",
    "tags=data['tagstr']\n",
    "tags_nospace=tags.replace(' ', '')\n",
    "# tags_nospace.head()\n",
    "\n",
    "unique_tags=pd.Series([tag for tags in data.trail_attributes for tag in tags]).unique()\n",
    "utags_nospace=sorted([tag.replace(' ', '') for tag in unique_tags])\n",
    "\n",
    "# unique_tags\n",
    "# utags_nospace"
   ]
  },
  {
   "cell_type": "code",
   "execution_count": 29,
   "metadata": {},
   "outputs": [],
   "source": [
    "cv=CountVectorizer(vocabulary='utags_nospace')\n",
    "# lbstr=pd.Series(cv.fit_transform(data['tagstr']),\n",
    "#                      data.index,\n",
    "#                      cv.get_feature_names(),\n",
    "#                      default_fill_value=0)\n",
    "\n",
    "# utags_nospace\n",
    "# data['tagstr'][0]"
   ]
  },
  {
   "cell_type": "markdown",
   "metadata": {},
   "source": [
    "###  Testing review text vectorization"
   ]
  },
  {
   "cell_type": "code",
   "execution_count": 30,
   "metadata": {},
   "outputs": [],
   "source": [
    "rev=data['review']\n",
    "# rev.head(2)\n",
    "rev1=rev[rev != '']\n",
    "# rev1[899]"
   ]
  },
  {
   "cell_type": "code",
   "execution_count": 31,
   "metadata": {},
   "outputs": [],
   "source": [
    "#Create dataframe with trail that have reviews (remove all trails with no reviews)\n",
    "data_rev=data[data['review'] != '']\n",
    "data.shape\n",
    "# sorted(data_rev.columns)\n",
    "cols=['name', 'route_type', 'difficulty', 'distance', 'elevation', 'log_distance', 'log_elevation', 'nreviews', 'review',\\\n",
    "      'stars', 'tags_str', 'tagstr', 'trailName', 'trail_attributes', 'urlname']\n",
    "# cols"
   ]
  },
  {
   "cell_type": "code",
   "execution_count": 32,
   "metadata": {},
   "outputs": [],
   "source": [
    "#Preprocess reviews text\n",
    "reviews=data_rev.review\n",
    "reviews=reviews.str.lower()\n",
    "# reviews=reviews.str.replace('\\\"', '')\n",
    "reviews=reviews.str.replace(\"\\'\", '')\n",
    "reviews=reviews.str.replace('\\\"', '')\n",
    "reviews=reviews.str.replace('\\!', ' ')\n",
    "reviews=reviews.str.replace('\\/', ' ')\n",
    "reviews=reviews.str.replace(',', ' ')\n",
    "reviews=reviews.str.replace('(', ' ')\n",
    "reviews=reviews.str.replace(')', ' ')\n",
    "reviews=reviews.str.replace('.', ' ')\n",
    "reviews=reviews.str.replace('\\d+', '')"
   ]
  },
  {
   "cell_type": "code",
   "execution_count": 35,
   "metadata": {},
   "outputs": [],
   "source": [
    "from nltk.stem import WordNetLemmatizer\n",
    "from nltk.stem.porter import *\n",
    "from nltk.tokenize import RegexpTokenizer, sent_tokenize, word_tokenize\n",
    "import gensim\n",
    "from gensim.utils import simple_preprocess\n",
    "from gensim.parsing.preprocessing import STOPWORDS\n",
    "def preprocess(text):\n",
    "    words=[word for sentence in sent_tokenize(text) for word in word_tokenize(sentence)]\n",
    "    words=[word for word in words if len(word)>3]\n",
    "    words=[word for word in words if word not in gensim.parsing.preprocessing.STOPWORDS]\n",
    "    #Lemmatize\n",
    "    words=[WordNetLemmatizer().lemmatize(word) for word in words]\n",
    "#     words=[PorterStemmer.stem(word) for word in words]\n",
    "    return words\n",
    "\n",
    "review_list=pd.Series.tolist(reviews)\n",
    "# print(review_list[0])\n",
    "\n",
    "preproc=list(preprocess(text) for text in review_list)"
   ]
  },
  {
   "cell_type": "code",
   "execution_count": 36,
   "metadata": {},
   "outputs": [],
   "source": [
    "rtfidf=TfidfVectorizer(stop_words='english')\n",
    "rtfidf_mat=rtfidf.fit_transform(review_list)\n",
    "# reviews.head()\n",
    "# print (rtfidf.get_feature_names())"
   ]
  }
 ],
 "metadata": {
  "kernelspec": {
   "display_name": "Python 3",
   "language": "python",
   "name": "python3"
  },
  "language_info": {
   "codemirror_mode": {
    "name": "ipython",
    "version": 3
   },
   "file_extension": ".py",
   "mimetype": "text/x-python",
   "name": "python",
   "nbconvert_exporter": "python",
   "pygments_lexer": "ipython3",
   "version": "3.7.1"
  }
 },
 "nbformat": 4,
 "nbformat_minor": 2
}
