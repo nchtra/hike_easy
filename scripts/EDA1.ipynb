{
 "cells": [
  {
   "cell_type": "markdown",
   "metadata": {},
   "source": [
    "## Exploratory Data Analysis (EDA)\n",
    "\n",
    "Goal - Create a similarity metric based on just the numerical data (elevation gain, distance, star rating)"
   ]
  },
  {
   "cell_type": "code",
   "execution_count": 4,
   "metadata": {},
   "outputs": [],
   "source": [
    "import pandas as pd\n",
    "import matplotlib.pyplot as plt\n",
    "from sklearn.feature_extraction.text import TfidfVectorizer\n",
    "import numpy as np"
   ]
  },
  {
   "cell_type": "markdown",
   "metadata": {},
   "source": [
    "### READ IN PICKLE DATA FILE"
   ]
  },
  {
   "cell_type": "code",
   "execution_count": 5,
   "metadata": {},
   "outputs": [],
   "source": [
    "#Read in pickle data file\n",
    "data=pd.read_pickle('../data/alltrails_ontario.pkl')\n",
    "data1=pd.read_pickle('../data/alltrails_ontario.pkl')\n",
    "# data1="
   ]
  },
  {
   "cell_type": "markdown",
   "metadata": {},
   "source": [
    "### CURATION\n",
    "1. Change trail attributes to string for TF-IDF\n",
    "2. Remove nan from elevation data"
   ]
  },
  {
   "cell_type": "code",
   "execution_count": 6,
   "metadata": {},
   "outputs": [
    {
     "name": "stderr",
     "output_type": "stream",
     "text": [
      "C:\\Users\\chtra\\Anaconda3.6\\lib\\site-packages\\ipykernel_launcher.py:2: SettingWithCopyWarning: \n",
      "A value is trying to be set on a copy of a slice from a DataFrame\n",
      "\n",
      "See the caveats in the documentation: http://pandas.pydata.org/pandas-docs/stable/indexing.html#indexing-view-versus-copy\n",
      "  \n"
     ]
    }
   ],
   "source": [
    "#Replace nan with 0. - I had to do this since elevation had a few rows with nan\n",
    "data.elevation[np.isnan(data.elevation)]=0.\n",
    "data_copy=data.copy()\n",
    "# data.distance.astype('float')\n",
    "# data.dtypes"
   ]
  },
  {
   "cell_type": "code",
   "execution_count": 7,
   "metadata": {},
   "outputs": [
    {
     "name": "stdout",
     "output_type": "stream",
     "text": [
      "['dogsonleash', 'wheelchairfriendly', 'kidfriendly', 'strollerfriendly', 'hiking', 'mountainbiking', 'naturetrips', 'snowshoeing', 'trailrunning', 'walking', 'forest', 'paved', 'views', 'snow']\n"
     ]
    },
    {
     "data": {
      "text/html": [
       "<div>\n",
       "<style scoped>\n",
       "    .dataframe tbody tr th:only-of-type {\n",
       "        vertical-align: middle;\n",
       "    }\n",
       "\n",
       "    .dataframe tbody tr th {\n",
       "        vertical-align: top;\n",
       "    }\n",
       "\n",
       "    .dataframe thead th {\n",
       "        text-align: right;\n",
       "    }\n",
       "</style>\n",
       "<table border=\"1\" class=\"dataframe\">\n",
       "  <thead>\n",
       "    <tr style=\"text-align: right;\">\n",
       "      <th></th>\n",
       "      <th>difficulty</th>\n",
       "      <th>distance</th>\n",
       "      <th>elevation</th>\n",
       "      <th>name</th>\n",
       "      <th>nreviews</th>\n",
       "      <th>review</th>\n",
       "      <th>route_type</th>\n",
       "      <th>stars</th>\n",
       "      <th>trail_attributes</th>\n",
       "      <th>tags</th>\n",
       "    </tr>\n",
       "  </thead>\n",
       "  <tbody>\n",
       "    <tr>\n",
       "      <th>0</th>\n",
       "      <td>MODERATE</td>\n",
       "      <td>5.6</td>\n",
       "      <td>32.0</td>\n",
       "      <td>Taylor Creek Trail</td>\n",
       "      <td>23</td>\n",
       "      <td>Great for strollers, bikes etc. Opposite side ...</td>\n",
       "      <td>Out &amp; Back</td>\n",
       "      <td>3.7</td>\n",
       "      <td>[dogs on leash, wheelchair friendly, kid frien...</td>\n",
       "      <td>dogsonleash wheelchairfriendly kidfriendly str...</td>\n",
       "    </tr>\n",
       "    <tr>\n",
       "      <th>1</th>\n",
       "      <td>MODERATE</td>\n",
       "      <td>4.7</td>\n",
       "      <td>64.0</td>\n",
       "      <td>Hilton Falls Trail</td>\n",
       "      <td>238</td>\n",
       "      <td>What a gem! I was so pleasantly  surprised by ...</td>\n",
       "      <td>Loop</td>\n",
       "      <td>4.3</td>\n",
       "      <td>[dogs on leash, cross country skiing, fishing,...</td>\n",
       "      <td>dogsonleash crosscountryskiing fishing hiking ...</td>\n",
       "    </tr>\n",
       "    <tr>\n",
       "      <th>2</th>\n",
       "      <td>MODERATE</td>\n",
       "      <td>2.3</td>\n",
       "      <td>100.0</td>\n",
       "      <td>Niagara Glen Trail</td>\n",
       "      <td>135</td>\n",
       "      <td>Beautiful area with several trails.  Loved exp...</td>\n",
       "      <td>Loop</td>\n",
       "      <td>4.7</td>\n",
       "      <td>[dogs on leash, kid friendly, hiking, nature t...</td>\n",
       "      <td>dogsonleash kidfriendly hiking naturetrips wal...</td>\n",
       "    </tr>\n",
       "    <tr>\n",
       "      <th>3</th>\n",
       "      <td>MODERATE</td>\n",
       "      <td>7.2</td>\n",
       "      <td>128.0</td>\n",
       "      <td>Nassagaweya and Bruce Trail Loop from Rattlesn...</td>\n",
       "      <td>170</td>\n",
       "      <td>Great views! We went in January so there weren...</td>\n",
       "      <td>Loop</td>\n",
       "      <td>4.2</td>\n",
       "      <td>[dogs on leash, kid friendly, hiking, nature t...</td>\n",
       "      <td>dogsonleash kidfriendly hiking naturetrips sno...</td>\n",
       "    </tr>\n",
       "    <tr>\n",
       "      <th>4</th>\n",
       "      <td>MODERATE</td>\n",
       "      <td>15.3</td>\n",
       "      <td>427.0</td>\n",
       "      <td>Lion's Head Loop Via Bruce Trail</td>\n",
       "      <td>117</td>\n",
       "      <td>Amazing trail with stunning lookouts. Hiked it...</td>\n",
       "      <td>Loop</td>\n",
       "      <td>4.8</td>\n",
       "      <td>[dogs on leash, hiking, nature trips, walking,...</td>\n",
       "      <td>dogsonleash hiking naturetrips walking birdwat...</td>\n",
       "    </tr>\n",
       "  </tbody>\n",
       "</table>\n",
       "</div>"
      ],
      "text/plain": [
       "  difficulty  distance  elevation  \\\n",
       "0   MODERATE       5.6       32.0   \n",
       "1   MODERATE       4.7       64.0   \n",
       "2   MODERATE       2.3      100.0   \n",
       "3   MODERATE       7.2      128.0   \n",
       "4   MODERATE      15.3      427.0   \n",
       "\n",
       "                                                name nreviews  \\\n",
       "0                                 Taylor Creek Trail       23   \n",
       "1                                 Hilton Falls Trail      238   \n",
       "2                                 Niagara Glen Trail      135   \n",
       "3  Nassagaweya and Bruce Trail Loop from Rattlesn...      170   \n",
       "4                  Lion's Head Loop Via Bruce Trail       117   \n",
       "\n",
       "                                              review  route_type  stars  \\\n",
       "0  Great for strollers, bikes etc. Opposite side ...  Out & Back    3.7   \n",
       "1  What a gem! I was so pleasantly  surprised by ...        Loop    4.3   \n",
       "2  Beautiful area with several trails.  Loved exp...        Loop    4.7   \n",
       "3  Great views! We went in January so there weren...        Loop    4.2   \n",
       "4  Amazing trail with stunning lookouts. Hiked it...        Loop    4.8   \n",
       "\n",
       "                                    trail_attributes  \\\n",
       "0  [dogs on leash, wheelchair friendly, kid frien...   \n",
       "1  [dogs on leash, cross country skiing, fishing,...   \n",
       "2  [dogs on leash, kid friendly, hiking, nature t...   \n",
       "3  [dogs on leash, kid friendly, hiking, nature t...   \n",
       "4  [dogs on leash, hiking, nature trips, walking,...   \n",
       "\n",
       "                                                tags  \n",
       "0  dogsonleash wheelchairfriendly kidfriendly str...  \n",
       "1  dogsonleash crosscountryskiing fishing hiking ...  \n",
       "2  dogsonleash kidfriendly hiking naturetrips wal...  \n",
       "3  dogsonleash kidfriendly hiking naturetrips sno...  \n",
       "4  dogsonleash hiking naturetrips walking birdwat...  "
      ]
     },
     "execution_count": 7,
     "metadata": {},
     "output_type": "execute_result"
    }
   ],
   "source": [
    "#Curate trail attributes to create single words for each array element\n",
    "trail_attributes=data.trail_attributes\n",
    "hattrib=[]\n",
    "for l1 in trail_attributes:\n",
    "    hattrib.append([l2.replace(' ', '') for l2 in l1])\n",
    "print (hattrib[0])\n",
    "\n",
    "# Add the curated attibutes as a new column ('tags') in data\n",
    "data['tags']=pd.Series(hattrib)\n",
    "#convert list of strings to text - this is necessary for running TFIDF\n",
    "data['tags']=[' '.join(tag) for tag in data.tags.values]\n",
    "# data.elevation[628]\n",
    "data.tags[0]\n",
    "# data[data['elevation']==0]\n",
    "data.head(5)"
   ]
  },
  {
   "cell_type": "code",
   "execution_count": 8,
   "metadata": {},
   "outputs": [
    {
     "data": {
      "text/html": [
       "<div>\n",
       "<style scoped>\n",
       "    .dataframe tbody tr th:only-of-type {\n",
       "        vertical-align: middle;\n",
       "    }\n",
       "\n",
       "    .dataframe tbody tr th {\n",
       "        vertical-align: top;\n",
       "    }\n",
       "\n",
       "    .dataframe thead th {\n",
       "        text-align: right;\n",
       "    }\n",
       "</style>\n",
       "<table border=\"1\" class=\"dataframe\">\n",
       "  <thead>\n",
       "    <tr style=\"text-align: right;\">\n",
       "      <th></th>\n",
       "      <th>difficulty</th>\n",
       "      <th>distance</th>\n",
       "      <th>elevation</th>\n",
       "      <th>name</th>\n",
       "      <th>nreviews</th>\n",
       "      <th>review</th>\n",
       "      <th>route_type</th>\n",
       "      <th>stars</th>\n",
       "      <th>trail_attributes</th>\n",
       "      <th>tags</th>\n",
       "      <th>num_difficulty</th>\n",
       "    </tr>\n",
       "  </thead>\n",
       "  <tbody>\n",
       "    <tr>\n",
       "      <th>0</th>\n",
       "      <td>MODERATE</td>\n",
       "      <td>5.6</td>\n",
       "      <td>32.0</td>\n",
       "      <td>Taylor Creek Trail</td>\n",
       "      <td>23</td>\n",
       "      <td>Great for strollers, bikes etc. Opposite side ...</td>\n",
       "      <td>Out &amp; Back</td>\n",
       "      <td>3.7</td>\n",
       "      <td>[dogs on leash, wheelchair friendly, kid frien...</td>\n",
       "      <td>dogsonleash wheelchairfriendly kidfriendly str...</td>\n",
       "      <td>[1, 1]</td>\n",
       "    </tr>\n",
       "    <tr>\n",
       "      <th>1</th>\n",
       "      <td>MODERATE</td>\n",
       "      <td>4.7</td>\n",
       "      <td>64.0</td>\n",
       "      <td>Hilton Falls Trail</td>\n",
       "      <td>238</td>\n",
       "      <td>What a gem! I was so pleasantly  surprised by ...</td>\n",
       "      <td>Loop</td>\n",
       "      <td>4.3</td>\n",
       "      <td>[dogs on leash, cross country skiing, fishing,...</td>\n",
       "      <td>dogsonleash crosscountryskiing fishing hiking ...</td>\n",
       "      <td>[1, 1]</td>\n",
       "    </tr>\n",
       "    <tr>\n",
       "      <th>2</th>\n",
       "      <td>MODERATE</td>\n",
       "      <td>2.3</td>\n",
       "      <td>100.0</td>\n",
       "      <td>Niagara Glen Trail</td>\n",
       "      <td>135</td>\n",
       "      <td>Beautiful area with several trails.  Loved exp...</td>\n",
       "      <td>Loop</td>\n",
       "      <td>4.7</td>\n",
       "      <td>[dogs on leash, kid friendly, hiking, nature t...</td>\n",
       "      <td>dogsonleash kidfriendly hiking naturetrips wal...</td>\n",
       "      <td>[1, 1]</td>\n",
       "    </tr>\n",
       "    <tr>\n",
       "      <th>3</th>\n",
       "      <td>MODERATE</td>\n",
       "      <td>7.2</td>\n",
       "      <td>128.0</td>\n",
       "      <td>Nassagaweya and Bruce Trail Loop from Rattlesn...</td>\n",
       "      <td>170</td>\n",
       "      <td>Great views! We went in January so there weren...</td>\n",
       "      <td>Loop</td>\n",
       "      <td>4.2</td>\n",
       "      <td>[dogs on leash, kid friendly, hiking, nature t...</td>\n",
       "      <td>dogsonleash kidfriendly hiking naturetrips sno...</td>\n",
       "      <td>[1, 1]</td>\n",
       "    </tr>\n",
       "    <tr>\n",
       "      <th>4</th>\n",
       "      <td>MODERATE</td>\n",
       "      <td>15.3</td>\n",
       "      <td>427.0</td>\n",
       "      <td>Lion's Head Loop Via Bruce Trail</td>\n",
       "      <td>117</td>\n",
       "      <td>Amazing trail with stunning lookouts. Hiked it...</td>\n",
       "      <td>Loop</td>\n",
       "      <td>4.8</td>\n",
       "      <td>[dogs on leash, hiking, nature trips, walking,...</td>\n",
       "      <td>dogsonleash hiking naturetrips walking birdwat...</td>\n",
       "      <td>[1, 1]</td>\n",
       "    </tr>\n",
       "  </tbody>\n",
       "</table>\n",
       "</div>"
      ],
      "text/plain": [
       "  difficulty  distance  elevation  \\\n",
       "0   MODERATE       5.6       32.0   \n",
       "1   MODERATE       4.7       64.0   \n",
       "2   MODERATE       2.3      100.0   \n",
       "3   MODERATE       7.2      128.0   \n",
       "4   MODERATE      15.3      427.0   \n",
       "\n",
       "                                                name nreviews  \\\n",
       "0                                 Taylor Creek Trail       23   \n",
       "1                                 Hilton Falls Trail      238   \n",
       "2                                 Niagara Glen Trail      135   \n",
       "3  Nassagaweya and Bruce Trail Loop from Rattlesn...      170   \n",
       "4                  Lion's Head Loop Via Bruce Trail       117   \n",
       "\n",
       "                                              review  route_type  stars  \\\n",
       "0  Great for strollers, bikes etc. Opposite side ...  Out & Back    3.7   \n",
       "1  What a gem! I was so pleasantly  surprised by ...        Loop    4.3   \n",
       "2  Beautiful area with several trails.  Loved exp...        Loop    4.7   \n",
       "3  Great views! We went in January so there weren...        Loop    4.2   \n",
       "4  Amazing trail with stunning lookouts. Hiked it...        Loop    4.8   \n",
       "\n",
       "                                    trail_attributes  \\\n",
       "0  [dogs on leash, wheelchair friendly, kid frien...   \n",
       "1  [dogs on leash, cross country skiing, fishing,...   \n",
       "2  [dogs on leash, kid friendly, hiking, nature t...   \n",
       "3  [dogs on leash, kid friendly, hiking, nature t...   \n",
       "4  [dogs on leash, hiking, nature trips, walking,...   \n",
       "\n",
       "                                                tags num_difficulty  \n",
       "0  dogsonleash wheelchairfriendly kidfriendly str...         [1, 1]  \n",
       "1  dogsonleash crosscountryskiing fishing hiking ...         [1, 1]  \n",
       "2  dogsonleash kidfriendly hiking naturetrips wal...         [1, 1]  \n",
       "3  dogsonleash kidfriendly hiking naturetrips sno...         [1, 1]  \n",
       "4  dogsonleash hiking naturetrips walking birdwat...         [1, 1]  "
      ]
     },
     "execution_count": 8,
     "metadata": {},
     "output_type": "execute_result"
    }
   ],
   "source": [
    "#Convert difficulty rating to a 2D array (Easy-[1,0], moderate-[1,1], hard-[0,1])\n",
    "difficulty=data.difficulty\n",
    "arr=[]\n",
    "for i in difficulty:\n",
    "    if i=='EASY':\n",
    "        arr.append([1,0])\n",
    "    elif i=='MODERATE':\n",
    "        arr.append([1,1])\n",
    "    elif i=='HARD':\n",
    "        arr.append([0,1])\n",
    "# arr\n",
    "data['num_difficulty']=arr\n",
    "data.head(5)"
   ]
  },
  {
   "cell_type": "code",
   "execution_count": 9,
   "metadata": {},
   "outputs": [],
   "source": [
    "data.to_pickle('alltrails_ontario_curated.pkl')"
   ]
  },
  {
   "cell_type": "markdown",
   "metadata": {},
   "source": [
    "### Check numerical data\n"
   ]
  },
  {
   "cell_type": "code",
   "execution_count": 10,
   "metadata": {},
   "outputs": [],
   "source": [
    "# Create scaling for numerical data\n",
    "from sklearn.preprocessing import StandardScaler, MinMaxScaler, RobustScaler, OneHotEncoder ,LabelBinarizer\n",
    "import seaborn as sns\n",
    "import matplotlib\n",
    "import matplotlib.pyplot as plt"
   ]
  },
  {
   "cell_type": "markdown",
   "metadata": {},
   "source": [
    "### Euclidean distance metric for numerical data"
   ]
  },
  {
   "cell_type": "code",
   "execution_count": 54,
   "metadata": {},
   "outputs": [
    {
     "name": "stdout",
     "output_type": "stream",
     "text": [
      "703\n"
     ]
    },
    {
     "data": {
      "text/html": [
       "<div>\n",
       "<style scoped>\n",
       "    .dataframe tbody tr th:only-of-type {\n",
       "        vertical-align: middle;\n",
       "    }\n",
       "\n",
       "    .dataframe tbody tr th {\n",
       "        vertical-align: top;\n",
       "    }\n",
       "\n",
       "    .dataframe thead th {\n",
       "        text-align: right;\n",
       "    }\n",
       "</style>\n",
       "<table border=\"1\" class=\"dataframe\">\n",
       "  <thead>\n",
       "    <tr style=\"text-align: right;\">\n",
       "      <th></th>\n",
       "      <th>name</th>\n",
       "      <th>distance</th>\n",
       "      <th>elevation</th>\n",
       "      <th>stars</th>\n",
       "      <th>trail_attributes</th>\n",
       "    </tr>\n",
       "  </thead>\n",
       "  <tbody>\n",
       "    <tr>\n",
       "      <th>703</th>\n",
       "      <td>Bruce, Woodland, and Escarpment Trails Loop fr...</td>\n",
       "      <td>8.5</td>\n",
       "      <td>99.0</td>\n",
       "      <td>4.5</td>\n",
       "      <td>[dogs on leash, kid friendly, hiking, nature t...</td>\n",
       "    </tr>\n",
       "    <tr>\n",
       "      <th>1203</th>\n",
       "      <td>Cedar Lake South Loop Trail</td>\n",
       "      <td>9.0</td>\n",
       "      <td>102.0</td>\n",
       "      <td>4.0</td>\n",
       "      <td>[camping, hiking, nature trips, trail running,...</td>\n",
       "    </tr>\n",
       "    <tr>\n",
       "      <th>94</th>\n",
       "      <td>Mer Bleue Conservation Area Loop Trail</td>\n",
       "      <td>7.1</td>\n",
       "      <td>100.0</td>\n",
       "      <td>3.8</td>\n",
       "      <td>[dogs on leash, cross country skiing, hiking, ...</td>\n",
       "    </tr>\n",
       "    <tr>\n",
       "      <th>95</th>\n",
       "      <td>Moore Park Ravine to David Balfour Park Loop</td>\n",
       "      <td>7.6</td>\n",
       "      <td>102.0</td>\n",
       "      <td>4.5</td>\n",
       "      <td>[dogs on leash, kid friendly, hiking, nature t...</td>\n",
       "    </tr>\n",
       "    <tr>\n",
       "      <th>218</th>\n",
       "      <td>Foley Mountain Loop Trail</td>\n",
       "      <td>6.6</td>\n",
       "      <td>100.0</td>\n",
       "      <td>4.0</td>\n",
       "      <td>[dogs on leash, kid friendly, hiking, nature t...</td>\n",
       "    </tr>\n",
       "    <tr>\n",
       "      <th>631</th>\n",
       "      <td>Seguin Recreational Trail</td>\n",
       "      <td>7.9</td>\n",
       "      <td>103.0</td>\n",
       "      <td>4.3</td>\n",
       "      <td>[dog friendly, kid friendly, hiking, mountain ...</td>\n",
       "    </tr>\n",
       "    <tr>\n",
       "      <th>261</th>\n",
       "      <td>Happy Valley Via Oak Ridges Trail</td>\n",
       "      <td>6.4</td>\n",
       "      <td>99.0</td>\n",
       "      <td>4.2</td>\n",
       "      <td>[dogs on leash, kid friendly, hiking, walking]</td>\n",
       "    </tr>\n",
       "    <tr>\n",
       "      <th>280</th>\n",
       "      <td>Speyside Trail</td>\n",
       "      <td>13.7</td>\n",
       "      <td>101.0</td>\n",
       "      <td>3.9</td>\n",
       "      <td>[dog friendly, hiking, nature trips, trail run...</td>\n",
       "    </tr>\n",
       "    <tr>\n",
       "      <th>60</th>\n",
       "      <td>Newtonbrook Creek Pathway</td>\n",
       "      <td>9.8</td>\n",
       "      <td>96.0</td>\n",
       "      <td>4.2</td>\n",
       "      <td>[dogs on leash, wheelchair friendly, stroller ...</td>\n",
       "    </tr>\n",
       "    <tr>\n",
       "      <th>223</th>\n",
       "      <td>Hanlon Creek Trail</td>\n",
       "      <td>6.0</td>\n",
       "      <td>98.0</td>\n",
       "      <td>4.1</td>\n",
       "      <td>[dog friendly, cross country skiing, hiking, n...</td>\n",
       "    </tr>\n",
       "  </tbody>\n",
       "</table>\n",
       "</div>"
      ],
      "text/plain": [
       "                                                   name  distance  elevation  \\\n",
       "703   Bruce, Woodland, and Escarpment Trails Loop fr...       8.5       99.0   \n",
       "1203                       Cedar Lake South Loop Trail        9.0      102.0   \n",
       "94               Mer Bleue Conservation Area Loop Trail       7.1      100.0   \n",
       "95         Moore Park Ravine to David Balfour Park Loop       7.6      102.0   \n",
       "218                           Foley Mountain Loop Trail       6.6      100.0   \n",
       "631                           Seguin Recreational Trail       7.9      103.0   \n",
       "261                   Happy Valley Via Oak Ridges Trail       6.4       99.0   \n",
       "280                                      Speyside Trail      13.7      101.0   \n",
       "60                            Newtonbrook Creek Pathway       9.8       96.0   \n",
       "223                                  Hanlon Creek Trail       6.0       98.0   \n",
       "\n",
       "      stars                                   trail_attributes  \n",
       "703     4.5  [dogs on leash, kid friendly, hiking, nature t...  \n",
       "1203    4.0  [camping, hiking, nature trips, trail running,...  \n",
       "94      3.8  [dogs on leash, cross country skiing, hiking, ...  \n",
       "95      4.5  [dogs on leash, kid friendly, hiking, nature t...  \n",
       "218     4.0  [dogs on leash, kid friendly, hiking, nature t...  \n",
       "631     4.3  [dog friendly, kid friendly, hiking, mountain ...  \n",
       "261     4.2     [dogs on leash, kid friendly, hiking, walking]  \n",
       "280     3.9  [dog friendly, hiking, nature trips, trail run...  \n",
       "60      4.2  [dogs on leash, wheelchair friendly, stroller ...  \n",
       "223     4.1  [dog friendly, cross country skiing, hiking, n...  "
      ]
     },
     "execution_count": 54,
     "metadata": {},
     "output_type": "execute_result"
    }
   ],
   "source": [
    "from sklearn.metrics.pairwise import cosine_similarity, euclidean_distances\n",
    "from scipy.spatial.distance import cdist\n",
    "\n",
    "#Create Euclidean distance based scaling based for numerical data\n",
    "numerical_data=data[['elevation','distance','stars']]\n",
    "# scaler=StandardScaler().fit_transform(numerical_data)\n",
    "\n",
    "#Test input from user\n",
    "tst = [[100,10,4]]\n",
    "distance=euclidean_distances(numerical_data,tst)\n",
    "dft_sort=pd.DataFrame.from_records(distance).sort_values(by=0)\n",
    "top10=dft_sort[:10].index.values\n",
    "print (top10[0])\n",
    "df_out=data.iloc[dft_sort[:10].index.values][['name', 'distance', 'elevation', 'stars', 'trail_attributes']]\n",
    "df_out=data.iloc[top10][['name', 'distance', 'elevation', 'stars', 'trail_attributes']]\n",
    "df_out\n",
    "# dft_sort\n",
    "# print (top10)\n",
    "# data.iloc[dft_sort[:10].index.values, ][['name']]\n",
    "# data[data['elevation']>1000]"
   ]
  },
  {
   "cell_type": "code",
   "execution_count": 52,
   "metadata": {},
   "outputs": [
    {
     "data": {
      "text/plain": [
       "array([[0.00701908, 0.02830189, 0.74      ],\n",
       "       [0.01403817, 0.02358491, 0.86      ],\n",
       "       [0.02193463, 0.01100629, 0.94      ],\n",
       "       ...,\n",
       "       [0.01162536, 0.01415094, 0.66      ],\n",
       "       [0.00263216, 0.00890985, 0.2       ],\n",
       "       [0.01030928, 0.01100629, 0.8       ]])"
      ]
     },
     "execution_count": 52,
     "metadata": {},
     "output_type": "execute_result"
    }
   ],
   "source": [
    "scaler=MinMaxScaler()\n",
    "numerical_data=data[['elevation','distance','stars']]\n",
    "# scaled_num[['elevation','distance','stars']]\n",
    "scaled_num=scaler.fit_transform(numerical_data[['elevation','distance','stars']])\n",
    "# numerical_data\n",
    "scaled_num"
   ]
  },
  {
   "cell_type": "code",
   "execution_count": 17,
   "metadata": {},
   "outputs": [],
   "source": [
    "trail_names=data['name'].str.lower()\n",
    "# trail_names\n",
    "names=[name for name in trail_names]\n",
    "# names"
   ]
  },
  {
   "cell_type": "code",
   "execution_count": 47,
   "metadata": {},
   "outputs": [
    {
     "name": "stdout",
     "output_type": "stream",
     "text": [
      "4559.0\n"
     ]
    },
    {
     "data": {
      "text/plain": [
       "MinMaxScaler(copy=True,\n",
       "       feature_range=0        32.0\n",
       "1        64.0\n",
       "2       100.0\n",
       "3       128.0\n",
       "4       427.0\n",
       "5       222.0\n",
       "6        71.0\n",
       "7       197.0\n",
       "8       259.0\n",
       "9       301.0\n",
       "10      460.0\n",
       "11       81.0\n",
       "12       93.0\n",
       "13      370.0\n",
       "14      156.0\n",
       "15      174.0\n",
       "16      106.0\n",
       "17       93.0\n",
       "18      408.0\n",
       "19       57.0\n",
       "20    ...211     33.0\n",
       "1212     53.0\n",
       "1213     12.0\n",
       "1214     47.0\n",
       "Name: elevation, Length: 1215, dtype: float64)"
      ]
     },
     "execution_count": 47,
     "metadata": {},
     "output_type": "execute_result"
    }
   ],
   "source": [
    "#Numerical data normalization\n",
    "numerical_data=data[['elevation','distance','stars']]\n",
    "elev=data['elevation']\n",
    "scaled_elev=MinMaxScaler(elev)\n",
    "print (max(elev))\n",
    "\n",
    "scaler=RobustScaler()\n",
    "scaled_mnd=scaler.fit_transform(numerical_data)\n",
    "scaled_mnd=pd.DataFrame(scaled_mnd, columns=['elevation','distance','stars'])\n",
    "\n",
    "#Cosine similarity for numerical data\n",
    "# cosine_sim_num=cosine_similarity(scaled_mnd,scaled_mnd)\n",
    "cosine_sim_num=cosine_similarity(numerical_data,numerical_data)\n",
    "cosine_sim_num[10][200]\n",
    "scaled_elev\n",
    "# scaled_mnd"
   ]
  },
  {
   "cell_type": "markdown",
   "metadata": {},
   "source": [
    "###  Test  similarity based on numerical data"
   ]
  },
  {
   "cell_type": "code",
   "execution_count": 91,
   "metadata": {
    "scrolled": true
   },
   "outputs": [
    {
     "name": "stdout",
     "output_type": "stream",
     "text": [
      "[92]\n"
     ]
    },
    {
     "data": {
      "text/plain": [
       "difficulty                                                   MODERATE\n",
       "distance                                                          5.6\n",
       "elevation                                                          32\n",
       "name                                               Taylor Creek Trail\n",
       "nreviews                                                           23\n",
       "review              Great for strollers, bikes etc. Opposite side ...\n",
       "route_type                                                 Out & Back\n",
       "stars                                                             3.7\n",
       "trail_attributes    [dogs on leash, wheelchair friendly, kid frien...\n",
       "tags                dogsonleash wheelchairfriendly kidfriendly str...\n",
       "num_difficulty                                                 [1, 1]\n",
       "Name: 0, dtype: object"
      ]
     },
     "execution_count": 91,
     "metadata": {},
     "output_type": "execute_result"
    }
   ],
   "source": [
    "trail_ui='Manitou Mountaion Trail to Calabogie Lake Loop'\n",
    "\n",
    "#Extract index for user input trail name\n",
    "# idx=data.index[data['name']=='Point Pelee Tip and East Point Beach'].tolist()\n",
    "idx=data.index[data['name']==trail_ui].tolist()\n",
    "# print (idx[0])\n",
    "print (idx)\n",
    "\n",
    "#Compute pairwise similarity score\n",
    "# score=list(enumerate(cosine_sim_num[idx[0]]))\n",
    "# print (score[313])\n",
    "# sorted_score=sorted(score,key=lambda x: x[1],reverse=True)\n",
    "# sorted_score[1:40]\n",
    "# print (data.iloc[1])\n",
    "# print (data.iloc[292])\n",
    "data.iloc[0]"
   ]
  },
  {
   "cell_type": "code",
   "execution_count": 93,
   "metadata": {
    "scrolled": true
   },
   "outputs": [
    {
     "name": "stdout",
     "output_type": "stream",
     "text": [
      "92\n"
     ]
    },
    {
     "data": {
      "text/plain": [
       "difficulty                                                   MODERATE\n",
       "distance                                                          5.6\n",
       "elevation                                                          32\n",
       "name                                               Taylor Creek Trail\n",
       "nreviews                                                           23\n",
       "review              Great for strollers, bikes etc. Opposite side ...\n",
       "route_type                                                 Out & Back\n",
       "stars                                                             3.7\n",
       "trail_attributes    [dogs on leash, wheelchair friendly, kid frien...\n",
       "tags                dogsonleash wheelchairfriendly kidfriendly str...\n",
       "num_difficulty                                                 [1, 1]\n",
       "Name: 0, dtype: object"
      ]
     },
     "execution_count": 93,
     "metadata": {},
     "output_type": "execute_result"
    }
   ],
   "source": [
    "trail_ui='Manitou Mountaion Trail to Calabogie Lake Loop'\n",
    "\n",
    "#Extract index for user input trail name\n",
    "# idx=data.index[data['name']=='Point Pelee Tip and East Point Beach'].tolist()\n",
    "idx=data.index[data['name']==trail_ui].tolist()\n",
    "# print (idx[0])\n",
    "print (idx[0])\n",
    "\n",
    "#Compute pairwise similarity score\n",
    "# score=list(enumerate(cosine_sim_num[idx[0]]))\n",
    "# print (score[313])\n",
    "# sorted_score=sorted(score,key=lambda x: x[1],reverse=True)\n",
    "# sorted_score[1:40]\n",
    "# print (data.iloc[1])\n",
    "# print (data.iloc[292])\n",
    "data.iloc[0]"
   ]
  },
  {
   "cell_type": "code",
   "execution_count": 76,
   "metadata": {},
   "outputs": [
    {
     "data": {
      "text/plain": [
       "array([1., 1., 1., 1., 1., 1., 1., 1., 1., 0., 0., 0., 1., 0., 1.])"
      ]
     },
     "execution_count": 76,
     "metadata": {},
     "output_type": "execute_result"
    }
   ],
   "source": [
    "#Not sure I cando this when it's a user input\n",
    "tst=[1,0,0]\n",
    "\n",
    "train=[[1,0,0], [0,0,1], [0,1,0],[1,0,0],[0,0,1]]\n",
    "\n",
    "difficulty=data[['difficulty']]\n",
    "difficulty=difficulty.astype('category')\n",
    "\n",
    "lbt=LabelBinarizer()\n",
    "diffic_cat=lbt.fit_transform(difficulty)\n",
    "# scaler_diffic=StandardScaler().fit_transform(diffic_cat)\n",
    "# train\n",
    "scaler_diffic\n",
    "cosine_sim_diffic=cosine_similarity(scaler_diffic,scaler_diffic)\n",
    "cosine_sim_diffic\n",
    "# scaler_diffic\n",
    "# diffic_cat\n",
    "cos_simd=cosine_similarity(diffic_cat, diffic_cat)\n",
    "cos_simd[0][:15]\n",
    "# difficulty\n",
    "# scaler_diffic"
   ]
  },
  {
   "cell_type": "code",
   "execution_count": 83,
   "metadata": {},
   "outputs": [
    {
     "data": {
      "text/plain": [
       "32.0"
      ]
     },
     "execution_count": 83,
     "metadata": {},
     "output_type": "execute_result"
    }
   ],
   "source": [
    "# Text processing\n",
    "indx=0\n",
    "data1.iloc[indx]['elevation']\n",
    "# data1\n",
    "# print (idx)"
   ]
  }
 ],
 "metadata": {
  "kernelspec": {
   "display_name": "Python 3",
   "language": "python",
   "name": "python3"
  },
  "language_info": {
   "codemirror_mode": {
    "name": "ipython",
    "version": 3
   },
   "file_extension": ".py",
   "mimetype": "text/x-python",
   "name": "python",
   "nbconvert_exporter": "python",
   "pygments_lexer": "ipython3",
   "version": "3.6.5"
  }
 },
 "nbformat": 4,
 "nbformat_minor": 2
}
