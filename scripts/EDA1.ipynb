{
 "cells": [
  {
   "cell_type": "markdown",
   "metadata": {},
   "source": [
    "## Exploratory Data Analysis (EDA)\n",
    "\n",
    "Goal - Create a similarity metric based on just the numerical data (elevation gain, distance, star rating)"
   ]
  },
  {
   "cell_type": "code",
   "execution_count": 148,
   "metadata": {},
   "outputs": [],
   "source": [
    "import pandas as pd\n",
    "import matplotlib.pyplot as plt\n",
    "from sklearn.feature_extraction.text import TfidfVectorizer\n",
    "import numpy as np"
   ]
  },
  {
   "cell_type": "markdown",
   "metadata": {},
   "source": [
    "### READ IN PICKLE DATA FILE"
   ]
  },
  {
   "cell_type": "code",
   "execution_count": 149,
   "metadata": {},
   "outputs": [],
   "source": [
    "#Read in pickle data file\n",
    "data=pd.read_pickle('../data/alltrails_ontario.pkl')\n",
    "data1=pd.read_pickle('../data/alltrails_ontario.pkl')\n",
    "# data1="
   ]
  },
  {
   "cell_type": "markdown",
   "metadata": {},
   "source": [
    "### CURATION\n",
    "1. Change trail attributes to string for TF-IDF\n",
    "2. Remove nan from elevation data"
   ]
  },
  {
   "cell_type": "code",
   "execution_count": 150,
   "metadata": {},
   "outputs": [
    {
     "name": "stderr",
     "output_type": "stream",
     "text": [
      "C:\\Users\\chtra\\Anaconda3.6\\lib\\site-packages\\ipykernel_launcher.py:2: SettingWithCopyWarning: \n",
      "A value is trying to be set on a copy of a slice from a DataFrame\n",
      "\n",
      "See the caveats in the documentation: http://pandas.pydata.org/pandas-docs/stable/indexing.html#indexing-view-versus-copy\n",
      "  \n"
     ]
    }
   ],
   "source": [
    "#Replace nan with 0. - I had to do this since elevation had a few rows with nan\n",
    "data.elevation[np.isnan(data.elevation)]=0.\n",
    "data_copy=data.copy()\n",
    "# data.distance.astype('float')\n",
    "# data.dtypes"
   ]
  },
  {
   "cell_type": "code",
   "execution_count": 151,
   "metadata": {},
   "outputs": [
    {
     "name": "stdout",
     "output_type": "stream",
     "text": [
      "['dogsonleash', 'wheelchairfriendly', 'kidfriendly', 'strollerfriendly', 'hiking', 'mountainbiking', 'naturetrips', 'snowshoeing', 'trailrunning', 'walking', 'forest', 'paved', 'views', 'snow']\n"
     ]
    },
    {
     "data": {
      "text/html": [
       "<div>\n",
       "<style scoped>\n",
       "    .dataframe tbody tr th:only-of-type {\n",
       "        vertical-align: middle;\n",
       "    }\n",
       "\n",
       "    .dataframe tbody tr th {\n",
       "        vertical-align: top;\n",
       "    }\n",
       "\n",
       "    .dataframe thead th {\n",
       "        text-align: right;\n",
       "    }\n",
       "</style>\n",
       "<table border=\"1\" class=\"dataframe\">\n",
       "  <thead>\n",
       "    <tr style=\"text-align: right;\">\n",
       "      <th></th>\n",
       "      <th>difficulty</th>\n",
       "      <th>distance</th>\n",
       "      <th>elevation</th>\n",
       "      <th>name</th>\n",
       "      <th>nreviews</th>\n",
       "      <th>review</th>\n",
       "      <th>route_type</th>\n",
       "      <th>stars</th>\n",
       "      <th>trail_attributes</th>\n",
       "      <th>tags</th>\n",
       "    </tr>\n",
       "  </thead>\n",
       "  <tbody>\n",
       "    <tr>\n",
       "      <th>0</th>\n",
       "      <td>MODERATE</td>\n",
       "      <td>5.6</td>\n",
       "      <td>32.0</td>\n",
       "      <td>Taylor Creek Trail</td>\n",
       "      <td>23</td>\n",
       "      <td>Great for strollers, bikes etc. Opposite side ...</td>\n",
       "      <td>Out &amp; Back</td>\n",
       "      <td>3.7</td>\n",
       "      <td>[dogs on leash, wheelchair friendly, kid frien...</td>\n",
       "      <td>dogsonleash wheelchairfriendly kidfriendly str...</td>\n",
       "    </tr>\n",
       "    <tr>\n",
       "      <th>1</th>\n",
       "      <td>MODERATE</td>\n",
       "      <td>4.7</td>\n",
       "      <td>64.0</td>\n",
       "      <td>Hilton Falls Trail</td>\n",
       "      <td>238</td>\n",
       "      <td>What a gem! I was so pleasantly  surprised by ...</td>\n",
       "      <td>Loop</td>\n",
       "      <td>4.3</td>\n",
       "      <td>[dogs on leash, cross country skiing, fishing,...</td>\n",
       "      <td>dogsonleash crosscountryskiing fishing hiking ...</td>\n",
       "    </tr>\n",
       "    <tr>\n",
       "      <th>2</th>\n",
       "      <td>MODERATE</td>\n",
       "      <td>2.3</td>\n",
       "      <td>100.0</td>\n",
       "      <td>Niagara Glen Trail</td>\n",
       "      <td>135</td>\n",
       "      <td>Beautiful area with several trails.  Loved exp...</td>\n",
       "      <td>Loop</td>\n",
       "      <td>4.7</td>\n",
       "      <td>[dogs on leash, kid friendly, hiking, nature t...</td>\n",
       "      <td>dogsonleash kidfriendly hiking naturetrips wal...</td>\n",
       "    </tr>\n",
       "    <tr>\n",
       "      <th>3</th>\n",
       "      <td>MODERATE</td>\n",
       "      <td>7.2</td>\n",
       "      <td>128.0</td>\n",
       "      <td>Nassagaweya and Bruce Trail Loop from Rattlesn...</td>\n",
       "      <td>170</td>\n",
       "      <td>Great views! We went in January so there weren...</td>\n",
       "      <td>Loop</td>\n",
       "      <td>4.2</td>\n",
       "      <td>[dogs on leash, kid friendly, hiking, nature t...</td>\n",
       "      <td>dogsonleash kidfriendly hiking naturetrips sno...</td>\n",
       "    </tr>\n",
       "    <tr>\n",
       "      <th>4</th>\n",
       "      <td>MODERATE</td>\n",
       "      <td>15.3</td>\n",
       "      <td>427.0</td>\n",
       "      <td>Lion's Head Loop Via Bruce Trail</td>\n",
       "      <td>117</td>\n",
       "      <td>Amazing trail with stunning lookouts. Hiked it...</td>\n",
       "      <td>Loop</td>\n",
       "      <td>4.8</td>\n",
       "      <td>[dogs on leash, hiking, nature trips, walking,...</td>\n",
       "      <td>dogsonleash hiking naturetrips walking birdwat...</td>\n",
       "    </tr>\n",
       "  </tbody>\n",
       "</table>\n",
       "</div>"
      ],
      "text/plain": [
       "  difficulty  distance  elevation  \\\n",
       "0   MODERATE       5.6       32.0   \n",
       "1   MODERATE       4.7       64.0   \n",
       "2   MODERATE       2.3      100.0   \n",
       "3   MODERATE       7.2      128.0   \n",
       "4   MODERATE      15.3      427.0   \n",
       "\n",
       "                                                name nreviews  \\\n",
       "0                                 Taylor Creek Trail       23   \n",
       "1                                 Hilton Falls Trail      238   \n",
       "2                                 Niagara Glen Trail      135   \n",
       "3  Nassagaweya and Bruce Trail Loop from Rattlesn...      170   \n",
       "4                  Lion's Head Loop Via Bruce Trail       117   \n",
       "\n",
       "                                              review  route_type  stars  \\\n",
       "0  Great for strollers, bikes etc. Opposite side ...  Out & Back    3.7   \n",
       "1  What a gem! I was so pleasantly  surprised by ...        Loop    4.3   \n",
       "2  Beautiful area with several trails.  Loved exp...        Loop    4.7   \n",
       "3  Great views! We went in January so there weren...        Loop    4.2   \n",
       "4  Amazing trail with stunning lookouts. Hiked it...        Loop    4.8   \n",
       "\n",
       "                                    trail_attributes  \\\n",
       "0  [dogs on leash, wheelchair friendly, kid frien...   \n",
       "1  [dogs on leash, cross country skiing, fishing,...   \n",
       "2  [dogs on leash, kid friendly, hiking, nature t...   \n",
       "3  [dogs on leash, kid friendly, hiking, nature t...   \n",
       "4  [dogs on leash, hiking, nature trips, walking,...   \n",
       "\n",
       "                                                tags  \n",
       "0  dogsonleash wheelchairfriendly kidfriendly str...  \n",
       "1  dogsonleash crosscountryskiing fishing hiking ...  \n",
       "2  dogsonleash kidfriendly hiking naturetrips wal...  \n",
       "3  dogsonleash kidfriendly hiking naturetrips sno...  \n",
       "4  dogsonleash hiking naturetrips walking birdwat...  "
      ]
     },
     "execution_count": 151,
     "metadata": {},
     "output_type": "execute_result"
    }
   ],
   "source": [
    "#Curate trail attributes to create single words for each array element\n",
    "trail_attributes=data.trail_attributes\n",
    "hattrib=[]\n",
    "for l1 in trail_attributes:\n",
    "    hattrib.append([l2.replace(' ', '') for l2 in l1])\n",
    "print (hattrib[0])\n",
    "\n",
    "# Add the curated attibutes as a new column ('tags') in data\n",
    "data['tags']=pd.Series(hattrib)\n",
    "#convert list of strings to text - this is necessary for running TFIDF\n",
    "data['tags']=[' '.join(tag) for tag in data.tags.values]\n",
    "# data.elevation[628]\n",
    "data.tags[0]\n",
    "# data[data['elevation']==0]\n",
    "data.head(5)"
   ]
  },
  {
   "cell_type": "code",
   "execution_count": 152,
   "metadata": {},
   "outputs": [
    {
     "data": {
      "text/html": [
       "<div>\n",
       "<style scoped>\n",
       "    .dataframe tbody tr th:only-of-type {\n",
       "        vertical-align: middle;\n",
       "    }\n",
       "\n",
       "    .dataframe tbody tr th {\n",
       "        vertical-align: top;\n",
       "    }\n",
       "\n",
       "    .dataframe thead th {\n",
       "        text-align: right;\n",
       "    }\n",
       "</style>\n",
       "<table border=\"1\" class=\"dataframe\">\n",
       "  <thead>\n",
       "    <tr style=\"text-align: right;\">\n",
       "      <th></th>\n",
       "      <th>difficulty</th>\n",
       "      <th>distance</th>\n",
       "      <th>elevation</th>\n",
       "      <th>name</th>\n",
       "      <th>nreviews</th>\n",
       "      <th>review</th>\n",
       "      <th>route_type</th>\n",
       "      <th>stars</th>\n",
       "      <th>trail_attributes</th>\n",
       "      <th>tags</th>\n",
       "      <th>num_difficulty</th>\n",
       "    </tr>\n",
       "  </thead>\n",
       "  <tbody>\n",
       "    <tr>\n",
       "      <th>0</th>\n",
       "      <td>MODERATE</td>\n",
       "      <td>5.6</td>\n",
       "      <td>32.0</td>\n",
       "      <td>Taylor Creek Trail</td>\n",
       "      <td>23</td>\n",
       "      <td>Great for strollers, bikes etc. Opposite side ...</td>\n",
       "      <td>Out &amp; Back</td>\n",
       "      <td>3.7</td>\n",
       "      <td>[dogs on leash, wheelchair friendly, kid frien...</td>\n",
       "      <td>dogsonleash wheelchairfriendly kidfriendly str...</td>\n",
       "      <td>[1, 1]</td>\n",
       "    </tr>\n",
       "    <tr>\n",
       "      <th>1</th>\n",
       "      <td>MODERATE</td>\n",
       "      <td>4.7</td>\n",
       "      <td>64.0</td>\n",
       "      <td>Hilton Falls Trail</td>\n",
       "      <td>238</td>\n",
       "      <td>What a gem! I was so pleasantly  surprised by ...</td>\n",
       "      <td>Loop</td>\n",
       "      <td>4.3</td>\n",
       "      <td>[dogs on leash, cross country skiing, fishing,...</td>\n",
       "      <td>dogsonleash crosscountryskiing fishing hiking ...</td>\n",
       "      <td>[1, 1]</td>\n",
       "    </tr>\n",
       "    <tr>\n",
       "      <th>2</th>\n",
       "      <td>MODERATE</td>\n",
       "      <td>2.3</td>\n",
       "      <td>100.0</td>\n",
       "      <td>Niagara Glen Trail</td>\n",
       "      <td>135</td>\n",
       "      <td>Beautiful area with several trails.  Loved exp...</td>\n",
       "      <td>Loop</td>\n",
       "      <td>4.7</td>\n",
       "      <td>[dogs on leash, kid friendly, hiking, nature t...</td>\n",
       "      <td>dogsonleash kidfriendly hiking naturetrips wal...</td>\n",
       "      <td>[1, 1]</td>\n",
       "    </tr>\n",
       "    <tr>\n",
       "      <th>3</th>\n",
       "      <td>MODERATE</td>\n",
       "      <td>7.2</td>\n",
       "      <td>128.0</td>\n",
       "      <td>Nassagaweya and Bruce Trail Loop from Rattlesn...</td>\n",
       "      <td>170</td>\n",
       "      <td>Great views! We went in January so there weren...</td>\n",
       "      <td>Loop</td>\n",
       "      <td>4.2</td>\n",
       "      <td>[dogs on leash, kid friendly, hiking, nature t...</td>\n",
       "      <td>dogsonleash kidfriendly hiking naturetrips sno...</td>\n",
       "      <td>[1, 1]</td>\n",
       "    </tr>\n",
       "    <tr>\n",
       "      <th>4</th>\n",
       "      <td>MODERATE</td>\n",
       "      <td>15.3</td>\n",
       "      <td>427.0</td>\n",
       "      <td>Lion's Head Loop Via Bruce Trail</td>\n",
       "      <td>117</td>\n",
       "      <td>Amazing trail with stunning lookouts. Hiked it...</td>\n",
       "      <td>Loop</td>\n",
       "      <td>4.8</td>\n",
       "      <td>[dogs on leash, hiking, nature trips, walking,...</td>\n",
       "      <td>dogsonleash hiking naturetrips walking birdwat...</td>\n",
       "      <td>[1, 1]</td>\n",
       "    </tr>\n",
       "  </tbody>\n",
       "</table>\n",
       "</div>"
      ],
      "text/plain": [
       "  difficulty  distance  elevation  \\\n",
       "0   MODERATE       5.6       32.0   \n",
       "1   MODERATE       4.7       64.0   \n",
       "2   MODERATE       2.3      100.0   \n",
       "3   MODERATE       7.2      128.0   \n",
       "4   MODERATE      15.3      427.0   \n",
       "\n",
       "                                                name nreviews  \\\n",
       "0                                 Taylor Creek Trail       23   \n",
       "1                                 Hilton Falls Trail      238   \n",
       "2                                 Niagara Glen Trail      135   \n",
       "3  Nassagaweya and Bruce Trail Loop from Rattlesn...      170   \n",
       "4                  Lion's Head Loop Via Bruce Trail       117   \n",
       "\n",
       "                                              review  route_type  stars  \\\n",
       "0  Great for strollers, bikes etc. Opposite side ...  Out & Back    3.7   \n",
       "1  What a gem! I was so pleasantly  surprised by ...        Loop    4.3   \n",
       "2  Beautiful area with several trails.  Loved exp...        Loop    4.7   \n",
       "3  Great views! We went in January so there weren...        Loop    4.2   \n",
       "4  Amazing trail with stunning lookouts. Hiked it...        Loop    4.8   \n",
       "\n",
       "                                    trail_attributes  \\\n",
       "0  [dogs on leash, wheelchair friendly, kid frien...   \n",
       "1  [dogs on leash, cross country skiing, fishing,...   \n",
       "2  [dogs on leash, kid friendly, hiking, nature t...   \n",
       "3  [dogs on leash, kid friendly, hiking, nature t...   \n",
       "4  [dogs on leash, hiking, nature trips, walking,...   \n",
       "\n",
       "                                                tags num_difficulty  \n",
       "0  dogsonleash wheelchairfriendly kidfriendly str...         [1, 1]  \n",
       "1  dogsonleash crosscountryskiing fishing hiking ...         [1, 1]  \n",
       "2  dogsonleash kidfriendly hiking naturetrips wal...         [1, 1]  \n",
       "3  dogsonleash kidfriendly hiking naturetrips sno...         [1, 1]  \n",
       "4  dogsonleash hiking naturetrips walking birdwat...         [1, 1]  "
      ]
     },
     "execution_count": 152,
     "metadata": {},
     "output_type": "execute_result"
    }
   ],
   "source": [
    "#Convert difficulty rating to a 2D array (Easy-[1,0], moderate-[1,1], hard-[0,1])\n",
    "difficulty=data.difficulty\n",
    "arr=[]\n",
    "for i in difficulty:\n",
    "    if i=='EASY':\n",
    "        arr.append([1,0])\n",
    "    elif i=='MODERATE':\n",
    "        arr.append([1,1])\n",
    "    elif i=='HARD':\n",
    "        arr.append([0,1])\n",
    "# arr\n",
    "data['num_difficulty']=arr\n",
    "data.head(5)"
   ]
  },
  {
   "cell_type": "code",
   "execution_count": 153,
   "metadata": {},
   "outputs": [],
   "source": [
    "data.to_pickle('alltrails_ontario_curated.pkl')"
   ]
  },
  {
   "cell_type": "markdown",
   "metadata": {},
   "source": [
    "### Check numerical data\n"
   ]
  },
  {
   "cell_type": "code",
   "execution_count": 154,
   "metadata": {},
   "outputs": [],
   "source": [
    "# Create scaling for numerical data\n",
    "from sklearn.preprocessing import StandardScaler, MinMaxScaler, RobustScaler, OneHotEncoder ,LabelBinarizer\n",
    "import seaborn as sns\n",
    "import matplotlib\n",
    "import matplotlib.pyplot as plt"
   ]
  },
  {
   "cell_type": "markdown",
   "metadata": {},
   "source": [
    "### Euclidean distance metric for numerical data"
   ]
  },
  {
   "cell_type": "code",
   "execution_count": 155,
   "metadata": {},
   "outputs": [
    {
     "name": "stdout",
     "output_type": "stream",
     "text": [
      "703\n"
     ]
    },
    {
     "data": {
      "text/html": [
       "<div>\n",
       "<style scoped>\n",
       "    .dataframe tbody tr th:only-of-type {\n",
       "        vertical-align: middle;\n",
       "    }\n",
       "\n",
       "    .dataframe tbody tr th {\n",
       "        vertical-align: top;\n",
       "    }\n",
       "\n",
       "    .dataframe thead th {\n",
       "        text-align: right;\n",
       "    }\n",
       "</style>\n",
       "<table border=\"1\" class=\"dataframe\">\n",
       "  <thead>\n",
       "    <tr style=\"text-align: right;\">\n",
       "      <th></th>\n",
       "      <th>name</th>\n",
       "      <th>distance</th>\n",
       "      <th>elevation</th>\n",
       "      <th>stars</th>\n",
       "      <th>trail_attributes</th>\n",
       "    </tr>\n",
       "  </thead>\n",
       "  <tbody>\n",
       "    <tr>\n",
       "      <th>703</th>\n",
       "      <td>Bruce, Woodland, and Escarpment Trails Loop fr...</td>\n",
       "      <td>8.5</td>\n",
       "      <td>99.0</td>\n",
       "      <td>4.5</td>\n",
       "      <td>[dogs on leash, kid friendly, hiking, nature t...</td>\n",
       "    </tr>\n",
       "    <tr>\n",
       "      <th>1203</th>\n",
       "      <td>Cedar Lake South Loop Trail</td>\n",
       "      <td>9.0</td>\n",
       "      <td>102.0</td>\n",
       "      <td>4.0</td>\n",
       "      <td>[camping, hiking, nature trips, trail running,...</td>\n",
       "    </tr>\n",
       "    <tr>\n",
       "      <th>94</th>\n",
       "      <td>Mer Bleue Conservation Area Loop Trail</td>\n",
       "      <td>7.1</td>\n",
       "      <td>100.0</td>\n",
       "      <td>3.8</td>\n",
       "      <td>[dogs on leash, cross country skiing, hiking, ...</td>\n",
       "    </tr>\n",
       "    <tr>\n",
       "      <th>95</th>\n",
       "      <td>Moore Park Ravine to David Balfour Park Loop</td>\n",
       "      <td>7.6</td>\n",
       "      <td>102.0</td>\n",
       "      <td>4.5</td>\n",
       "      <td>[dogs on leash, kid friendly, hiking, nature t...</td>\n",
       "    </tr>\n",
       "    <tr>\n",
       "      <th>218</th>\n",
       "      <td>Foley Mountain Loop Trail</td>\n",
       "      <td>6.6</td>\n",
       "      <td>100.0</td>\n",
       "      <td>4.0</td>\n",
       "      <td>[dogs on leash, kid friendly, hiking, nature t...</td>\n",
       "    </tr>\n",
       "    <tr>\n",
       "      <th>631</th>\n",
       "      <td>Seguin Recreational Trail</td>\n",
       "      <td>7.9</td>\n",
       "      <td>103.0</td>\n",
       "      <td>4.3</td>\n",
       "      <td>[dog friendly, kid friendly, hiking, mountain ...</td>\n",
       "    </tr>\n",
       "    <tr>\n",
       "      <th>261</th>\n",
       "      <td>Happy Valley Via Oak Ridges Trail</td>\n",
       "      <td>6.4</td>\n",
       "      <td>99.0</td>\n",
       "      <td>4.2</td>\n",
       "      <td>[dogs on leash, kid friendly, hiking, walking]</td>\n",
       "    </tr>\n",
       "    <tr>\n",
       "      <th>280</th>\n",
       "      <td>Speyside Trail</td>\n",
       "      <td>13.7</td>\n",
       "      <td>101.0</td>\n",
       "      <td>3.9</td>\n",
       "      <td>[dog friendly, hiking, nature trips, trail run...</td>\n",
       "    </tr>\n",
       "    <tr>\n",
       "      <th>60</th>\n",
       "      <td>Newtonbrook Creek Pathway</td>\n",
       "      <td>9.8</td>\n",
       "      <td>96.0</td>\n",
       "      <td>4.2</td>\n",
       "      <td>[dogs on leash, wheelchair friendly, stroller ...</td>\n",
       "    </tr>\n",
       "    <tr>\n",
       "      <th>223</th>\n",
       "      <td>Hanlon Creek Trail</td>\n",
       "      <td>6.0</td>\n",
       "      <td>98.0</td>\n",
       "      <td>4.1</td>\n",
       "      <td>[dog friendly, cross country skiing, hiking, n...</td>\n",
       "    </tr>\n",
       "  </tbody>\n",
       "</table>\n",
       "</div>"
      ],
      "text/plain": [
       "                                                   name  distance  elevation  \\\n",
       "703   Bruce, Woodland, and Escarpment Trails Loop fr...       8.5       99.0   \n",
       "1203                       Cedar Lake South Loop Trail        9.0      102.0   \n",
       "94               Mer Bleue Conservation Area Loop Trail       7.1      100.0   \n",
       "95         Moore Park Ravine to David Balfour Park Loop       7.6      102.0   \n",
       "218                           Foley Mountain Loop Trail       6.6      100.0   \n",
       "631                           Seguin Recreational Trail       7.9      103.0   \n",
       "261                   Happy Valley Via Oak Ridges Trail       6.4       99.0   \n",
       "280                                      Speyside Trail      13.7      101.0   \n",
       "60                            Newtonbrook Creek Pathway       9.8       96.0   \n",
       "223                                  Hanlon Creek Trail       6.0       98.0   \n",
       "\n",
       "      stars                                   trail_attributes  \n",
       "703     4.5  [dogs on leash, kid friendly, hiking, nature t...  \n",
       "1203    4.0  [camping, hiking, nature trips, trail running,...  \n",
       "94      3.8  [dogs on leash, cross country skiing, hiking, ...  \n",
       "95      4.5  [dogs on leash, kid friendly, hiking, nature t...  \n",
       "218     4.0  [dogs on leash, kid friendly, hiking, nature t...  \n",
       "631     4.3  [dog friendly, kid friendly, hiking, mountain ...  \n",
       "261     4.2     [dogs on leash, kid friendly, hiking, walking]  \n",
       "280     3.9  [dog friendly, hiking, nature trips, trail run...  \n",
       "60      4.2  [dogs on leash, wheelchair friendly, stroller ...  \n",
       "223     4.1  [dog friendly, cross country skiing, hiking, n...  "
      ]
     },
     "execution_count": 155,
     "metadata": {},
     "output_type": "execute_result"
    }
   ],
   "source": [
    "from sklearn.metrics.pairwise import cosine_similarity, euclidean_distances\n",
    "from scipy.spatial.distance import cdist\n",
    "\n",
    "#Create Euclidean distance based scaling based for numerical data\n",
    "numerical_data=data[['elevation','distance','stars']]\n",
    "# scaler=StandardScaler().fit_transform(numerical_data)\n",
    "\n",
    "#Test input from user\n",
    "tst = [[100,10,4]]\n",
    "distance=euclidean_distances(numerical_data,tst)\n",
    "dft_sort=pd.DataFrame.from_records(distance).sort_values(by=0)\n",
    "top10=dft_sort[:10].index.values\n",
    "print (top10[0])\n",
    "df_out=data.iloc[dft_sort[:10].index.values][['name', 'distance', 'elevation', 'stars', 'trail_attributes']]\n",
    "df_out=data.iloc[top10][['name', 'distance', 'elevation', 'stars', 'trail_attributes']]\n",
    "df_out\n",
    "# dft_sort\n",
    "# print (top10)\n",
    "# data.iloc[dft_sort[:10].index.values, ][['name']]\n",
    "# data[data['elevation']>1000]"
   ]
  },
  {
   "cell_type": "code",
   "execution_count": 156,
   "metadata": {},
   "outputs": [
    {
     "data": {
      "text/plain": [
       "array([[0.00701908, 0.02830189, 0.74      ],\n",
       "       [0.01403817, 0.02358491, 0.86      ],\n",
       "       [0.02193463, 0.01100629, 0.94      ],\n",
       "       ...,\n",
       "       [0.01162536, 0.01415094, 0.66      ],\n",
       "       [0.00263216, 0.00890985, 0.2       ],\n",
       "       [0.01030928, 0.01100629, 0.8       ]])"
      ]
     },
     "execution_count": 156,
     "metadata": {},
     "output_type": "execute_result"
    }
   ],
   "source": [
    "scaler=MinMaxScaler()\n",
    "numerical_data=data[['elevation','distance','stars']]\n",
    "# scaled_num[['elevation','distance','stars']]\n",
    "scaled_num=scaler.fit_transform(numerical_data[['elevation','distance','stars']])\n",
    "# numerical_data\n",
    "scaled_num"
   ]
  },
  {
   "cell_type": "code",
   "execution_count": 157,
   "metadata": {},
   "outputs": [],
   "source": [
    "trail_names=data['name'].str.lower()\n",
    "# trail_names\n",
    "names=[name for name in trail_names]\n",
    "# names"
   ]
  },
  {
   "cell_type": "code",
   "execution_count": 158,
   "metadata": {},
   "outputs": [
    {
     "name": "stdout",
     "output_type": "stream",
     "text": [
      "4559.0\n"
     ]
    },
    {
     "data": {
      "text/plain": [
       "MinMaxScaler(copy=True,\n",
       "       feature_range=0        32.0\n",
       "1        64.0\n",
       "2       100.0\n",
       "3       128.0\n",
       "4       427.0\n",
       "5       222.0\n",
       "6        71.0\n",
       "7       197.0\n",
       "8       259.0\n",
       "9       301.0\n",
       "10      460.0\n",
       "11       81.0\n",
       "12       93.0\n",
       "13      370.0\n",
       "14      156.0\n",
       "15      174.0\n",
       "16      106.0\n",
       "17       93.0\n",
       "18      408.0\n",
       "19       57.0\n",
       "20    ...211     33.0\n",
       "1212     53.0\n",
       "1213     12.0\n",
       "1214     47.0\n",
       "Name: elevation, Length: 1215, dtype: float64)"
      ]
     },
     "execution_count": 158,
     "metadata": {},
     "output_type": "execute_result"
    }
   ],
   "source": [
    "#Numerical data normalization\n",
    "numerical_data=data[['elevation','distance','stars']]\n",
    "elev=data['elevation']\n",
    "scaled_elev=MinMaxScaler(elev)\n",
    "print (max(elev))\n",
    "\n",
    "scaler=RobustScaler()\n",
    "scaled_mnd=scaler.fit_transform(numerical_data)\n",
    "scaled_mnd=pd.DataFrame(scaled_mnd, columns=['elevation','distance','stars'])\n",
    "\n",
    "#Cosine similarity for numerical data\n",
    "# cosine_sim_num=cosine_similarity(scaled_mnd,scaled_mnd)\n",
    "cosine_sim_num=cosine_similarity(numerical_data,numerical_data)\n",
    "cosine_sim_num[10][200]\n",
    "scaled_elev\n",
    "# scaled_mnd"
   ]
  },
  {
   "cell_type": "markdown",
   "metadata": {},
   "source": [
    "###  Test  similarity based on numerical data"
   ]
  },
  {
   "cell_type": "code",
   "execution_count": 159,
   "metadata": {
    "scrolled": true
   },
   "outputs": [
    {
     "name": "stdout",
     "output_type": "stream",
     "text": [
      "[92]\n"
     ]
    },
    {
     "data": {
      "text/plain": [
       "difficulty                                                   MODERATE\n",
       "distance                                                          5.6\n",
       "elevation                                                          32\n",
       "name                                               Taylor Creek Trail\n",
       "nreviews                                                           23\n",
       "review              Great for strollers, bikes etc. Opposite side ...\n",
       "route_type                                                 Out & Back\n",
       "stars                                                             3.7\n",
       "trail_attributes    [dogs on leash, wheelchair friendly, kid frien...\n",
       "tags                dogsonleash wheelchairfriendly kidfriendly str...\n",
       "num_difficulty                                                 [1, 1]\n",
       "Name: 0, dtype: object"
      ]
     },
     "execution_count": 159,
     "metadata": {},
     "output_type": "execute_result"
    }
   ],
   "source": [
    "trail_ui='Manitou Mountaion Trail to Calabogie Lake Loop'\n",
    "\n",
    "#Extract index for user input trail name\n",
    "# idx=data.index[data['name']=='Point Pelee Tip and East Point Beach'].tolist()\n",
    "idx=data.index[data['name']==trail_ui].tolist()\n",
    "# print (idx[0])\n",
    "print (idx)\n",
    "\n",
    "#Compute pairwise similarity score\n",
    "# score=list(enumerate(cosine_sim_num[idx[0]]))\n",
    "# print (score[313])\n",
    "# sorted_score=sorted(score,key=lambda x: x[1],reverse=True)\n",
    "# sorted_score[1:40]\n",
    "# print (data.iloc[1])\n",
    "# print (data.iloc[292])\n",
    "data.iloc[0]"
   ]
  },
  {
   "cell_type": "code",
   "execution_count": 167,
   "metadata": {
    "scrolled": true
   },
   "outputs": [
    {
     "name": "stdout",
     "output_type": "stream",
     "text": [
      "92\n"
     ]
    },
    {
     "data": {
      "text/plain": [
       "array([[1.        , 0.99397247, 0.98661128, ..., 0.99171952, 0.99938055,\n",
       "        0.99194676],\n",
       "       [0.99397247, 1.        , 0.99853987, ..., 0.99981534, 0.99640106,\n",
       "        0.99954377],\n",
       "       [0.98661128, 0.99853987, 1.        , ..., 0.99938559, 0.99045259,\n",
       "        0.99895001],\n",
       "       ...,\n",
       "       [0.99171952, 0.99981534, 0.99938559, ..., 1.        , 0.99459211,\n",
       "        0.99972562],\n",
       "       [0.99938055, 0.99640106, 0.99045259, ..., 0.99459211, 1.        ,\n",
       "        0.99419638],\n",
       "       [0.99194676, 0.99954377, 0.99895001, ..., 0.99972562, 0.99419638,\n",
       "        1.        ]])"
      ]
     },
     "execution_count": 167,
     "metadata": {},
     "output_type": "execute_result"
    }
   ],
   "source": [
    "trail_ui='Manitou Mountaion Trail to Calabogie Lake Loop'\n",
    "\n",
    "#Extract index for user input trail name\n",
    "# idx=data.index[data['name']=='Point Pelee Tip and East Point Beach'].tolist()\n",
    "idx=data.index[data['name']==trail_ui].tolist()\n",
    "# print (idx[0])\n",
    "print (idx[0])\n",
    "\n",
    "#Compute pairwise similarity score\n",
    "score=list(enumerate(cosine_sim_num[idx[0]]))\n",
    "# print (score[313])\n",
    "sorted_score=sorted(score,key=lambda x: x[1],reverse=True)\n",
    "# sorted_score[1:40]\n",
    "score\n",
    "cosine_sim_num\n",
    "# print (data.iloc[1])\n",
    "# print (data.iloc[292])\n",
    "# data.iloc[0]"
   ]
  },
  {
   "cell_type": "code",
   "execution_count": 161,
   "metadata": {},
   "outputs": [
    {
     "data": {
      "text/plain": [
       "array([1., 1., 1., 1., 1., 1., 1., 1., 1., 0., 0., 0., 1., 0., 1.])"
      ]
     },
     "execution_count": 161,
     "metadata": {},
     "output_type": "execute_result"
    }
   ],
   "source": [
    "#Not sure I cando this when it's a user input\n",
    "tst=[1,0,0]\n",
    "\n",
    "train=[[1,0,0], [0,0,1], [0,1,0],[1,0,0],[0,0,1]]\n",
    "\n",
    "difficulty=data[['difficulty']]\n",
    "difficulty=difficulty.astype('category')\n",
    "\n",
    "lbt=LabelBinarizer()\n",
    "diffic_cat=lbt.fit_transform(difficulty)\n",
    "# scaler_diffic=StandardScaler().fit_transform(diffic_cat)\n",
    "# train\n",
    "scaler_diffic\n",
    "cosine_sim_diffic=cosine_similarity(scaler_diffic,scaler_diffic)\n",
    "cosine_sim_diffic\n",
    "# scaler_diffic\n",
    "# diffic_cat\n",
    "cos_simd=cosine_similarity(diffic_cat, diffic_cat)\n",
    "cos_simd[0][:15]\n",
    "# difficulty\n",
    "# scaler_diffic"
   ]
  },
  {
   "cell_type": "code",
   "execution_count": 162,
   "metadata": {},
   "outputs": [
    {
     "data": {
      "text/plain": [
       "32.0"
      ]
     },
     "execution_count": 162,
     "metadata": {},
     "output_type": "execute_result"
    }
   ],
   "source": [
    "# Text processing\n",
    "indx=0\n",
    "data1.iloc[indx]['elevation']\n",
    "# data1\n",
    "# print (idx)"
   ]
  },
  {
   "cell_type": "code",
   "execution_count": 163,
   "metadata": {},
   "outputs": [
    {
     "name": "stderr",
     "output_type": "stream",
     "text": [
      "C:\\Users\\chtra\\Anaconda3.6\\lib\\site-packages\\ipykernel_launcher.py:3: SettingWithCopyWarning: \n",
      "A value is trying to be set on a copy of a slice from a DataFrame\n",
      "\n",
      "See the caveats in the documentation: http://pandas.pydata.org/pandas-docs/stable/indexing.html#indexing-view-versus-copy\n",
      "  This is separate from the ipykernel package so we can avoid doing imports until\n"
     ]
    },
    {
     "data": {
      "text/html": [
       "<div>\n",
       "<style scoped>\n",
       "    .dataframe tbody tr th:only-of-type {\n",
       "        vertical-align: middle;\n",
       "    }\n",
       "\n",
       "    .dataframe tbody tr th {\n",
       "        vertical-align: top;\n",
       "    }\n",
       "\n",
       "    .dataframe thead th {\n",
       "        text-align: right;\n",
       "    }\n",
       "</style>\n",
       "<table border=\"1\" class=\"dataframe\">\n",
       "  <thead>\n",
       "    <tr style=\"text-align: right;\">\n",
       "      <th></th>\n",
       "      <th>difficulty</th>\n",
       "      <th>distance</th>\n",
       "      <th>elevation</th>\n",
       "      <th>name</th>\n",
       "      <th>nreviews</th>\n",
       "      <th>review</th>\n",
       "      <th>route_type</th>\n",
       "      <th>stars</th>\n",
       "      <th>trail_attributes</th>\n",
       "    </tr>\n",
       "  </thead>\n",
       "  <tbody>\n",
       "    <tr>\n",
       "      <th>0</th>\n",
       "      <td>MODERATE</td>\n",
       "      <td>5.6</td>\n",
       "      <td>32.0</td>\n",
       "      <td>Taylor Creek Trail</td>\n",
       "      <td>23</td>\n",
       "      <td>Great for strollers, bikes etc. Opposite side ...</td>\n",
       "      <td>Out &amp; Back</td>\n",
       "      <td>3.7</td>\n",
       "      <td>[dogs on leash, wheelchair friendly, kid frien...</td>\n",
       "    </tr>\n",
       "    <tr>\n",
       "      <th>1</th>\n",
       "      <td>MODERATE</td>\n",
       "      <td>4.7</td>\n",
       "      <td>64.0</td>\n",
       "      <td>Hilton Falls Trail</td>\n",
       "      <td>238</td>\n",
       "      <td>What a gem! I was so pleasantly  surprised by ...</td>\n",
       "      <td>Loop</td>\n",
       "      <td>4.3</td>\n",
       "      <td>[dogs on leash, cross country skiing, fishing,...</td>\n",
       "    </tr>\n",
       "    <tr>\n",
       "      <th>2</th>\n",
       "      <td>MODERATE</td>\n",
       "      <td>2.3</td>\n",
       "      <td>100.0</td>\n",
       "      <td>Niagara Glen Trail</td>\n",
       "      <td>135</td>\n",
       "      <td>Beautiful area with several trails.  Loved exp...</td>\n",
       "      <td>Loop</td>\n",
       "      <td>4.7</td>\n",
       "      <td>[dogs on leash, kid friendly, hiking, nature t...</td>\n",
       "    </tr>\n",
       "    <tr>\n",
       "      <th>3</th>\n",
       "      <td>MODERATE</td>\n",
       "      <td>7.2</td>\n",
       "      <td>128.0</td>\n",
       "      <td>Nassagaweya and Bruce Trail Loop from Rattlesn...</td>\n",
       "      <td>170</td>\n",
       "      <td>Great views! We went in January so there weren...</td>\n",
       "      <td>Loop</td>\n",
       "      <td>4.2</td>\n",
       "      <td>[dogs on leash, kid friendly, hiking, nature t...</td>\n",
       "    </tr>\n",
       "    <tr>\n",
       "      <th>4</th>\n",
       "      <td>MODERATE</td>\n",
       "      <td>15.3</td>\n",
       "      <td>427.0</td>\n",
       "      <td>Lion's Head Loop Via Bruce Trail</td>\n",
       "      <td>117</td>\n",
       "      <td>Amazing trail with stunning lookouts. Hiked it...</td>\n",
       "      <td>Loop</td>\n",
       "      <td>4.8</td>\n",
       "      <td>[dogs on leash, hiking, nature trips, walking,...</td>\n",
       "    </tr>\n",
       "  </tbody>\n",
       "</table>\n",
       "</div>"
      ],
      "text/plain": [
       "  difficulty  distance  elevation  \\\n",
       "0   MODERATE       5.6       32.0   \n",
       "1   MODERATE       4.7       64.0   \n",
       "2   MODERATE       2.3      100.0   \n",
       "3   MODERATE       7.2      128.0   \n",
       "4   MODERATE      15.3      427.0   \n",
       "\n",
       "                                                name nreviews  \\\n",
       "0                                 Taylor Creek Trail       23   \n",
       "1                                 Hilton Falls Trail      238   \n",
       "2                                 Niagara Glen Trail      135   \n",
       "3  Nassagaweya and Bruce Trail Loop from Rattlesn...      170   \n",
       "4                  Lion's Head Loop Via Bruce Trail       117   \n",
       "\n",
       "                                              review  route_type  stars  \\\n",
       "0  Great for strollers, bikes etc. Opposite side ...  Out & Back    3.7   \n",
       "1  What a gem! I was so pleasantly  surprised by ...        Loop    4.3   \n",
       "2  Beautiful area with several trails.  Loved exp...        Loop    4.7   \n",
       "3  Great views! We went in January so there weren...        Loop    4.2   \n",
       "4  Amazing trail with stunning lookouts. Hiked it...        Loop    4.8   \n",
       "\n",
       "                                    trail_attributes  \n",
       "0  [dogs on leash, wheelchair friendly, kid frien...  \n",
       "1  [dogs on leash, cross country skiing, fishing,...  \n",
       "2  [dogs on leash, kid friendly, hiking, nature t...  \n",
       "3  [dogs on leash, kid friendly, hiking, nature t...  \n",
       "4  [dogs on leash, hiking, nature trips, walking,...  "
      ]
     },
     "execution_count": 163,
     "metadata": {},
     "output_type": "execute_result"
    }
   ],
   "source": [
    "df=pd.read_pickle('../data/alltrails_ontario.pkl')\n",
    "trail_data=pd.read_pickle('../data/alltrails_ontario.pkl')\n",
    "trail_data.elevation[np.isnan(trail_data.elevation)]=0.\n",
    "df.head(5)"
   ]
  },
  {
   "cell_type": "code",
   "execution_count": 164,
   "metadata": {},
   "outputs": [
    {
     "name": "stdout",
     "output_type": "stream",
     "text": [
      "['dogsonleash', 'wheelchairfriendly', 'kidfriendly', 'strollerfriendly', 'hiking', 'mountainbiking', 'naturetrips', 'snowshoeing', 'trailrunning', 'walking', 'forest', 'paved', 'views', 'snow']\n",
      "[0.9999999999999999, 0.9999999999999999, 0.9430374843304704, 0.9268698653726071, 0.9073848981338718, 0.906103198540165, 0.9059658070189537, 0.9035034205188557, 0.8949284631218942, 0.8887099584520426, 0.8884473553092931, 0.8877377564675576, 0.8809374804669632, 0.8767519382789146, 0.8719550765293337, 0.8667844871364166, 0.866328467565922, 0.8662869636585937, 0.861912054669539, 0.860914578777538, 0.8569948278822563, 0.8557445705008204, 0.8556892744051189, 0.8508847690818292, 0.8492018774873149, 0.8476235923364059, 0.8457995979952065, 0.8456157797565471, 0.8444174664264584, 0.8441776328493572, 0.8437738650678872, 0.8431827471832131, 0.8422222106370283, 0.8414721107403715, 0.8408870120567015, 0.840668551027841, 0.8404556646150045, 0.8402353422946724, 0.83957807760536, 0.8390417773736983, 0.8390384624693193, 0.8361627524066583, 0.8357729562038224, 0.835688266035316, 0.8351111907445081, 0.8335506765734553, 0.8335134546821913, 0.8321451463812763, 0.832068300692948, 0.8319553649382859, 0.8313778703390945, 0.831170081590856, 0.8305786043510904, 0.8304524541245087, 0.8297084239036916, 0.8294623743480273, 0.8292903605420916, 0.829104557954196, 0.8287801050930611, 0.8284736341389165, 0.8283995220229995, 0.8272068276788936, 0.8267090768551388, 0.8256438840651839, 0.8252902218483389, 0.8251524573038145, 0.8247717057631608, 0.8241768415782017, 0.824150708993032, 0.8233456264732728, 0.8232972461998356, 0.8232752606755117, 0.8232008873669551, 0.8230407481456927, 0.8222418135637489, 0.821859508771746, 0.8214861766389787, 0.8213138559375206, 0.8211472419304134, 0.8209353183331043, 0.8205346293109373, 0.8196399401835746, 0.8193184473411904, 0.8191746282497673, 0.8190110350298637, 0.8185689116970255, 0.8178688427210465, 0.8172472148285009, 0.8170240553598349, 0.8167408387358254, 0.8161709410224066, 0.8161505146910629, 0.8157390070094825, 0.8152719233525566, 0.8144187622770823, 0.8141023647045392, 0.814065015479884, 0.8139720447140432, 0.8132127690845283, 0.813179523024744, 0.8124545426727905, 0.8123025437508069, 0.811982286399889, 0.8109236547638491, 0.8107530333493287, 0.8104722177137381, 0.8103503021701879, 0.8097359754352087, 0.8094163949466628, 0.809147698194252, 0.8083431003080729, 0.8073257984829827, 0.8072901741407438, 0.8069068913280865, 0.8067868755889508, 0.8064801910097206, 0.8062333996321647, 0.8055853579200118, 0.8052826577680968, 0.803794980146901, 0.8036861393892846, 0.8032149987574067, 0.8028161763950034, 0.80275147606485, 0.8023419789222395, 0.8022774205354793, 0.80196542904172, 0.8018532469219586, 0.7997732732637552, 0.7997157437637497, 0.7994262263242937, 0.7993471526109196, 0.7992999101260954, 0.7992762696715862, 0.7992338478671953, 0.7983108689536814, 0.7982668541323402, 0.7980252323050859, 0.7969349482137744, 0.7965990018878236, 0.7965671282611321, 0.796303976455209, 0.7951624886524262, 0.7947902294215389, 0.7945098611526028, 0.7940542292640643, 0.7937884431597358, 0.7937857985305935, 0.7937672930721721, 0.7932309857575489, 0.7931417005852712, 0.793048718953317, 0.7925101686614836, 0.7924158223171561, 0.7924119273149325, 0.7922753005729372, 0.7920977226347026, 0.7916644605577959, 0.7910192636881178, 0.7908617191583173, 0.7903276137572255, 0.7897960325995086, 0.7897520499060091, 0.789089644564015, 0.7888246097569024, 0.7882334313327221, 0.7875002395109327, 0.7873531844282391, 0.7873516222049288, 0.7870999766649704, 0.7869981585538728, 0.7863940088649316, 0.7862096007896815, 0.7860194858319511, 0.7857866315119016, 0.7853194997218118, 0.7851913103779935, 0.7847933195860343, 0.7840445297463758, 0.7835773578893691, 0.7830071509118772, 0.7829118858706144, 0.7819600344640949, 0.7815111969215602, 0.7813432432125708, 0.7811736098508608, 0.7806024787609707, 0.7804722651148754, 0.7787178137462863, 0.7771975093954739, 0.7771373161366599, 0.7769894645615428, 0.7768905919883674, 0.7757366617889058, 0.7755480125963993, 0.7753652967481482, 0.7750086062990184, 0.7742805772072242, 0.7730225471118279, 0.7729711011720917, 0.7721860072790201, 0.7716013727043467, 0.7710274132159556, 0.7709200151147008, 0.7709097766963512, 0.7704978840062225, 0.769435851332855, 0.7693604565687353, 0.7693214263166124, 0.7678758954510274, 0.7673991025251174, 0.7672103594866427, 0.7668006381738004, 0.7666572041896326, 0.7652864548015602, 0.7648594398580965, 0.7637993963622324, 0.7636406143254212, 0.7634937419199497, 0.7632597984390812, 0.763069564320703, 0.7627917910675521, 0.761756455974252, 0.761631782434346, 0.7609355432119022, 0.7602461423489181, 0.7602149832398771, 0.7596504739428979, 0.7595914963321415, 0.7594812020087266, 0.7592189378641159, 0.7578884214704645, 0.7554561636988559, 0.7554534910090263, 0.7549112081092078, 0.7542751362991433, 0.7538467585471488, 0.753419994384829, 0.7529985348707986, 0.7528255972573198, 0.7509086808286657, 0.7504407847854067, 0.7501002126102079, 0.7483871080144702, 0.7477330798547298, 0.7476084080547944, 0.7474393511580885, 0.747424268889996, 0.7473208770729918, 0.7464342559658698, 0.7450292960160844, 0.7442610893033595, 0.7437239865131514, 0.7435271734617355, 0.74299974700829, 0.7427942518938663, 0.7422091919678124, 0.740145493389798, 0.73962129531648, 0.7395143746234207, 0.7392342292057109, 0.7389707353759486, 0.738810180999685, 0.7380721443040797, 0.7368913849779606, 0.7368606099632254, 0.7367852780373213, 0.7348114112363926, 0.7346211686065455, 0.7343936272935916, 0.7343781062813325, 0.7324445174692458, 0.7280686516025251, 0.7271528811234188, 0.725859887813801, 0.7246297807208544, 0.7240539384259026, 0.7239267078375399, 0.7233948557156032, 0.722132963088949, 0.7220878624669359, 0.719581287948719, 0.7192625965442753, 0.7185858870528808, 0.7171838400231174, 0.7168204381149178, 0.7159381986221351, 0.7155135917468474, 0.7154659906085383, 0.7154586180940886, 0.7144054455911776, 0.7141141711828937, 0.711626835978475, 0.7105688204478641, 0.7089836491639382, 0.7059288072757517, 0.7051181181719051, 0.7049948839223213, 0.7016903801662732, 0.7003546574793126, 0.7002193986189915, 0.6980910918433829, 0.6965799133661457, 0.6963582503131976, 0.6958907620657764, 0.695701901541478, 0.6956483118357636, 0.6952059862239339, 0.6943025967047398, 0.6900477143153296, 0.6887527799012805, 0.6882596693097843, 0.6870484922392015, 0.6866575633835571, 0.6851834042233579, 0.6850074069746074, 0.6838931583541359, 0.6837571152840746, 0.6805089010469106, 0.6780115763857156, 0.6761092303412926, 0.6723091552863577, 0.6679139311847248, 0.6668450129720161, 0.6665640034911756, 0.6631791924396347, 0.6623227249459521, 0.6622450897535938, 0.6619161529437472, 0.6618239183779522, 0.6583928802018888, 0.6578478668532685, 0.6571626333663657, 0.6570230334363991, 0.6566566348890124, 0.6447921971922072, 0.6422548440529275, 0.6400731032763982, 0.6379275112427499, 0.6351568475721152, 0.6344985528550653, 0.6337425800613572, 0.6320262189251046, 0.6300485517999703, 0.6290207560455454, 0.626398445728789, 0.6244246139197281, 0.6239053512110311, 0.623631448946968, 0.6192322689377562, 0.6187958459169767, 0.6164977088352741, 0.614372736564688, 0.6056575068554679, 0.6056030680076296, 0.605077263849434, 0.6018002736918988, 0.60107374760637, 0.6004158417591865, 0.6000217082834363, 0.5987206323057077, 0.5980721676999269, 0.5945855180089458, 0.5896993090113434, 0.589154754343936, 0.5716848809808108, 0.5715688106154021, 0.5713752165088367, 0.5694048523205121, 0.5686744650291471, 0.5685690334334674, 0.5622528842791547, 0.5604896805549654, 0.5597458942590569, 0.5528193739067135, 0.5510147788674742, 0.5430340697635415, 0.5396831058835024, 0.5380173953868457, 0.5339945500486827, 0.5303416037181965, 0.5291540531568951, 0.5265428896911961, 0.5236133156032748, 0.5218204948759516, 0.5200214787085228, 0.5181691373335882, 0.5156779312003597, 0.5098350666043674, 0.5084518766737144, 0.4963936293900298, 0.49382559440885804, 0.4914617037463864, 0.48998698198195967, 0.48992377923374847, 0.4895347556374326, 0.4872540818623023, 0.4871309131347943, 0.48217850978973514, 0.48027908004887715, 0.47822530266350066, 0.4743299879536914, 0.4676061223391772, 0.4673451494633386, 0.46664431743510876, 0.4607436989548093, 0.4578786469315793, 0.4547521220984982, 0.45434624847516025, 0.45374181500586463, 0.4512518336164971, 0.44694355310063794, 0.44389765334742337, 0.44177532093408123, 0.4370001847872185, 0.436229243792305, 0.4324359560020671, 0.4317294350179942, 0.41992154552416416, 0.4194447015254814, 0.415516216574486, 0.41519512899501904, 0.41009063599168705, 0.4056586605142992, 0.3962066403819059, 0.3918449783877496, 0.3806370408675074, 0.369605407848516, 0.3607895015661772, 0.3593844078706633, 0.3564542879358776, 0.35603586186237385, 0.3550601999132373, 0.35149973324066724, 0.33181931769031586, 0.3297133885911286, 0.32946975844335097, 0.32845046592370336, 0.3279477721818398, 0.3186378351153402, 0.31734936018457244, 0.30046398454957873, 0.29362604266443754, 0.26644740276666884, 0.25834482931436975, 0.253400331564426, 0.21225128291195983, 0.20717447547621826, 0.18316524455461325, 0.1605864424065216, 0.15363563488514875, 0.12532227995379425, 0.1100469685162857, 0.09776495963362639, 0.08927710619030077, 0.0851452273456824, 0.0734623160512266, -0.008959927762379909, -0.01551053089023035, -0.019233957825299252, -0.022943108826515783, -0.024935819057352423, -0.02631633404953435, -0.02678060630625848, -0.028982750498352843, -0.03989106055219419, -0.04007423687464922, -0.04431020648868639, -0.045824127393802636, -0.04825280812713113, -0.05010617859724906, -0.05829976894627156, -0.06038924319319181, -0.06665874134787286, -0.06721479728496157, -0.06759701669917237, -0.0677999027895893, -0.07487753304403072, -0.07602717283939518, -0.07673368737279267, -0.07884045289745062, -0.08004174803088242, -0.082653065069661, -0.08556831327398205, -0.08695172558781276, -0.08940628025123047, -0.09401833460660886, -0.09514990972125797, -0.10613143997250188, -0.11359769067640654, -0.12273950950295594, -0.12807913865046583, -0.134101634259951, -0.13879746763191292, -0.1427377139679733, -0.14502808037445225, -0.14560875361225742, -0.14700898360894663, -0.1476266894375399, -0.15102312012212418, -0.15134052133345707, -0.1520380636655402, -0.152273221963872, -0.1564036346387605, -0.15754757906911138, -0.15907128132035817, -0.15994062619598765, -0.16794510578038668, -0.16808815479112285, -0.17003010457893494, -0.17034856765766906, -0.17042642862245244, -0.17131962640750478, -0.17167681039146387, -0.17367763450947935, -0.1740968430424212, -0.1743983042711991, -0.17553044641816304, -0.17622543088197085, -0.17637569887218074, -0.17964921511401802, -0.18068054807324602, -0.18108330507966025, -0.18200553534158642, -0.1823218680775636, -0.18242111591855545, -0.18395842900833564, -0.18589318895934884, -0.18805970628670066, -0.19113801961392196, -0.1924000030507458, -0.19949804564021073, -0.2025790549394076, -0.20368585318184743, -0.2057677383759656, -0.20687553320488308, -0.2096441268714229, -0.21201005669780248, -0.2146394770753285, -0.21682238205051146, -0.22861178129545248, -0.2374812458219999, -0.2395461752467525, -0.24475815506098422, -0.24533795140309542, -0.25326132472080015, -0.2557270305134521, -0.26073249085393574, -0.261054629510538, -0.26179800798558006, -0.26322857116375414, -0.26381276236455115, -0.26453301381487, -0.2654779255786161, -0.2669799537474231, -0.26885369509083995, -0.27025957933799666, -0.27426825139651667, -0.2744488427447958, -0.277885971707549, -0.2784273676633753, -0.27861642204655235, -0.2788835806055033, -0.27974113545020407, -0.2804951801506534, -0.28106235463653023, -0.2821981597362936, -0.2833028620369006, -0.28488589231576267, -0.2869516879148217, -0.28901687808027116, -0.2900307817253509, -0.29134772807776255, -0.29215277565680026, -0.29304070933656656, -0.29610655848798045, -0.2963992521412053, -0.2986144812752735, -0.29921496840700007, -0.2997421408054885, -0.30075841206001, -0.3008759278781626, -0.3009309512690548, -0.3024377979813077, -0.30258932751318746, -0.3041339865007426, -0.3071938313465079, -0.30765483698219986, -0.3089253733902037, -0.30942299937658874, -0.3106577945488318, -0.31214412940228037, -0.3123611905006077, -0.3129522763256148, -0.31366978316635297, -0.31412757296931104, -0.31435432085594545, -0.3152277161135322, -0.31610304332698064, -0.3180675983790453, -0.3188736273898007, -0.3190537764606074, -0.31929233172885646, -0.3208341255210827, -0.32088029572832166, -0.3213090079194192, -0.32290048418580697, -0.32290048418580697, -0.3232999213435382, -0.3233359527665357, -0.32379188281845556, -0.32535306310484435, -0.3273698864667545, -0.32765810814648144, -0.3277808876109124, -0.3290733254119891, -0.32996592802731556, -0.3306650432028251, -0.33281016102366867, -0.332965359307099, -0.33502434566024036, -0.33572842295350874, -0.33655800111049783, -0.3371448797706979, -0.3393986203934501, -0.3400775888307414, -0.34013593688894694, -0.3412090796887319, -0.3418218181397691, -0.34214076029713497, -0.3422121820575935, -0.3427445818198222, -0.34292110386550234, -0.34362649320119887, -0.3439258578830853, -0.3442335252535066, -0.3454158440574487, -0.34542593094478663, -0.3455373238579996, -0.34560972805693563, -0.34585429844760507, -0.3463714302411943, -0.3474791567086846, -0.34748098426466356, -0.3477454254076759, -0.3481774613833721, -0.3481919888161835, -0.3483924823614833, -0.34904573440892306, -0.3496118762282487, -0.3499114882749532, -0.3506750634142643, -0.3509452471510352, -0.3511709550297734, -0.3512438188253482, -0.35135044593730436, -0.3521844587857227, -0.35234756547558693, -0.35397369801386636, -0.35397513195080077, -0.35399443997945446, -0.35409756400078013, -0.35444298344145436, -0.35480774370989593, -0.3550041698219689, -0.35506957516240806, -0.3551832091683615, -0.355209178171044, -0.35605477420194825, -0.3560708846830843, -0.3562755575243656, -0.35628425198819497, -0.35629197148157987, -0.3563088495312867, -0.35636480461351905, -0.35639378816015366, -0.35654252915102613, -0.3566237890915908, -0.35665022776003447, -0.35673793541025295, -0.3568151740319454, -0.3572871579587539, -0.3577344567806728, -0.3588813543339923, -0.35905058260895756, -0.359270748348769, -0.35932401097973, -0.3598065535793473, -0.3605472740728296, -0.36055041140994765, -0.3606699736897459, -0.36068584786839203, -0.36096803391989424, -0.3609748992990531, -0.36108276441013015, -0.3611943853293957, -0.36124299066684096, -0.3613543907431157, -0.36149091348607204, -0.3616292355792615, -0.3616640093709888, -0.3616947728524974, -0.3623161700017589, -0.3626117664598273, -0.36271651611448075, -0.3629153115411326, -0.3631518205281834, -0.36339915854146265, -0.36407573520217934, -0.36422723854100114, -0.3650568590008296, -0.36606449235703004, -0.3660821350948469, -0.36616074662640213, -0.3669107092067695, -0.36693026052502514, -0.3670950956379751, -0.36718774880790067, -0.3672449967090334, -0.3677630644070427, -0.36859310850278215, -0.36943947004221045, -0.37018820181381995, -0.37065715267445254, -0.37108796520241927, -0.37155238252404965, -0.3718231992153492, -0.37186941170185234, -0.37197628627734564, -0.37202542612875455, -0.3721113161056414, -0.37212830776853323, -0.37213447371804564, -0.37219881639567304, -0.37254924405736534, -0.37290300580005553, -0.373184877902406, -0.37323208302123373, -0.37349466655888697, -0.37350586791119583, -0.3740686028422498, -0.37426123180774773, -0.3742859969167599, -0.3743919834500174, -0.3746908795669362, -0.3753726946725651, -0.3755530671603428, -0.37560761438170176, -0.37630974409309104, -0.3764662116640253, -0.3774177423032764, -0.37758123322559295, -0.37771074101456775, -0.37792525693011336, -0.3781865602195658, -0.3784210305821318, -0.3790134466447749, -0.3791137821759684, -0.37956020821888986, -0.3799830888195681, -0.3801160715541722, -0.38011709812282307, -0.3803481694172895, -0.3803659320358983, -0.38041323453931764, -0.3816930631152246, -0.38185278503301306, -0.38207239234532175, -0.3824176009667387, -0.382592267190335, -0.38292697560015015, -0.38306979047432543, -0.38328579448329897, -0.38332075378788444, -0.38368570029733556, -0.38381126950528544, -0.3840077183362508, -0.3841574125606728, -0.3842195010772564, -0.3843066135569161, -0.3846059485225728, -0.3846422716961452, -0.3853281934009501, -0.38554760692867157, -0.3862408137022035, -0.3870547293086577, -0.3871048130363617, -0.38714568408047884, -0.3871683964834566, -0.38732182563218137, -0.3874059739056304, -0.3879433437935512, -0.38810674160204206, -0.3881530131744355, -0.3883318557377239, -0.3887872758689997, -0.3890977017778656, -0.3894277120156398, -0.3895270404580752, -0.3900143709366116, -0.3900534973019945, -0.390198450394672, -0.3902366556398495, -0.3903649323439682, -0.39041655557068167, -0.39055579543796926, -0.3909030442762455, -0.3909908963012402, -0.3913748776028729, -0.3914917760703473, -0.39152739365278316, -0.391640978850583, -0.3917702134735436, -0.39182458603685416, -0.39193305042077153, -0.3920468320068763, -0.3922330194330943, -0.39242400187398174, -0.3927555630038996, -0.3930059049006007, -0.3930109355373089, -0.3931453892997175, -0.39352701780562777, -0.39361410607236086, -0.3937196343443959, -0.394165410516704, -0.39441970430816625, -0.39443400857545524, -0.39489199051852275, -0.39493291695308985, -0.3952577936288987, -0.39608048899798515, -0.39622642763928634, -0.39629779723383113, -0.3963208285408722, -0.3963689519489498, -0.3966533066597878, -0.3976453903065687, -0.39772828686571754, -0.39773183934459944, -0.3982116649143617, -0.39886311225549637, -0.39887381068625044, -0.39913357508014646, -0.399570289039099, -0.4002099558794389, -0.40032881630610956, -0.40050356087814143, -0.400809217193291, -0.401130880018554, -0.4011467577182842, -0.40136256762197314, -0.40138128704812004, -0.4020139228126372, -0.4021442718626429, -0.4023755646384864, -0.4025304738345133, -0.4029448714138881, -0.4030153873404848, -0.40308224201359766, -0.4052767796060152, -0.405497847287651, -0.4055224496038859, -0.4061386810690917, -0.40629181034597306, -0.40797929064883837, -0.40821167631377975, -0.4083921625556979, -0.40839951440867844, -0.40858102776562694, -0.4086383151046067, -0.40889968923497183, -0.4090594758566704, -0.4091279870719453, -0.4091957554130464, -0.4093192889031547, -0.40941230577404925, -0.40957393648508866, -0.4096287185210272, -0.4098417180389546, -0.409957277964595, -0.4101034360390989, -0.4103894437152678, -0.4106707669118284, -0.41086010653121774, -0.41086314945802793, -0.41111108176136735, -0.411194861302081, -0.4116262753589877, -0.412051299411039, -0.41283240657102555, -0.41318246518044577, -0.413305038444708, -0.413442237995144, -0.4134805187174688, -0.41376853200851504, -0.41386112075951775, -0.41400779535517473, -0.4140618021403297, -0.4146197620103169, -0.41471754937534416, -0.41488718380538464, -0.4155092273305151, -0.41560072368936657, -0.4156918364834431, -0.4165433475124263, -0.41686165269007924, -0.41727294536175963, -0.41776433720171996, -0.4178054606877922, -0.41842732322856885, -0.41870824129239875, -0.4189452084226807, -0.4192157161331778, -0.41942097327501415, -0.41955078396640616, -0.4196381951497647, -0.41993648194546285, -0.4199593889368771, -0.42022125462921406, -0.42022278340868324, -0.4203290872176781, -0.4203446760844999, -0.4206705280327443, -0.4216756394004603, -0.4218294459027613, -0.42201376419056363, -0.422126557811183, -0.4222170481236016, -0.4222675032804299, -0.42228047526121126, -0.42233610185764997, -0.42259075690473097, -0.4227021209841418, -0.42295607341341673, -0.4231169984521657, -0.4232396641074416, -0.4238504966290142, -0.42389925592111494, -0.4239317401938856, -0.42401479420776605, -0.42409065038518, -0.42412773419135574, -0.424350607803441, -0.4244211802355766, -0.42452383181859166, -0.42455209250701226, -0.42514827876724837, -0.42515406941678185, -0.4251860509453366, -0.4252708247833617, -0.4254819392183605, -0.42560197618535245, -0.42606013334889925, -0.42620244862364687, -0.426218513960459, -0.4264397460841063, -0.4267101281790222, -0.4269046354252166, -0.4269679764206313, -0.4279679570493252, -0.428027956182865, -0.428318752247715, -0.42846459962464667, -0.4284728801285398, -0.42850907835463825, -0.42859954536193534, -0.4286201208263101, -0.4286260409225283, -0.4286303581108823, -0.42946046418488626, -0.42951366795770224, -0.4295411030255438, -0.429937806334112, -0.43014791212175735, -0.43022440660175676, -0.4304504685766939, -0.4310368834108987, -0.4310504316828966, -0.43148718849544193, -0.431525406579459, -0.4322027410795969, -0.43375152985914733, -0.4341765020985554, -0.4344611453677099, -0.4349019242763168, -0.43498596343866625, -0.43515463208069505, -0.43544196216973363, -0.43551506759755854, -0.43556567734447804, -0.4359646258926514, -0.43610227730420437, -0.436676865504004, -0.4369133281935629, -0.4369898293243604, -0.4375134088022189, -0.4378713672590592, -0.437945799197647, -0.4388993966988267, -0.43894830414425506, -0.43913874333323705, -0.43922973585078184, -0.43932213756109245, -0.4394907899363875, -0.4395141986778365, -0.4395731867982567, -0.4396232276671037, -0.4399520288399989, -0.4403042421996436, -0.44035598541519033, -0.440481042361469, -0.44088901163513255, -0.440952833183134, -0.4413274373667608, -0.44143417704773247, -0.4419756763481454, -0.44235047179739667, -0.4431090268988419, -0.4432597722361628, -0.4435267646764306, -0.4440427509031811, -0.44455348190457844, -0.44462466755055646, -0.44577530532384857, -0.4459148542626934, -0.4464183014387713, -0.4466881025886377, -0.44724946468774135, -0.4474537333479766, -0.4475699319475988, -0.44775332219841457, -0.44808306193467545, -0.4487599797736286, -0.4490386411447939, -0.44983209722603973, -0.4500185683314637, -0.4509721372028992, -0.4513248479449345, -0.45255660824442423, -0.4531422496292852, -0.4532798977721619, -0.4543207075669846, -0.455408749862617, -0.45689743058036897, -0.4569843919655001, -0.45790910819882974, -0.4585584663257165, -0.45900327205238745, -0.4605505760610866, -0.4612074191073447, -0.4614851552169731, -0.46179084585087815, -0.46280492613767815, -0.46291466469851095, -0.46306842487745414, -0.4633976014757988, -0.46363264191385256, -0.46411946866147014, -0.46415989844385985, -0.46435642215655554, -0.46448396221657257, -0.46497299847145585, -0.4652145710814534, -0.4654187870824537, -0.46548046894428413, -0.4656417486902609, -0.4657097053365583, -0.4657545232590928, -0.46650580101012296, -0.4665314943799028, -0.46688326939530517, -0.46698495212623786, -0.467251517162427, -0.4674333918744135, -0.4676815767592932, -0.46853870309811113, -0.4691299206282652, -0.4693249137432821, -0.46940426546323044, -0.4701541383763169, -0.4712187430265187, -0.47197665457003424, -0.47247041075543084, -0.47257808680507324, -0.4726166126720946, -0.4729855491939956, -0.4737192632522021, -0.4745531528861562, -0.47475558956141944, -0.47477389881362897, -0.4754017277975953, -0.4757120510090049, -0.47576095789127776, -0.47579648328425417, -0.476509757059314, -0.4768377436435536, -0.4768478908431161, -0.4805101905210487, -0.4811720058845618, -0.48135113169491467, -0.4840554789924372, -0.48457737631422615, -0.4850598320690915, -0.48589935787013044, -0.48610560737595543, -0.48938579363415796, -0.49045498880081795, -0.49068103638789984, -0.4908036084003581, -0.49103860031850183, -0.4916037080200841, -0.49176152614306373, -0.4920121947386393, -0.4923907617130518, -0.49267771171192154, -0.49299376595527705, -0.4932588502126528, -0.4934196475652081, -0.49376029073471417, -0.4938869802773828, -0.4947205402579726, -0.4959174916420254, -0.49614684520959196, -0.4962501004109788, -0.49630482990252645, -0.4970794530327307, -0.4970812680530573, -0.49794264965484814, -0.49806892023039867, -0.49816784986472734, -0.4984377806051506, -0.4995584068931775, -0.4997903842207138, -0.5018104367853202, -0.5018697632159599, -0.5019480967256493, -0.5023878307358862, -0.5025942389311219, -0.5028213814317167, -0.5031640454458882, -0.5042639507544587, -0.504881699792278, -0.5061438442407146, -0.5064479099203858, -0.506834343953046, -0.5069090514272028, -0.5078544495455062, -0.5079105741511618, -0.5086587613867646, -0.5091759598162978, -0.5100600784030831, -0.5104133520306815, -0.5107877676483318, -0.5116622571179147, -0.5117069551347804, -0.5123776418992564, -0.5139577158575632, -0.5149641340009636, -0.5149981456283975, -0.5154322660041761, -0.5164698094010469, -0.5174898543644911, -0.5186371354064925, -0.5186821874100422, -0.5189361023656219, -0.519871398967419, -0.5207308451505709, -0.5213097610902901, -0.521437566796265, -0.521554050036407, -0.5218580454090731, -0.5237733222658347, -0.5255032239827248, -0.5262596729024539, -0.5264827211346779, -0.5268054963777705, -0.5272004524769677, -0.5272915329340231, -0.5287728685623477, -0.5289597225280517, -0.5294243901002771, -0.5298628567151491, -0.5311679101911976, -0.5319051118559476, -0.5322727174653707, -0.5323357279940485, -0.5324064298563659, -0.5359215966991598, -0.5362410661856066, -0.5370246854261757, -0.5417526893527524, -0.5429851267736026, -0.5431002166315039, -0.5444875385202237, -0.5457056097712183, -0.5508917841768707, -0.5515014661865335, -0.5517384080201985, -0.5534438005959009, -0.5536884789664416, -0.555509155218888, -0.5610282546672578, -0.5699682408061826, -0.5704753217195059, -0.5719048258380924, -0.5750131990318276, -0.5832451096803676, -0.5838663513484266, -0.5839955751878281, -0.5870076007372222, -0.5891738984054461, -0.6051540909777066, -0.6089688858860464, -0.611580718234462]\n"
     ]
    },
    {
     "name": "stderr",
     "output_type": "stream",
     "text": [
      "C:\\Users\\chtra\\Anaconda3.6\\lib\\site-packages\\sklearn\\utils\\validation.py:475: DataConversionWarning: Data with input dtype int32 was converted to float64 by StandardScaler.\n",
      "  warnings.warn(msg, DataConversionWarning)\n",
      "C:\\Users\\chtra\\Anaconda3.6\\lib\\site-packages\\sklearn\\utils\\validation.py:475: DataConversionWarning: Data with input dtype int32 was converted to float64 by StandardScaler.\n",
      "  warnings.warn(msg, DataConversionWarning)\n"
     ]
    }
   ],
   "source": [
    "# vectorize and scale difficulty (categorical)\n",
    "difficulty = trail_data[['difficulty']]\n",
    "difficulty = difficulty.apply(lambda x: x.str.replace(' ','')).astype('category')    \n",
    "enc = LabelBinarizer().fit(difficulty)\n",
    "df_cat = enc.transform(difficulty)\n",
    "scaler_cat = StandardScaler().fit(df_cat)\n",
    "df_cat_scaled = scaler_cat.transform(df_cat)\n",
    "\n",
    "# scale numerical data (continuous)\n",
    "trail_data_numerical = trail_data[['elevation','distance',\n",
    "                                   'stars']]\n",
    "scaler_num = StandardScaler().fit(trail_data_numerical)\n",
    "df_num_scaled = scaler_num.transform(trail_data_numerical)\n",
    "\n",
    "# vectorize text data\n",
    "trail_attributes=data.trail_attributes\n",
    "hattrib=[]\n",
    "for l1 in trail_attributes:\n",
    "    hattrib.append([l2.replace(' ', '') for l2 in l1])\n",
    "print (hattrib[0])\n",
    "\n",
    "# Add the curated attibutes as a new column ('tags') in data\n",
    "trail_data['tags']=pd.Series(hattrib)\n",
    "trail_data['tags']=[' '.join(tag) for tag in trail_data.tags.values]\n",
    "tfidf = TfidfVectorizer()\n",
    "tfidf_matrix = tfidf.fit_transform(trail_data['tags']).toarray()\n",
    "tfidf_matrix[0]\n",
    "# concatenate and get similarity\n",
    "all_features = np.concatenate([tfidf_matrix,df_cat_scaled,df_num_scaled],axis=1)\n",
    "cosine_sim = cosine_similarity(all_features, all_features)\n",
    "cosine_sim.shape\n",
    "x=sorted(cosine_sim[0], reverse=True)\n",
    "print (x)\n",
    "# x=np.sort(cosine_sim[0])\n",
    "# print (x)"
   ]
  }
 ],
 "metadata": {
  "kernelspec": {
   "display_name": "Python 3",
   "language": "python",
   "name": "python3"
  },
  "language_info": {
   "codemirror_mode": {
    "name": "ipython",
    "version": 3
   },
   "file_extension": ".py",
   "mimetype": "text/x-python",
   "name": "python",
   "nbconvert_exporter": "python",
   "pygments_lexer": "ipython3",
   "version": "3.6.5"
  }
 },
 "nbformat": 4,
 "nbformat_minor": 2
}
