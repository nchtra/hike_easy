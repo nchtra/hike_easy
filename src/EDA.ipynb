{
 "cells": [
  {
   "cell_type": "markdown",
   "metadata": {},
   "source": [
    "## Exploratory Data Analysis (EDA)\n",
    "\n",
    "Goal - Create a similarity metric based on just the numerical data (elevation gain, distance, star rating)"
   ]
  },
  {
   "cell_type": "code",
   "execution_count": 92,
   "metadata": {},
   "outputs": [],
   "source": [
    "import pandas as pd\n",
    "import matplotlib.pyplot as plt\n",
    "from sklearn.feature_extraction.text import TfidfVectorizer\n",
    "import numpy as np"
   ]
  },
  {
   "cell_type": "markdown",
   "metadata": {},
   "source": [
    "### READ IN PICKLE DATA FILE"
   ]
  },
  {
   "cell_type": "code",
   "execution_count": 93,
   "metadata": {},
   "outputs": [],
   "source": [
    "#Read in pickle data file\n",
    "data=pd.read_pickle('../data/alltrails_ontario.pkl')"
   ]
  },
  {
   "cell_type": "markdown",
   "metadata": {},
   "source": [
    "### CURATION\n",
    "1. Change trail attributes to string for TF-IDF\n",
    "2. Remove nan from elevation data"
   ]
  },
  {
   "cell_type": "code",
   "execution_count": 94,
   "metadata": {},
   "outputs": [
    {
     "name": "stderr",
     "output_type": "stream",
     "text": [
      "C:\\Users\\chtra\\Anaconda3.6\\lib\\site-packages\\ipykernel_launcher.py:2: SettingWithCopyWarning: \n",
      "A value is trying to be set on a copy of a slice from a DataFrame\n",
      "\n",
      "See the caveats in the documentation: http://pandas.pydata.org/pandas-docs/stable/indexing.html#indexing-view-versus-copy\n",
      "  \n"
     ]
    }
   ],
   "source": [
    "#Replace nan with 0. - I had to do this since elevation had a few rows with nan\n",
    "data.elevation[np.isnan(data.elevation)]=0.\n",
    "data_copy=data.copy()\n",
    "# data.distance.astype('float')\n",
    "# data.dtypes"
   ]
  },
  {
   "cell_type": "code",
   "execution_count": 95,
   "metadata": {},
   "outputs": [
    {
     "name": "stdout",
     "output_type": "stream",
     "text": [
      "['dogsonleash', 'wheelchairfriendly', 'kidfriendly', 'strollerfriendly', 'hiking', 'mountainbiking', 'naturetrips', 'snowshoeing', 'trailrunning', 'walking', 'forest', 'paved', 'views', 'snow']\n"
     ]
    },
    {
     "data": {
      "text/html": [
       "<div>\n",
       "<style scoped>\n",
       "    .dataframe tbody tr th:only-of-type {\n",
       "        vertical-align: middle;\n",
       "    }\n",
       "\n",
       "    .dataframe tbody tr th {\n",
       "        vertical-align: top;\n",
       "    }\n",
       "\n",
       "    .dataframe thead th {\n",
       "        text-align: right;\n",
       "    }\n",
       "</style>\n",
       "<table border=\"1\" class=\"dataframe\">\n",
       "  <thead>\n",
       "    <tr style=\"text-align: right;\">\n",
       "      <th></th>\n",
       "      <th>difficulty</th>\n",
       "      <th>distance</th>\n",
       "      <th>elevation</th>\n",
       "      <th>name</th>\n",
       "      <th>nreviews</th>\n",
       "      <th>review</th>\n",
       "      <th>route_type</th>\n",
       "      <th>stars</th>\n",
       "      <th>trail_attributes</th>\n",
       "      <th>tags</th>\n",
       "    </tr>\n",
       "  </thead>\n",
       "  <tbody>\n",
       "    <tr>\n",
       "      <th>0</th>\n",
       "      <td>MODERATE</td>\n",
       "      <td>5.6</td>\n",
       "      <td>32.0</td>\n",
       "      <td>Taylor Creek Trail</td>\n",
       "      <td>23</td>\n",
       "      <td>Great for strollers, bikes etc. Opposite side ...</td>\n",
       "      <td>Out &amp; Back</td>\n",
       "      <td>3.7</td>\n",
       "      <td>[dogs on leash, wheelchair friendly, kid frien...</td>\n",
       "      <td>dogsonleash wheelchairfriendly kidfriendly str...</td>\n",
       "    </tr>\n",
       "    <tr>\n",
       "      <th>1</th>\n",
       "      <td>MODERATE</td>\n",
       "      <td>4.7</td>\n",
       "      <td>64.0</td>\n",
       "      <td>Hilton Falls Trail</td>\n",
       "      <td>238</td>\n",
       "      <td>What a gem! I was so pleasantly  surprised by ...</td>\n",
       "      <td>Loop</td>\n",
       "      <td>4.3</td>\n",
       "      <td>[dogs on leash, cross country skiing, fishing,...</td>\n",
       "      <td>dogsonleash crosscountryskiing fishing hiking ...</td>\n",
       "    </tr>\n",
       "    <tr>\n",
       "      <th>2</th>\n",
       "      <td>MODERATE</td>\n",
       "      <td>2.3</td>\n",
       "      <td>100.0</td>\n",
       "      <td>Niagara Glen Trail</td>\n",
       "      <td>135</td>\n",
       "      <td>Beautiful area with several trails.  Loved exp...</td>\n",
       "      <td>Loop</td>\n",
       "      <td>4.7</td>\n",
       "      <td>[dogs on leash, kid friendly, hiking, nature t...</td>\n",
       "      <td>dogsonleash kidfriendly hiking naturetrips wal...</td>\n",
       "    </tr>\n",
       "    <tr>\n",
       "      <th>3</th>\n",
       "      <td>MODERATE</td>\n",
       "      <td>7.2</td>\n",
       "      <td>128.0</td>\n",
       "      <td>Nassagaweya and Bruce Trail Loop from Rattlesn...</td>\n",
       "      <td>170</td>\n",
       "      <td>Great views! We went in January so there weren...</td>\n",
       "      <td>Loop</td>\n",
       "      <td>4.2</td>\n",
       "      <td>[dogs on leash, kid friendly, hiking, nature t...</td>\n",
       "      <td>dogsonleash kidfriendly hiking naturetrips sno...</td>\n",
       "    </tr>\n",
       "    <tr>\n",
       "      <th>4</th>\n",
       "      <td>MODERATE</td>\n",
       "      <td>15.3</td>\n",
       "      <td>427.0</td>\n",
       "      <td>Lion's Head Loop Via Bruce Trail</td>\n",
       "      <td>117</td>\n",
       "      <td>Amazing trail with stunning lookouts. Hiked it...</td>\n",
       "      <td>Loop</td>\n",
       "      <td>4.8</td>\n",
       "      <td>[dogs on leash, hiking, nature trips, walking,...</td>\n",
       "      <td>dogsonleash hiking naturetrips walking birdwat...</td>\n",
       "    </tr>\n",
       "  </tbody>\n",
       "</table>\n",
       "</div>"
      ],
      "text/plain": [
       "  difficulty  distance  elevation  \\\n",
       "0   MODERATE       5.6       32.0   \n",
       "1   MODERATE       4.7       64.0   \n",
       "2   MODERATE       2.3      100.0   \n",
       "3   MODERATE       7.2      128.0   \n",
       "4   MODERATE      15.3      427.0   \n",
       "\n",
       "                                                name nreviews  \\\n",
       "0                                 Taylor Creek Trail       23   \n",
       "1                                 Hilton Falls Trail      238   \n",
       "2                                 Niagara Glen Trail      135   \n",
       "3  Nassagaweya and Bruce Trail Loop from Rattlesn...      170   \n",
       "4                  Lion's Head Loop Via Bruce Trail       117   \n",
       "\n",
       "                                              review  route_type  stars  \\\n",
       "0  Great for strollers, bikes etc. Opposite side ...  Out & Back    3.7   \n",
       "1  What a gem! I was so pleasantly  surprised by ...        Loop    4.3   \n",
       "2  Beautiful area with several trails.  Loved exp...        Loop    4.7   \n",
       "3  Great views! We went in January so there weren...        Loop    4.2   \n",
       "4  Amazing trail with stunning lookouts. Hiked it...        Loop    4.8   \n",
       "\n",
       "                                    trail_attributes  \\\n",
       "0  [dogs on leash, wheelchair friendly, kid frien...   \n",
       "1  [dogs on leash, cross country skiing, fishing,...   \n",
       "2  [dogs on leash, kid friendly, hiking, nature t...   \n",
       "3  [dogs on leash, kid friendly, hiking, nature t...   \n",
       "4  [dogs on leash, hiking, nature trips, walking,...   \n",
       "\n",
       "                                                tags  \n",
       "0  dogsonleash wheelchairfriendly kidfriendly str...  \n",
       "1  dogsonleash crosscountryskiing fishing hiking ...  \n",
       "2  dogsonleash kidfriendly hiking naturetrips wal...  \n",
       "3  dogsonleash kidfriendly hiking naturetrips sno...  \n",
       "4  dogsonleash hiking naturetrips walking birdwat...  "
      ]
     },
     "execution_count": 95,
     "metadata": {},
     "output_type": "execute_result"
    }
   ],
   "source": [
    "#Curate trail attributes to create single words for each array element\n",
    "trail_attributes=data.trail_attributes\n",
    "hattrib=[]\n",
    "for l1 in trail_attributes:\n",
    "    hattrib.append([l2.replace(' ', '') for l2 in l1])\n",
    "print (hattrib[0])\n",
    "\n",
    "# Add the curated attibutes as a new column ('tags') in data\n",
    "data['tags']=pd.Series(hattrib)\n",
    "#convert list of strings to text - this is necessary for running TFIDF\n",
    "data['tags']=[' '.join(tag) for tag in data.tags.values]\n",
    "# data.elevation[628]\n",
    "data.tags[0]\n",
    "# data[data['elevation']==0]\n",
    "data.head(5)"
   ]
  },
  {
   "cell_type": "code",
   "execution_count": 96,
   "metadata": {},
   "outputs": [
    {
     "data": {
      "text/html": [
       "<div>\n",
       "<style scoped>\n",
       "    .dataframe tbody tr th:only-of-type {\n",
       "        vertical-align: middle;\n",
       "    }\n",
       "\n",
       "    .dataframe tbody tr th {\n",
       "        vertical-align: top;\n",
       "    }\n",
       "\n",
       "    .dataframe thead th {\n",
       "        text-align: right;\n",
       "    }\n",
       "</style>\n",
       "<table border=\"1\" class=\"dataframe\">\n",
       "  <thead>\n",
       "    <tr style=\"text-align: right;\">\n",
       "      <th></th>\n",
       "      <th>difficulty</th>\n",
       "      <th>distance</th>\n",
       "      <th>elevation</th>\n",
       "      <th>name</th>\n",
       "      <th>nreviews</th>\n",
       "      <th>review</th>\n",
       "      <th>route_type</th>\n",
       "      <th>stars</th>\n",
       "      <th>trail_attributes</th>\n",
       "      <th>tags</th>\n",
       "      <th>num_difficulty</th>\n",
       "    </tr>\n",
       "  </thead>\n",
       "  <tbody>\n",
       "    <tr>\n",
       "      <th>0</th>\n",
       "      <td>MODERATE</td>\n",
       "      <td>5.6</td>\n",
       "      <td>32.0</td>\n",
       "      <td>Taylor Creek Trail</td>\n",
       "      <td>23</td>\n",
       "      <td>Great for strollers, bikes etc. Opposite side ...</td>\n",
       "      <td>Out &amp; Back</td>\n",
       "      <td>3.7</td>\n",
       "      <td>[dogs on leash, wheelchair friendly, kid frien...</td>\n",
       "      <td>dogsonleash wheelchairfriendly kidfriendly str...</td>\n",
       "      <td>[1, 1]</td>\n",
       "    </tr>\n",
       "    <tr>\n",
       "      <th>1</th>\n",
       "      <td>MODERATE</td>\n",
       "      <td>4.7</td>\n",
       "      <td>64.0</td>\n",
       "      <td>Hilton Falls Trail</td>\n",
       "      <td>238</td>\n",
       "      <td>What a gem! I was so pleasantly  surprised by ...</td>\n",
       "      <td>Loop</td>\n",
       "      <td>4.3</td>\n",
       "      <td>[dogs on leash, cross country skiing, fishing,...</td>\n",
       "      <td>dogsonleash crosscountryskiing fishing hiking ...</td>\n",
       "      <td>[1, 1]</td>\n",
       "    </tr>\n",
       "    <tr>\n",
       "      <th>2</th>\n",
       "      <td>MODERATE</td>\n",
       "      <td>2.3</td>\n",
       "      <td>100.0</td>\n",
       "      <td>Niagara Glen Trail</td>\n",
       "      <td>135</td>\n",
       "      <td>Beautiful area with several trails.  Loved exp...</td>\n",
       "      <td>Loop</td>\n",
       "      <td>4.7</td>\n",
       "      <td>[dogs on leash, kid friendly, hiking, nature t...</td>\n",
       "      <td>dogsonleash kidfriendly hiking naturetrips wal...</td>\n",
       "      <td>[1, 1]</td>\n",
       "    </tr>\n",
       "    <tr>\n",
       "      <th>3</th>\n",
       "      <td>MODERATE</td>\n",
       "      <td>7.2</td>\n",
       "      <td>128.0</td>\n",
       "      <td>Nassagaweya and Bruce Trail Loop from Rattlesn...</td>\n",
       "      <td>170</td>\n",
       "      <td>Great views! We went in January so there weren...</td>\n",
       "      <td>Loop</td>\n",
       "      <td>4.2</td>\n",
       "      <td>[dogs on leash, kid friendly, hiking, nature t...</td>\n",
       "      <td>dogsonleash kidfriendly hiking naturetrips sno...</td>\n",
       "      <td>[1, 1]</td>\n",
       "    </tr>\n",
       "    <tr>\n",
       "      <th>4</th>\n",
       "      <td>MODERATE</td>\n",
       "      <td>15.3</td>\n",
       "      <td>427.0</td>\n",
       "      <td>Lion's Head Loop Via Bruce Trail</td>\n",
       "      <td>117</td>\n",
       "      <td>Amazing trail with stunning lookouts. Hiked it...</td>\n",
       "      <td>Loop</td>\n",
       "      <td>4.8</td>\n",
       "      <td>[dogs on leash, hiking, nature trips, walking,...</td>\n",
       "      <td>dogsonleash hiking naturetrips walking birdwat...</td>\n",
       "      <td>[1, 1]</td>\n",
       "    </tr>\n",
       "  </tbody>\n",
       "</table>\n",
       "</div>"
      ],
      "text/plain": [
       "  difficulty  distance  elevation  \\\n",
       "0   MODERATE       5.6       32.0   \n",
       "1   MODERATE       4.7       64.0   \n",
       "2   MODERATE       2.3      100.0   \n",
       "3   MODERATE       7.2      128.0   \n",
       "4   MODERATE      15.3      427.0   \n",
       "\n",
       "                                                name nreviews  \\\n",
       "0                                 Taylor Creek Trail       23   \n",
       "1                                 Hilton Falls Trail      238   \n",
       "2                                 Niagara Glen Trail      135   \n",
       "3  Nassagaweya and Bruce Trail Loop from Rattlesn...      170   \n",
       "4                  Lion's Head Loop Via Bruce Trail       117   \n",
       "\n",
       "                                              review  route_type  stars  \\\n",
       "0  Great for strollers, bikes etc. Opposite side ...  Out & Back    3.7   \n",
       "1  What a gem! I was so pleasantly  surprised by ...        Loop    4.3   \n",
       "2  Beautiful area with several trails.  Loved exp...        Loop    4.7   \n",
       "3  Great views! We went in January so there weren...        Loop    4.2   \n",
       "4  Amazing trail with stunning lookouts. Hiked it...        Loop    4.8   \n",
       "\n",
       "                                    trail_attributes  \\\n",
       "0  [dogs on leash, wheelchair friendly, kid frien...   \n",
       "1  [dogs on leash, cross country skiing, fishing,...   \n",
       "2  [dogs on leash, kid friendly, hiking, nature t...   \n",
       "3  [dogs on leash, kid friendly, hiking, nature t...   \n",
       "4  [dogs on leash, hiking, nature trips, walking,...   \n",
       "\n",
       "                                                tags num_difficulty  \n",
       "0  dogsonleash wheelchairfriendly kidfriendly str...         [1, 1]  \n",
       "1  dogsonleash crosscountryskiing fishing hiking ...         [1, 1]  \n",
       "2  dogsonleash kidfriendly hiking naturetrips wal...         [1, 1]  \n",
       "3  dogsonleash kidfriendly hiking naturetrips sno...         [1, 1]  \n",
       "4  dogsonleash hiking naturetrips walking birdwat...         [1, 1]  "
      ]
     },
     "execution_count": 96,
     "metadata": {},
     "output_type": "execute_result"
    }
   ],
   "source": [
    "#Convert difficulty rating to a 2D array (Easy-[1,0], moderate-[1,1], hard-[0,1])\n",
    "difficulty=data.difficulty\n",
    "arr=[]\n",
    "for i in difficulty:\n",
    "    if i=='EASY':\n",
    "        arr.append([1,0])\n",
    "    elif i=='MODERATE':\n",
    "        arr.append([1,1])\n",
    "    elif i=='HARD':\n",
    "        arr.append([0,1])\n",
    "# arr\n",
    "data['num_difficulty']=arr\n",
    "data.head(5)"
   ]
  },
  {
   "cell_type": "markdown",
   "metadata": {},
   "source": [
    "### Check numerical data\n"
   ]
  },
  {
   "cell_type": "code",
   "execution_count": 97,
   "metadata": {
    "scrolled": true
   },
   "outputs": [
    {
     "data": {
      "text/plain": [
       "<matplotlib.axes._subplots.AxesSubplot at 0x287a6918a90>"
      ]
     },
     "execution_count": 97,
     "metadata": {},
     "output_type": "execute_result"
    },
    {
     "data": {
      "image/png": "[encoded data removed]",
      "text/plain": [
       "<Figure size 432x288 with 1 Axes>"
      ]
     },
     "metadata": {},
     "output_type": "display_data"
    }
   ],
   "source": [
    "d=data.distance\n",
    "d.plot(kind='hist', rwidth=0.5) #, bins=[0,10,20,30,40,50,60,70,80])"
   ]
  },
  {
   "cell_type": "code",
   "execution_count": 98,
   "metadata": {},
   "outputs": [
    {
     "data": {
      "text/plain": [
       "<matplotlib.axes._subplots.AxesSubplot at 0x287a4593438>"
      ]
     },
     "execution_count": 98,
     "metadata": {},
     "output_type": "execute_result"
    },
    {
     "data": {
      "image/png": "[encoded data removed]",
      "text/plain": [
       "<Figure size 432x288 with 1 Axes>"
      ]
     },
     "metadata": {},
     "output_type": "display_data"
    }
   ],
   "source": [
    "e=data.elevation\n",
    "e.plot(kind='hist',bins=[0,100, 200, 300, 400,800,1200], rwidth=0.5)"
   ]
  },
  {
   "cell_type": "code",
   "execution_count": 99,
   "metadata": {},
   "outputs": [
    {
     "data": {
      "text/plain": [
       "<matplotlib.axes._subplots.AxesSubplot at 0x287a4630940>"
      ]
     },
     "execution_count": 99,
     "metadata": {},
     "output_type": "execute_result"
    },
    {
     "data": {
      "image/png": "[encoded data removed]",
      "text/plain": [
       "<Figure size 432x288 with 1 Axes>"
      ]
     },
     "metadata": {},
     "output_type": "display_data"
    }
   ],
   "source": [
    "s=data.stars\n",
    "s.plot(kind='hist')"
   ]
  },
  {
   "cell_type": "code",
   "execution_count": 122,
   "metadata": {},
   "outputs": [],
   "source": [
    "# Create scaling for numerical data\n",
    "from sklearn.preprocessing import StandardScaler, MinMaxScaler, RobustScaler, OneHotEncoder ,LabelBinarizer\n",
    "import seaborn as sns\n",
    "import matplotlib\n",
    "import matplotlib.pyplot as plt\n",
    "data_numerical=data[['elevation','distance','stars']]\n",
    "scale_numerical=StandardScaler().fit(data_numerical)\n",
    "data_num_scaled=scale_numerical.transform(data_numerical)\n",
    "# print (data_num_scaled[:3])\n",
    "# data_num_scaled.shape"
   ]
  },
  {
   "cell_type": "code",
   "execution_count": 123,
   "metadata": {},
   "outputs": [
    {
     "data": {
      "image/png": "[encoded data removed]",
      "text/plain": [
       "<Figure size 432x360 with 2 Axes>"
      ]
     },
     "metadata": {},
     "output_type": "display_data"
    }
   ],
   "source": [
    "#StandardScaling - Good for data with normal distribution\n",
    "numerical_data=data[['elevation','distance','stars']]\n",
    "\n",
    "scaler=StandardScaler()\n",
    "scaled_snd=scaler.fit_transform(numerical_data)\n",
    "scaled_snd=pd.DataFrame(scaled_snd, columns=['elevation','distance','stars'])\n",
    "\n",
    "fig, (ax1, ax2) = plt.subplots(ncols=2, figsize=(6, 5))\n",
    "\n",
    "ax1.set_title('Before Scaling')\n",
    "sns.kdeplot(data['elevation'], ax=ax1)\n",
    "sns.kdeplot(data['distance'], ax=ax1)\n",
    "sns.kdeplot(data['stars'], ax=ax1)\n",
    "ax2.set_title('After Standard Scaler')\n",
    "sns.kdeplot(scaled_snd['elevation'], ax=ax2)\n",
    "sns.kdeplot(scaled_snd['distance'], ax=ax2)\n",
    "sns.kdeplot(scaled_snd['stars'], ax=ax2)\n",
    "plt.show()"
   ]
  },
  {
   "cell_type": "code",
   "execution_count": 124,
   "metadata": {},
   "outputs": [
    {
     "name": "stdout",
     "output_type": "stream",
     "text": [
      "elevation    157.383185\n",
      "distance       8.392955\n",
      "stars          3.768230\n",
      "dtype: float64 elevation    291.590267\n",
      "distance      13.018684\n",
      "stars          1.154356\n",
      "dtype: float64\n",
      "elevation    -0.478010\n",
      "distance      0.737943\n",
      "stars        12.328751\n",
      "dtype: float64\n"
     ]
    }
   ],
   "source": [
    "numerical_data\n",
    "dmean=np.mean(numerical_data)\n",
    "dstd=np.std(numerical_data)\n",
    "print (dmean, dstd)\n",
    "\n",
    "dt=[18]\n",
    "sc=(dt-dmean)/dstd\n",
    "print (sc)"
   ]
  },
  {
   "cell_type": "code",
   "execution_count": 125,
   "metadata": {},
   "outputs": [
    {
     "data": {
      "image/png": "[encoded data removed]",
      "text/plain": [
       "<Figure size 432x360 with 2 Axes>"
      ]
     },
     "metadata": {},
     "output_type": "display_data"
    }
   ],
   "source": [
    "#MinMaxscaling\n",
    "numerical_data=data[['elevation','distance','stars']]\n",
    "\n",
    "scaler=MinMaxScaler()\n",
    "scaled_nd=scaler.fit_transform(numerical_data)\n",
    "scaled_nd=pd.DataFrame(scaled_nd, columns=['elevation','distance','stars'])\n",
    "\n",
    "fig, (ax1, ax2) = plt.subplots(ncols=2, figsize=(6, 5))\n",
    "\n",
    "ax1.set_title('Before Scaling')\n",
    "sns.kdeplot(data['elevation'], ax=ax1)\n",
    "sns.kdeplot(data['distance'], ax=ax1)\n",
    "sns.kdeplot(data['stars'], ax=ax1)\n",
    "ax2.set_title('After MinMax Scaler')\n",
    "sns.kdeplot(scaled_nd['elevation'], ax=ax2)\n",
    "sns.kdeplot(scaled_nd['distance'], ax=ax2)\n",
    "sns.kdeplot(scaled_nd['stars'], ax=ax2)\n",
    "plt.show()"
   ]
  },
  {
   "cell_type": "code",
   "execution_count": 126,
   "metadata": {},
   "outputs": [
    {
     "data": {
      "image/png": "[encoded data removed]",
      "text/plain": [
       "<Figure size 432x360 with 2 Axes>"
      ]
     },
     "metadata": {},
     "output_type": "display_data"
    }
   ],
   "source": [
    "#RobustScaling - Suitable when there are outliers in the data\n",
    "\n",
    "numerical_data=data[['elevation','distance','stars']]\n",
    "\n",
    "scaler=RobustScaler()\n",
    "scaled_nd=scaler.fit_transform(numerical_data)\n",
    "scaled_nd=pd.DataFrame(scaled_nd, columns=['elevation','distance','stars'])\n",
    "\n",
    "fig, (ax1, ax2) = plt.subplots(ncols=2, figsize=(6, 5))\n",
    "\n",
    "ax1.set_title('Before Scaling')\n",
    "sns.kdeplot(data['elevation'], ax=ax1)\n",
    "sns.kdeplot(data['distance'], ax=ax1)\n",
    "sns.kdeplot(data['stars'], ax=ax1)\n",
    "ax2.set_title('After MinMax Scaler')\n",
    "sns.kdeplot(scaled_nd['elevation'], ax=ax2)\n",
    "sns.kdeplot(scaled_nd['distance'], ax=ax2)\n",
    "sns.kdeplot(scaled_nd['stars'], ax=ax2)\n",
    "plt.show()"
   ]
  },
  {
   "cell_type": "markdown",
   "metadata": {},
   "source": [
    "##  Testing cosine similarity with just the distance\n"
   ]
  },
  {
   "cell_type": "code",
   "execution_count": 127,
   "metadata": {},
   "outputs": [],
   "source": [
    "#RobustScaling - Suitable when there are outliers in the data\n",
    "\n",
    "numerical_data=data[['distance']]\n",
    "\n",
    "scaler=RobustScaler()\n",
    "scaled_rnd=scaler.fit_transform(numerical_data)\n",
    "scaled_rnd=pd.DataFrame(scaled_nd, columns=['distance'])\n",
    "# scaled_rnd"
   ]
  },
  {
   "cell_type": "code",
   "execution_count": 128,
   "metadata": {},
   "outputs": [
    {
     "data": {
      "text/plain": [
       "array([ 1.        , -0.39123622, -0.8115597 , ...,  0.71661821,\n",
       "        0.7339096 ,  0.20930556])"
      ]
     },
     "execution_count": 128,
     "metadata": {},
     "output_type": "execute_result"
    }
   ],
   "source": [
    "from sklearn.metrics.pairwise import cosine_similarity, euclidean_distances\n",
    "#Looks like robustscaling is better for my data\n",
    "\n",
    "scaled_nd\n",
    "cs_rnd=cosine_similarity(scaled_nd,scaled_nd)\n",
    "cs_rnd[0]"
   ]
  },
  {
   "cell_type": "code",
   "execution_count": 129,
   "metadata": {},
   "outputs": [
    {
     "data": {
      "text/plain": [
       "array([[0.]])"
      ]
     },
     "execution_count": 129,
     "metadata": {},
     "output_type": "execute_result"
    }
   ],
   "source": [
    "d1=[[10]]\n",
    "d1s=scaler.fit_transform(d1)\n",
    "d=data.distance\n",
    "csm=cosine_similarity(d1,d.values.reshape(-1,1))\n",
    "# csm\n",
    "dfd=pd.DataFrame({'csm':csm[0]})\n",
    "csm=(csm.reshape(-1,1)).tolist()\n",
    "sorted_dfd=dfd.sort_values(by='csm',ascending=False)\n",
    "# print (df.sort_values(by='csim',ascending=False))\n",
    "\n",
    "csm\n",
    "dfd.head()\n",
    "sorted_dfd.head()\n",
    "d1s\n",
    "# data[235]\n",
    "# data.iloc[0]"
   ]
  },
  {
   "cell_type": "markdown",
   "metadata": {},
   "source": [
    "### END OF TEST"
   ]
  },
  {
   "cell_type": "code",
   "execution_count": 130,
   "metadata": {},
   "outputs": [
    {
     "data": {
      "text/html": [
       "<div>\n",
       "<style scoped>\n",
       "    .dataframe tbody tr th:only-of-type {\n",
       "        vertical-align: middle;\n",
       "    }\n",
       "\n",
       "    .dataframe tbody tr th {\n",
       "        vertical-align: top;\n",
       "    }\n",
       "\n",
       "    .dataframe thead th {\n",
       "        text-align: right;\n",
       "    }\n",
       "</style>\n",
       "<table border=\"1\" class=\"dataframe\">\n",
       "  <thead>\n",
       "    <tr style=\"text-align: right;\">\n",
       "      <th></th>\n",
       "      <th>csim</th>\n",
       "    </tr>\n",
       "  </thead>\n",
       "  <tbody>\n",
       "    <tr>\n",
       "      <th>240</th>\n",
       "      <td>0.999717</td>\n",
       "    </tr>\n",
       "    <tr>\n",
       "      <th>181</th>\n",
       "      <td>0.999550</td>\n",
       "    </tr>\n",
       "    <tr>\n",
       "      <th>214</th>\n",
       "      <td>0.999151</td>\n",
       "    </tr>\n",
       "    <tr>\n",
       "      <th>298</th>\n",
       "      <td>0.994373</td>\n",
       "    </tr>\n",
       "    <tr>\n",
       "      <th>517</th>\n",
       "      <td>0.994346</td>\n",
       "    </tr>\n",
       "  </tbody>\n",
       "</table>\n",
       "</div>"
      ],
      "text/plain": [
       "         csim\n",
       "240  0.999717\n",
       "181  0.999550\n",
       "214  0.999151\n",
       "298  0.994373\n",
       "517  0.994346"
      ]
     },
     "execution_count": 130,
     "metadata": {},
     "output_type": "execute_result"
    }
   ],
   "source": [
    "#Testing - \n",
    "# params=[[200,8,4]]\n",
    "params=[[5.6,32,3]]\n",
    "csim=cosine_similarity(params,scaled_nd)\n",
    "df=pd.DataFrame({'csim':csim[0]})\n",
    "csim=(csim.reshape(-1,1)).tolist()\n",
    "sorted_df=df.sort_values(by='csim',ascending=False)\n",
    "# print (df.sort_values(by='csim',ascending=False))\n",
    "\n",
    "csim\n",
    "df.head()\n",
    "sorted_df.head()\n",
    "# data[235]\n",
    "# data.iloc[235]"
   ]
  },
  {
   "cell_type": "code",
   "execution_count": 131,
   "metadata": {},
   "outputs": [],
   "source": [
    "# Import essential modules\n",
    "from sklearn.feature_extraction.text import TfidfVectorizer, CountVectorizer\n",
    "from sklearn.metrics.pairwise import cosine_similarity\n",
    "from sklearn.preprocessing import StandardScaler, LabelBinarizer, OneHotEncoder"
   ]
  },
  {
   "cell_type": "code",
   "execution_count": 132,
   "metadata": {},
   "outputs": [
    {
     "data": {
      "text/plain": [
       "array([0.18367581, 0.59676552, 0.23261501, 0.29289064, 0.13896483,\n",
       "       0.4657896 , 0.17478295, 0.37330009, 0.17794024, 0.12877595,\n",
       "       0.28561971, 0.41058608, 0.38010594, 0.33239734, 0.04828691,\n",
       "       0.10341602, 0.06287912, 0.12858908, 0.3849361 , 0.23213758,\n",
       "       0.41129109, 0.16868769, 0.20911214, 0.1843822 , 0.27361407,\n",
       "       0.22543106, 0.19293309, 0.33087777, 0.1503317 , 0.2504812 ,\n",
       "       0.18632794, 0.12031449, 0.32465456, 0.33690484, 0.36585144,\n",
       "       0.35055771, 0.15204904, 0.28891288, 0.28557764, 0.03371356,\n",
       "       0.65590268, 0.28999029, 0.24279855, 0.19787747, 0.34418901,\n",
       "       0.30175626, 0.11632172, 0.16408624, 0.32194278, 0.10950119,\n",
       "       0.07686723, 0.49854098, 0.31143433, 0.22992231, 0.19885514,\n",
       "       0.21914115, 0.67335096, 0.15904184, 0.3812544 , 0.3108447 ,\n",
       "       0.64762743, 0.28561971, 0.17898187, 0.2138648 , 0.24768236,\n",
       "       0.36585144, 0.35173618, 0.35173618, 0.41898778, 0.31855181,\n",
       "       0.30529459, 0.65922408, 0.08741758, 0.09856034, 0.34312225,\n",
       "       0.19812211, 0.26869643, 0.34582261, 0.23818631, 0.28561971,\n",
       "       0.30767334, 0.10979754, 0.28772042, 0.28877534, 0.34222732,\n",
       "       0.16905213, 0.21474271, 0.24524849, 0.33087777, 0.32108945,\n",
       "       0.09150212, 0.10575151, 0.2872357 , 0.20410754, 0.26732957,\n",
       "       0.23080021, 0.38768031, 0.27552361, 0.23080021, 0.24743476,\n",
       "       0.26394777, 0.28641103, 0.32132752, 0.24769013, 0.30529459])"
      ]
     },
     "execution_count": 132,
     "metadata": {},
     "output_type": "execute_result"
    }
   ],
   "source": [
    "#Vectorize tags\n",
    "tv=TfidfVectorizer()\n",
    "tv_matrix = tv.fit_transform(data['tags'])\n",
    "cosine_sim_tags = cosine_similarity(tv_matrix, tv_matrix)\n",
    "cosine_sim_tags.shape\n",
    "# print (cosine_sim[1][4], len(cosine_sim[0]), len(cosine_sim))\n",
    "cosine_sim_tags[0,1110:]"
   ]
  },
  {
   "cell_type": "code",
   "execution_count": 133,
   "metadata": {},
   "outputs": [
    {
     "data": {
      "text/plain": [
       "array([[1.        , 0.66666667, 0.40824829],\n",
       "       [0.66666667, 1.        , 0.40824829],\n",
       "       [0.40824829, 0.40824829, 1.        ]])"
      ]
     },
     "execution_count": 133,
     "metadata": {},
     "output_type": "execute_result"
    }
   ],
   "source": [
    "#Vectorize tags - Test - Seems to be ok?!\n",
    "from sklearn.feature_extraction.text import TfidfVectorizer, CountVectorizer\n",
    "tv=TfidfVectorizer()\n",
    "tg=['pf river wheelchair', 'pf river train', 'train wheelchair']\n",
    "tv_matrix = tv.fit_transform(tg)\n",
    "cosine_sim_tags = cosine_similarity(tv_matrix, tv_matrix)\n",
    "cosine_sim_tags.shape\n",
    "cosine_sim_tags\n",
    "# tv_matrix"
   ]
  },
  {
   "cell_type": "code",
   "execution_count": 134,
   "metadata": {},
   "outputs": [
    {
     "data": {
      "text/plain": [
       "(<3x4 sparse matrix of type '<class 'numpy.float64'>'\n",
       " \twith 8 stored elements in Compressed Sparse Row format>,\n",
       " <1x2 sparse matrix of type '<class 'numpy.float64'>'\n",
       " \twith 2 stored elements in Compressed Sparse Row format>)"
      ]
     },
     "execution_count": 134,
     "metadata": {},
     "output_type": "execute_result"
    }
   ],
   "source": [
    "tst_tags=['pf train']\n",
    "trail_matrix=TfidfVectorizer().fit_transform(tg)\n",
    "tst_vect=TfidfVectorizer().fit_transform(tst_tags)\n",
    "trail_matrix.shape, tst_vect.shape\n",
    "trail_matrix, tst_vect\n",
    "# cos_sim_tst=cosine_similarity(trail_matrix,tst_vect)"
   ]
  },
  {
   "cell_type": "code",
   "execution_count": 135,
   "metadata": {},
   "outputs": [
    {
     "name": "stderr",
     "output_type": "stream",
     "text": [
      "C:\\Users\\chtra\\Anaconda3.6\\lib\\site-packages\\sklearn\\utils\\validation.py:475: DataConversionWarning: Data with input dtype int32 was converted to float64 by StandardScaler.\n",
      "  warnings.warn(msg, DataConversionWarning)\n",
      "C:\\Users\\chtra\\Anaconda3.6\\lib\\site-packages\\sklearn\\utils\\validation.py:475: DataConversionWarning: Data with input dtype int32 was converted to float64 by StandardScaler.\n",
      "  warnings.warn(msg, DataConversionWarning)\n"
     ]
    }
   ],
   "source": [
    "#Vectorize difficulty\n",
    "difficulty=data[['difficulty']]\n",
    "difficulty=difficulty.astype('category')\n",
    "# difficulty.dtypes\n",
    "\n",
    "lbd=LabelBinarizer() #.fit(difficulty)\n",
    "# lbd\n",
    "diffic_cat=lbd.fit_transform(difficulty)\n",
    "scaler_diffic=StandardScaler().fit_transform(diffic_cat)\n",
    "# diffic_scaled=scaler_diffic.transform(diffic_cat)\n",
    "# diffic_scaled[:10]\n",
    "# scaler_diffic\n",
    "diffic_cat[8:11]\n",
    "# difficulty[8:11]\n",
    "\n",
    "cosine_sim_difficulty=cosine_similarity(scaler_diffic,scaler_diffic)\n",
    "# num_difficulty\n",
    "cosine_sim_difficulty\n",
    "x=np.asarray(ndiffic)\n",
    "# print(x)"
   ]
  },
  {
   "cell_type": "code",
   "execution_count": 150,
   "metadata": {},
   "outputs": [
    {
     "name": "stderr",
     "output_type": "stream",
     "text": [
      "C:\\Users\\chtra\\Anaconda3.6\\lib\\site-packages\\sklearn\\utils\\validation.py:475: DataConversionWarning: Data with input dtype int32 was converted to float64 by StandardScaler.\n",
      "  warnings.warn(msg, DataConversionWarning)\n",
      "C:\\Users\\chtra\\Anaconda3.6\\lib\\site-packages\\sklearn\\utils\\validation.py:475: DataConversionWarning: Data with input dtype int32 was converted to float64 by StandardScaler.\n",
      "  warnings.warn(msg, DataConversionWarning)\n"
     ]
    },
    {
     "data": {
      "text/plain": [
       "(1215, 1215)"
      ]
     },
     "execution_count": 150,
     "metadata": {},
     "output_type": "execute_result"
    }
   ],
   "source": [
    "#Vectorize difficulty\n",
    "difficulty=data[['difficulty']]\n",
    "difficulty=difficulty.astype('category')\n",
    "\n",
    "# difficulty.dtypes\n",
    "lbd=LabelBinarizer(neg_label=0, pos_label=1,sparse_output=False) #.fit(difficulty)\n",
    "# lbd\n",
    "diffic_cat=lbd.fit_transform(difficulty)\n",
    "scaler_diffic=StandardScaler().fit_transform(diffic_cat)\n",
    "# diffic_scaled=scaler_diffic.transform(diffic_cat)\n",
    "# diffic_scaled[:10]\n",
    "# scaler_diffic\n",
    "diffic_cat[8:11]\n",
    "# difficulty[8:11]\n",
    "\n",
    "cosine_sim_difficulty=cosine_similarity(scaler_diffic,scaler_diffic)\n",
    "# num_difficulty\n",
    "cosine_sim_difficulty.shape\n",
    "# x=np.asarray(ndiffic)\n",
    "# print(x)\n",
    "# diffic_cat[8:11]"
   ]
  },
  {
   "cell_type": "code",
   "execution_count": 137,
   "metadata": {},
   "outputs": [
    {
     "data": {
      "text/plain": [
       "array([ 0.63245553, -1.15470054])"
      ]
     },
     "execution_count": 137,
     "metadata": {},
     "output_type": "execute_result"
    }
   ],
   "source": [
    "d=d=['easy','easy','hard','moderate','hard','easy','moderate']\n",
    "di=d=[[1,0],[1,0],[0,1],[1,1],[0,1],[1,0],[1,1]]\n",
    "# dlbd=LabelBinarizer().fit_transform(d)\n",
    "sdlbd=StandardScaler().fit_transform(di)\n",
    "sdlbd[0]\n",
    "# csim=cosine_similarity()"
   ]
  },
  {
   "cell_type": "code",
   "execution_count": 138,
   "metadata": {},
   "outputs": [
    {
     "data": {
      "text/plain": [
       "array([[1.        , 0.15107153, 0.11989501, ..., 0.        , 0.        ,\n",
       "        0.        ],\n",
       "       [0.15107153, 1.        , 0.32790341, ..., 0.        , 0.        ,\n",
       "        0.        ],\n",
       "       [0.11989501, 0.32790341, 1.        , ..., 0.        , 0.        ,\n",
       "        0.        ],\n",
       "       ...,\n",
       "       [0.        , 0.        , 0.        , ..., 0.        , 0.        ,\n",
       "        0.        ],\n",
       "       [0.        , 0.        , 0.        , ..., 0.        , 0.        ,\n",
       "        0.        ],\n",
       "       [0.        , 0.        , 0.        , ..., 0.        , 0.        ,\n",
       "        0.        ]])"
      ]
     },
     "execution_count": 138,
     "metadata": {},
     "output_type": "execute_result"
    }
   ],
   "source": [
    "#Vectorize reviews\n",
    "reviews=data.review\n",
    "reviews=reviews.str.lower()\n",
    "reviews=reviews.str.replace('\\\"', '')\n",
    "reviews=reviews.str.replace(\"\\'\", '')\n",
    "reviews=reviews.str.replace('\\\"', '')\n",
    "reviews=reviews.str.replace('\\!', '')\n",
    "reviews=reviews.str.replace('\\/', ' ')\n",
    "reviews=reviews.str.replace(',', '')\n",
    "reviews=reviews.str.replace('(', '')\n",
    "reviews=reviews.str.replace(')', '')\n",
    "reviews=reviews.str.replace('.', '')\n",
    "reviews=reviews.str.replace('\\d+', '')\n",
    "rtfidf=TfidfVectorizer(stop_words='english')\n",
    "rtfidf_matrix=rtfidf.fit_transform(reviews)\n",
    "rtfidf_matrix.shape\n",
    "# reviews\n",
    "# print (rtfidf_matrix)\n",
    "cosine_sim_reviews=cosine_similarity(rtfidf_matrix,rtfidf_matrix)\n",
    "cosine_sim_reviews #.shape\n"
   ]
  },
  {
   "cell_type": "code",
   "execution_count": 148,
   "metadata": {},
   "outputs": [
    {
     "data": {
      "text/plain": [
       "(1215, 1215)"
      ]
     },
     "execution_count": 148,
     "metadata": {},
     "output_type": "execute_result"
    }
   ],
   "source": [
    "#Combine and calculate cosine similarity for difficulty and numerical parameter\n",
    "# combined_features=np.concatenate([data_num_scaled,diffic_scaled,cosine_sim,rtfidf_matrix],axis=1)\n",
    "features_numdiff=np.concatenate([data_num_scaled,scaler_diffic],axis=1)\n",
    "cosine_sim_numdiff=cosine_similarity(features_numdiff,features_numdiff)\n",
    "cosine_sim_numdiff.shape\n",
    "# cosine_sim_numdiff[0][:10]"
   ]
  },
  {
   "cell_type": "code",
   "execution_count": 157,
   "metadata": {},
   "outputs": [
    {
     "data": {
      "text/plain": [
       "(1215, 2430)"
      ]
     },
     "execution_count": 157,
     "metadata": {},
     "output_type": "execute_result"
    }
   ],
   "source": [
    "#combine and calculate cosine similarity for ALL features\n",
    "# combined_features=np.concatenate([cosine_sim_numdiff,cosine_sim_reviews,cosine_sim_tags], axis=1)\n",
    "# cosine_sim_difficulty.shape\n",
    "combined_features=np.concatenate([cosine_sim_numdiff, cosine_sim_difficulty], axis=1)\n",
    "cosine_sim_all=cosine_similarity(combined_features,combined_features)\n",
    "cosine_sim_all[10][90:100]\n",
    "cosine_sim_all.shape\n",
    "combined_features.shape\n",
    "# cosine_sim_all"
   ]
  },
  {
   "cell_type": "markdown",
   "metadata": {},
   "source": [
    "#### Test trail recommendation based on cosine similarity above"
   ]
  },
  {
   "cell_type": "code",
   "execution_count": null,
   "metadata": {},
   "outputs": [],
   "source": []
  },
  {
   "cell_type": "code",
   "execution_count": null,
   "metadata": {},
   "outputs": [],
   "source": [
    "trail_ui='Manitou Mountaion Trail to Calabogie Lake Loop'"
   ]
  },
  {
   "cell_type": "code",
   "execution_count": 162,
   "metadata": {},
   "outputs": [
    {
     "name": "stdout",
     "output_type": "stream",
     "text": [
      "353\n",
      "[(0, -0.9694451324493101), (1, -0.9572758358486628), (2, -0.944181547001367), (3, -0.9675127459689962), (4, -0.9711075170327623), (5, -0.9683960307525556), (6, -0.9593400446215223), (7, -0.9664426786146296), (8, -0.9582623555597282), (9, 0.9757238269307494), (10, -0.4664246925785724), (11, 0.9970063208297901), (12, -0.9405960897645002), (13, 0.9608844491305946), (14, -0.9619478699795756), (15, -0.9842787659301327), (16, -0.9607739780430203), (17, -0.9539838326196326), (18, -0.9790281963190218), (19, -0.9540403306600661), (20, 0.9968217876379122), (21, 0.9956558763939645), (22, -0.9442693829661722), (23, -0.961799017406309), (24, 0.9978673865808827), (25, 0.995946611432338), (26, 0.9819679844229605), (27, -0.9663636261736298), (28, -0.9675696837885022), (29, -0.9549574699141936), (30, 0.9931909482818946), (31, -0.9755973421783921), (32, -0.9506931487902951), (33, 0.9964905366760687), (34, -0.9690629408843742), (35, 0.9831993102026134), (36, -0.9798845533877787), (37, -0.9738991677509377), (38, 0.9894809072431522), (39, -0.9524160622549601), (40, -0.9577079753349808), (41, -0.9605086524548482), (42, -0.9799665088330325), (43, -0.9770487020297893), (44, -0.9685688590811894), (45, 0.9780111196047306), (46, 0.9900188111956074), (47, -0.9612582594989947), (48, 0.9955760573800129), (49, -0.9554705346697836), (50, -0.9809871857890491), (51, -0.9517576615635984), (52, -0.5232873289362446), (53, 0.9970552347343089), (54, -0.9665462257536374), (55, -0.952510439281328), (56, -0.9852166044056044), (57, -0.9697218216777621), (58, -0.9659640641857478), (59, -0.9663343436366622), (60, -0.9696214838507888), (61, -0.9185193507529645), (62, -0.9682641716102927), (63, -0.958699132779183), (64, 0.9955399175428428), (65, -0.9424269529972567), (66, -0.9478011905088093), (67, 0.9976815133292806), (68, -0.988811227757234), (69, 0.9978588675986877), (70, -0.9543205570491777), (71, 0.9955736859470048), (72, -0.9738395612156688), (73, -0.5162437301196888), (74, -0.9547981999616353), (75, -0.9613220962797369), (76, 0.9928026168100221), (77, -0.9171743005619828), (78, 0.9912436850546371), (79, -0.9683704611219737), (80, 0.9209096240755088), (81, 0.9918991070060663), (82, -0.9815313415269212), (83, 0.9670602013679531), (84, 0.998720269310216), (85, -0.9793015255030932), (86, 0.9721252618275897), (87, -0.9669530114719881), (88, 0.9914538848516243), (89, -0.9677392624190556), (90, 0.9989145876415542), (91, -0.9783010707011546), (92, -0.477936280853941), (93, -0.9649614772240316), (94, -0.9741721908907799), (95, -0.9590623673310532), (96, 0.9995587404565383), (97, -0.9628043345618346), (98, -0.9539243969538884), (99, 0.9982933727391186), (100, 0.9929295346131484), (101, 0.9981002461006314), (102, 0.9959025857381334), (103, -0.9890560928226206), (104, -0.98798731944407), (105, -0.5258439783867918), (106, 0.9896353904153812), (107, 0.9949997586313934), (108, 0.9991624065885842), (109, -0.9658039443171258), (110, -0.9700875793487722), (111, 0.9990515025106107), (112, -0.9576984656981932), (113, 0.9982286319932552), (114, 0.9964179444088069), (115, 0.9819944789981887), (116, -0.9638047252341343), (117, 0.9908720551889786), (118, 0.9992872909980641), (119, 0.9918149713897129), (120, -0.962536146589971), (121, -0.9688955932937087), (122, 0.9809142188427445), (123, -0.9827319229386928), (124, -0.9581719664809671), (125, -0.9645473059769294), (126, -0.9556677030890686), (127, 0.9954375676696873), (128, -0.4376646456340566), (129, -0.962319543244751), (130, -0.9561093605848725), (131, -0.9749143834093373), (132, -0.9611655609169317), (133, -0.9523996748396333), (134, 0.9299996317722998), (135, -0.9585090875575641), (136, 0.9946441347013871), (137, -0.983018532136063), (138, -0.9512607923585934), (139, -0.9816583071835097), (140, -0.9753885256817243), (141, 0.9991647679268271), (142, -0.9532375468046185), (143, 0.9955502207018323), (144, 0.9787934071863331), (145, -0.989774315825936), (146, 0.9886806998273439), (147, -0.966143142955385), (148, 0.9706463997336054), (149, -0.9858724487544799), (150, 0.995942433285659), (151, 0.9992399272447483), (152, 0.9975314644640922), (153, -0.9584130077361195), (154, -0.9566493232332113), (155, -0.9766195937908609), (156, -0.9528828281659973), (157, -0.9575561037446483), (158, 0.9982753708117786), (159, 0.9994223265029083), (160, -0.9395365329045411), (161, -0.9608919984408857), (162, 0.9967709205544643), (163, -0.9687926274594358), (164, -0.9766493321610422), (165, 0.9997303042745993), (166, 0.990096341922369), (167, -0.9541902191779152), (168, -0.9694451324493101), (169, -0.9562849654201849), (170, 0.9925290282711756), (171, 0.9965969661065022), (172, 0.9973390597972335), (173, -0.9697522266679215), (174, 0.9854165562057335), (175, -0.9654181591551434), (176, 0.9977151546233578), (177, -0.9303628852033685), (178, -0.9611070504318009), (179, -0.9807188439459544), (180, 0.9963522440676805), (181, 0.900815632201639), (182, -0.9704739533598105), (183, -0.9777384448076984), (184, -0.9578515791955855), (185, 0.9826759960944148), (186, 0.997681855793825), (187, 0.9989232189625242), (188, 0.9926562513556163), (189, 0.9996093833553972), (190, 0.9845576146892192), (191, -0.9539412098110635), (192, -0.9759252985464001), (193, -0.9721198791463204), (194, 0.9962053425609605), (195, 0.9964363794616853), (196, 0.9971919404153612), (197, -0.9662092745568963), (198, 0.9928274973130716), (199, -0.9483418599477766), (200, -0.9723942932678754), (201, -0.9637677613263255), (202, 0.9889277762757066), (203, 0.9730878786437256), (204, -0.9646915596431186), (205, 0.9976948304699963), (206, -0.9772764221592735), (207, 0.8243508378221694), (208, 0.9956038086860572), (209, 0.9924930829014705), (210, 0.9928330342090717), (211, 0.9963479809954807), (212, 0.9970599909985604), (213, -0.9710818388168848), (214, 0.9557216201493699), (215, 0.9990140509984444), (216, 0.9977811022803725), (217, 0.9944707692964092), (218, 0.9926594797188495), (219, -0.9781981196425196), (220, -0.9737155535919617), (221, -0.9568303257570347), (222, -0.9706580693823409), (223, -0.9663584054966597), (224, -0.9489874839750172), (225, -0.9492830107679138), (226, 0.9949768897980497), (227, 0.9901730977392634), (228, 0.9991843988682961), (229, 0.9946318681774576), (230, 0.9976778705580804), (231, 0.9984218320122389), (232, -0.9829126521813263), (233, -0.9845447754703139), (234, 0.992521484773679), (235, -0.9704998211901008), (236, 0.9942319801064091), (237, -0.9548993200656846), (238, 0.9967056767236749), (239, 0.9944560001516034), (240, 0.858854651370369), (241, -0.939034014367962), (242, 0.9947180826014966), (243, -0.41693553082825735), (244, -0.9522601834114283), (245, 0.9873377328870316), (246, 0.9955156811338959), (247, -0.902769840262317), (248, -0.9621882829891096), (249, 0.9924533862067307), (250, -0.9631107548002824), (251, 0.9982584769345926), (252, 0.9772230669123171), (253, -0.9688383136128715), (254, 0.9980233273285094), (255, 0.9993769648578871), (256, -0.9899542297186827), (257, 0.9994878001166138), (258, -0.9645455248968063), (259, 0.9920503451143166), (260, -0.9599878905274721), (261, 0.9950210129801097), (262, 0.9896310029095308), (263, -0.9621023907974123), (264, 0.9902567469949544), (265, -0.9870268867030523), (266, 0.9939475726609116), (267, 0.9836294780548476), (268, -0.9697820606246427), (269, -0.9632117368652346), (270, 0.9922328337371322), (271, 0.997254903068979), (272, 0.9630947111250064), (273, -0.9706270738170604), (274, -0.9647326621827907), (275, -0.9586931207855423), (276, -0.9781801071330517), (277, -0.9584523425065792), (278, -0.9533785461296195), (279, 0.9558615610621345), (280, 0.9793610119327385), (281, 0.9923448526429629), (282, 0.777319200815926), (283, -0.9605732603541147), (284, 0.9943397044992616), (285, 0.9925484934687754), (286, 0.9261117382213185), (287, 0.9965932401133956), (288, 0.9992485419069794), (289, 0.9859186735728016), (290, 0.7882665634704337), (291, 0.9997247831524573), (292, 0.9907164094766414), (293, 0.9766586748869336), (294, -0.9796889589803481), (295, -0.9645881049594628), (296, -0.976154588940602), (297, 0.997990607071147), (298, 0.9107154119221048), (299, 0.9953050531020357), (300, 0.9991269629348757), (301, 0.9996628079165876), (302, -0.9877782128127378), (303, 0.9816218782551109), (304, -0.9760056455037679), (305, 0.9992896327924254), (306, -0.9579311028063543), (307, 0.9731791859396873), (308, -0.981090359714454), (309, 0.9990811445083255), (310, -0.9480500974577338), (311, 0.9997679799774135), (312, -0.9854095192872895), (313, 0.963031188531555), (314, 0.9515429227565158), (315, -0.9727455882814907), (316, -0.9555534380146429), (317, -0.9488924134957115), (318, -0.9835618900837164), (319, -0.9728073749224879), (320, 0.9991917557475012), (321, -0.4229423497664766), (322, -0.9583522878199784), (323, -0.9560290241123806), (324, -0.502764205907355), (325, -0.9616037920450394), (326, -0.972107261225938), (327, 0.9857767185223011), (328, 0.998508348307694), (329, -0.9582256831202868), (330, -0.9615557251876516), (331, 0.998275670130579), (332, 0.9950282101957002), (333, -0.9897495092268201), (334, -0.9655134529434657), (335, -0.9888324039025983), (336, 0.9973784805057138), (337, 0.998423764510761), (338, 0.9866523083790263), (339, 0.9784281700343969), (340, -0.9874219565754856), (341, -0.9749892138737204), (342, -0.9798330707240592), (343, -0.985379724189183), (344, 0.9973548113255195), (345, 0.9883835835113686), (346, -0.9900063389321478), (347, -0.9680268860348173), (348, 0.9792373999710524), (349, -0.9879395519392873), (350, -0.9961112239637437), (351, 0.9908737452340125), (352, 0.9735064501694299), (353, 1.0000000000000029), (354, 0.9997904733008749), (355, 0.9912873837317805), (356, 0.9982362216238067), (357, 0.9979785371090316), (358, 0.932850318453985), (359, 0.9980306116167403), (360, 0.9585438018614834), (361, -0.9749395567252233), (362, -0.9552100382711618), (363, -0.48773389907207315), (364, 0.9927629498993324), (365, -0.9733576277965563), (366, -0.9783912578702895), (367, 0.9814511003058868), (368, 0.9967492679826493), (369, 0.9997753794832005), (370, 0.9975631987626116), (371, 0.9871364626322441), (372, -0.964355388682611), (373, 0.9994415704459428), (374, 0.9714552706260937), (375, -0.9580462946850928), (376, 0.994120723958934), (377, 0.9948564609375596), (378, 0.9910814907477431), (379, -0.9492346390937639), (380, -0.9507454384921741), (381, 0.9929631101788198), (382, 0.9997315438063962), (383, -0.9636442007661434), (384, -0.9621418793213306), (385, 0.9996439059689375), (386, 0.9940767830970415), (387, 0.9823933670554852), (388, 0.9935484366975922), (389, 0.9993036773515195), (390, -0.9737371660156228), (391, -0.9560501052977016), (392, 0.9981661759169935), (393, -0.9660605400851258), (394, 0.998525871532837), (395, -0.9915953123213503), (396, 0.9791380078923723), (397, -0.9510755437358283), (398, -0.9643601464973388), (399, -0.9563275825669758), (400, 0.9982494326388585), (401, 0.9930186895770946), (402, 0.9986804058155545), (403, 0.9993368733690882), (404, 0.9842451826739013), (405, 0.983267994421633), (406, -0.9621763490250118), (407, 0.8358269583087159), (408, -0.9943497288860598), (409, 0.9948046646671848), (410, -0.9792789634922021), (411, 0.9911049963499567), (412, 0.9769081754036655), (413, 0.88702925419075), (414, 0.9681357831912406), (415, -0.9638802394726003), (416, 0.9974558346758173), (417, -0.9724995215562022), (418, 0.9953371394597167), (419, -0.9602833392397664), (420, -0.9816344367083362), (421, 0.9810013362366679), (422, -0.9569932979243148), (423, -0.4509502935683787), (424, 0.9876484216029534), (425, -0.9764247298206301), (426, 0.9990006170218946), (427, -0.9555145143144024), (428, -0.9592386115309727), (429, -0.9742556747429828), (430, -0.9386143692195957), (431, -0.9725292419248142), (432, -0.5056059757080408), (433, 0.9986080121302263), (434, -0.9850758114276487), (435, 0.9996282963186203), (436, 0.8443003042935766), (437, -0.964264886531641), (438, -0.9615414368412374), (439, 0.9425858070659149), (440, 0.9984733665579145), (441, 0.999193799229859), (442, -0.9703658799862154), (443, 0.9915500384435639), (444, -0.9630510143011842), (445, 0.9995324652459813), (446, -0.9648068314071316), (447, 0.9998932519715638), (448, 0.9814128865606366), (449, 0.9749502856777573), (450, -0.9591981903498756), (451, -0.9541323963138921), (452, -0.9672685468368427), (453, 0.9960574347367309), (454, 0.9969655318588213), (455, 0.9970493475057183), (456, -0.972195251092692), (457, 0.9907068678871962), (458, 0.9905243854755539), (459, 0.8463908419200739), (460, 0.9981376469120589), (461, -0.954217938920717), (462, 0.987427399169182), (463, -0.9599888489484532), (464, 0.9856473004255321), (465, 0.9924786007643742), (466, 0.9960242881157052), (467, 0.9672313031839198), (468, 0.9956706996231132), (469, 0.9962237921735158), (470, 0.9928171907129365), (471, -0.4548024983970089), (472, -0.957728950783217), (473, -0.9692809621929162), (474, 0.9941119340116651), (475, -0.47945555559356295), (476, -0.9647576586754132), (477, 0.9987990713545947), (478, -0.46265890496875184), (479, 0.9890052746956338), (480, -0.9525027469886733), (481, 0.9876012819152302), (482, 0.9867078723278344), (483, 0.9990113879419859), (484, 0.9903212169911217), (485, 0.9940628237063975), (486, 0.9854393587625211), (487, 0.9981682184946684), (488, 0.9913489813968535), (489, 0.999985816754732), (490, 0.9844738018809793), (491, 0.9934232406488915), (492, 0.9987633595212023), (493, 0.9862909303826847), (494, 0.998822066268287), (495, 0.9952305053806325), (496, -0.9672853317681052), (497, 0.9946156275984289), (498, 0.970057690329204), (499, -0.9541099094539538), (500, 0.997395747859144), (501, 0.7767571405418803), (502, 0.9943677579826337), (503, -0.9902537358600587), (504, 0.9998122044150078), (505, 0.9975038718958777), (506, 0.9964497136052665), (507, 0.9961392393631837), (508, 0.9831528665318734), (509, 0.9991412287212094), (510, -0.9695898942918553), (511, -0.470864654412584), (512, -0.9734736693688892), (513, -0.9616828358839699), (514, 0.9973059933299532), (515, 0.9997818636781274), (516, 0.9970375658017656), (517, -0.97376850663348), (518, 0.9908928546260386), (519, 0.9959914896475482), (520, -0.9647886509851196), (521, 0.9982177815341453), (522, 0.9999883843493096), (523, 0.9985928453798465), (524, -0.9651939519069298), (525, 0.9982835118539928), (526, -0.9885643269706902), (527, 0.9986322373565946), (528, 0.9949898134922274), (529, -0.9877158410886434), (530, 0.9951314674693563), (531, 0.9938141319248341), (532, -0.9909960436437589), (533, 0.9953444366137117), (534, 0.918766187408932), (535, 0.9956357008931354), (536, 0.9976206950135676), (537, -0.9590519367392201), (538, 0.9953466607824678), (539, -0.9480803384690989), (540, -0.9599138044033285), (541, 0.9991770579807121), (542, 0.9945405899447888), (543, -0.9599161812999968), (544, 0.9968214191738491), (545, 0.9819647892392096), (546, 0.9540810838416707), (547, 0.9904804956867326), (548, -0.42309997820025286), (549, 0.9995412854352028), (550, 0.986076694205563), (551, -0.9584448411890185), (552, 0.9877450459783441), (553, 0.9988231146566079), (554, -0.989759170665069), (555, 0.9843151440295372), (556, 0.9919149587607085), (557, -0.9606182224308728), (558, -0.9621903259639805), (559, -0.9596175418713908), (560, 0.9957764571824038), (561, -0.9815894411862063), (562, -0.9604448380597128), (563, -0.9699863373957908), (564, -0.9576828701856989), (565, 0.915269836280213), (566, -0.9770247500016365), (567, -0.9750617560698731), (568, -0.9871388949684005), (569, -0.934367033599273), (570, 0.9990679903406788), (571, 0.9780902962171707), (572, 0.9902301281745431), (573, 0.9689865323470003), (574, 0.9898755362442401), (575, 0.9981405624793449), (576, 0.9810438660967871), (577, -0.9863782487434224), (578, 0.9897460670835505), (579, 0.9924894311633119), (580, 0.9951427072152583), (581, 0.9874574535081279), (582, -0.9341889149597257), (583, -0.9673245628923757), (584, 0.9903751896149711), (585, 0.998260603090989), (586, 0.9861050175187897), (587, 0.9924253042604028), (588, -0.96740829575346), (589, -0.46790611227698253), (590, -0.963922769458904), (591, -0.9538102055125909), (592, -0.9030781363154821), (593, 0.9982718119536045), (594, -0.9846143978623698), (595, 0.9904581392635751), (596, 0.9905158309498344), (597, -0.958659815034545), (598, -0.9635557827801781), (599, -0.9732490006785328), (600, -0.9616286871022777), (601, -0.9552510844958841), (602, 0.999723178693145), (603, -0.9688912291560374), (604, 0.9789880578196762), (605, -0.9417461889120153), (606, 0.9580908145640531), (607, 0.9827083612244574), (608, 0.9771771661130496), (609, 0.9990615059124484), (610, 0.985133511870507), (611, 0.9977384184465921), (612, -0.9567366436744655), (613, 0.9548428997109477), (614, 0.9834849070611252), (615, 0.9618497737535121), (616, 0.992729030149797), (617, -0.9722957076964079), (618, -0.959861566695304), (619, 0.9892511046477718), (620, -0.9968252147438501), (621, -0.9664027033866932), (622, 0.9880480866505048), (623, 0.9913539039332402), (624, -0.990641766216291), (625, -0.45760302280325377), (626, 0.9720416226154462), (627, 0.9662601080542357), (628, 0.9486396110306161), (629, 0.9964955268115927), (630, 0.9981519736757015), (631, 0.9934542511082477), (632, 0.9970235675254039), (633, -0.9588343286157168), (634, -0.9695461921893024), (635, 0.9999703573988804), (636, 0.9821007762092373), (637, -0.9541706419214842), (638, 0.997267868904211), (639, -0.9937634312926161), (640, 0.9804523172352277), (641, -0.9954963261535645), (642, 0.99776081417217), (643, 0.9961754224323529), (644, 0.9813450048195402), (645, -0.9818967712466191), (646, 0.9880721061887213), (647, 0.9766988963533436), (648, 0.9939731469116251), (649, -0.9899446327099437), (650, -0.9753704949638353), (651, -0.9708981473635216), (652, 0.9980623281100178), (653, 0.9982296457283878), (654, 0.9859646889664814), (655, 0.9979988238072801), (656, 0.9712910939672039), (657, -0.9424344120078463), (658, -0.9590105853509681), (659, 0.9953095603749449), (660, 0.9773026026606499), (661, -0.9639992909358158), (662, -0.9867644145619924), (663, 0.9983126707297976), (664, -0.9686071566790687), (665, 0.9816271926763304), (666, 0.9131803785790417), (667, 0.9916414223175659), (668, 0.9940867521363227), (669, 0.9927846002191922), (670, -0.9529964349657628), (671, 0.9949313975974051), (672, 0.9913694180303133), (673, -0.9914887875817215), (674, 0.9720457265176723), (675, -0.9153826725232612), (676, 0.9954216007082638), (677, 0.9841080265073917), (678, 0.9598277513650789), (679, -0.9857909801052345), (680, 0.9983984664650034), (681, -0.9636418523167524), (682, 0.9772121957666215), (683, 0.9957855225328659), (684, 0.9878814439656993), (685, 0.9904653047064784), (686, -0.9490155546977188), (687, -0.9614980402673923), (688, -0.975564603520833), (689, 0.9943308237855134), (690, -0.9295433681182366), (691, 0.9970127343826923), (692, 0.9974107776800166), (693, 0.8847087421413327), (694, 0.9986376830972439), (695, 0.9884115007088604), (696, 0.9873022121209826), (697, 0.9965756802639709), (698, 0.9814394479183146), (699, 0.9653596240476432), (700, -0.9721356526143525), (701, 0.9826247935016533), (702, 0.9933225103864229), (703, -0.9602695959476315), (704, -0.954490385352252), (705, -0.956928204146299), (706, 0.9521449105217493), (707, 0.9970449847517479), (708, -0.9879368803091918), (709, 0.9693540965258488), (710, 0.9824966755808981), (711, 0.9813282303366455), (712, -0.975133033247502), (713, -0.9801536518098323), (714, 0.9948884937764275), (715, 0.9867151482099679), (716, -0.9508395893944047), (717, -0.9601249078052231), (718, 0.9979296881446549), (719, 0.9934938265288866), (720, 0.9689997322391647), (721, 0.9792469765404821), (722, 0.998885232318764), (723, 0.9778802112591722), (724, 0.9999257059995683), (725, 0.9713908594669673), (726, -0.9744223851637795), (727, 0.993202482637117), (728, -0.46061810077493126), (729, -0.9781658708095866), (730, 0.9376805147831938), (731, -0.9821077465504178), (732, 0.9812051945337539), (733, -0.9928708000340307), (734, 0.9674030658447281), (735, -0.952696765430243), (736, 0.732705212611419), (737, 0.9807788149039016), (738, 0.962151477554295), (739, 0.9992425558390009), (740, 0.9926209921680146), (741, 0.9659047490115864), (742, 0.9436324143397887), (743, -0.9574728470950744), (744, -0.47689465159917993), (745, -0.9640686921202696), (746, 0.9778578530754237), (747, -0.9788063351982073), (748, 0.9995284051676632), (749, 0.9718561957288224), (750, 0.9861281930154333), (751, 0.9996805155501166), (752, 0.9648992290091116), (753, 0.9930403584220105), (754, -0.5155626149479152), (755, 0.9803564447854647), (756, 0.9989250406518678), (757, 0.952453475789542), (758, 0.9983015983880383), (759, 0.9936160362341973), (760, 0.9974446066648974), (761, 0.9980402590822556), (762, 0.9975447351542173), (763, 0.9649650493891057), (764, 0.990903825666763), (765, -0.9862961409519367), (766, -0.9900674443997641), (767, 0.9799758267117293), (768, 0.9635013406913647), (769, -0.9848914398993064), (770, 0.9993602937524564), (771, 0.9914337413803348), (772, 0.9952323616473682), (773, -0.9624380292387213), (774, -0.9622148569941416), (775, -0.995325934663993), (776, -0.974397136820597), (777, 0.8621688900180162), (778, 0.916690095647673), (779, 0.9878324886024725), (780, -0.5060668561504982), (781, 0.9998810648770833), (782, 0.9599622287610412), (783, -0.9365743956569914), (784, 0.9535634914234814), (785, 0.9690265370853104), (786, -0.9286543737924802), (787, -0.9895942828556566), (788, -0.9914373496439238), (789, 0.9673617006464623), (790, 0.9883222675218346), (791, 0.9958150600974001), (792, -0.9485641404472771), (793, 0.9818535343008445), (794, 0.9981366691404037), (795, 0.9959248835165004), (796, 0.9704873921803303), (797, 0.9783580572077939), (798, -0.9740255418595154), (799, 0.9882085815043364), (800, 0.9979742021901054), (801, -0.9884461942405246), (802, 0.9538494057536105), (803, 0.9207559960955316), (804, 0.9974696810414767), (805, 0.9967294526505799), (806, 0.9809389679673611), (807, 0.9990434154146104), (808, 0.9597522876341857), (809, 0.9991611668229456), (810, -0.980018048631108), (811, 0.9905361045152666), (812, 0.9701545687105699), (813, 0.9912865089768336), (814, 0.985150183105352), (815, 0.9970160308222688), (816, 0.9980233273285094), (817, -0.9912941789606127), (818, 0.9835320984926198), (819, 0.987539088316651), (820, 0.9564976559176509), (821, 0.9966022577865716), (822, 0.9980970382366626), (823, -0.9650629113866821), (824, 0.9896408988407879), (825, -0.9801527044381341), (826, 0.9979300057354882), (827, -0.46990493099750724), (828, 0.9968307769286645), (829, 0.9930546720655827), (830, 0.7316516556727962), (831, -0.9747359830327715), (832, 0.9824346682074614), (833, 0.995153116873991), (834, -0.9650602372609264), (835, -0.9799351824271934), (836, 0.9950389400650677), (837, 0.9909899741454978), (838, 0.9817494623481808), (839, 0.8952281037942907), (840, -0.9843571948890633), (841, -0.9614984179121089), (842, -0.9877684244670408), (843, 0.9715016100100674), (844, 0.9660702608941745), (845, -0.43220270749711676), (846, -0.4311620077813422), (847, -0.9673009451442975), (848, -0.9776726588437274), (849, 0.9670066273791488), (850, 0.9399540777184077), (851, 0.9964666963191595), (852, 0.9938321719106713), (853, 0.9678317735066927), (854, -0.9590338329282018), (855, 0.964444910658094), (856, 0.8738002640780097), (857, 0.9967804344900694), (858, 0.9849859202572844), (859, -0.9671307402079838), (860, -0.9609409481066783), (861, -0.9586966538474873), (862, -0.9773885627586805), (863, 0.9938778889474685), (864, -0.9461815981396218), (865, -0.9537162309884334), (866, -0.9714514237853056), (867, 0.9513067213961088), (868, 0.9477210799907548), (869, 0.9710471980335935), (870, 0.9954016670548768), (871, -0.9563432948537602), (872, -0.9598288323992177), (873, 0.993693365133907), (874, -0.9591096463380784), (875, 0.9664888505661102), (876, 0.9963991822371416), (877, -0.9257404571599444), (878, 0.8456795030508205), (879, -0.9652291368702955), (880, 0.9866384227004268), (881, -0.9659417491059938), (882, 0.986031229745561), (883, -0.9653601620823882), (884, -0.9896756057725838), (885, 0.9523515806343203), (886, 0.9981105196021165), (887, 0.9822163033783039), (888, 0.9960285735567926), (889, -0.9752248397551644), (890, -0.9656083190234874), (891, -0.9348454012541206), (892, 0.9478620806494156), (893, -0.9857201814766413), (894, 0.9862451302043928), (895, 0.9899504626312838), (896, -0.9358621142760576), (897, 0.9876040291572307), (898, 0.9875115232155771), (899, -0.9679705875971784), (900, 0.9859763141798362), (901, -0.964818987592343), (902, -0.9844720812815537), (903, 0.9823566024808923), (904, -0.9449039622509663), (905, -0.991244935194657), (906, -0.962918626619779), (907, -0.9341574981027622), (908, 0.9353585985117554), (909, -0.9820398409462503), (910, 0.9945200551664455), (911, 0.9982872261429366), (912, 0.9975316573979189), (913, 0.9861211996830489), (914, -0.9577274833272086), (915, 0.9934275387664434), (916, -0.9408242986351898), (917, 0.9982733270071036), (918, -0.9435308204881697), (919, 0.8387554891506165), (920, -0.946532474052425), (921, -0.9724749857961492), (922, -0.9531738834917385), (923, 0.9983641349208249), (924, -0.46697277889921274), (925, -0.963657081016566), (926, -0.98794456551176), (927, 0.869789966748903), (928, -0.9515749945299908), (929, 0.9809749554549486), (930, -0.9682694186961183), (931, -0.9852518260813383), (932, 0.9899253633418374), (933, 0.956588015361291), (934, -0.937578616698242), (935, -0.9306584148232282), (936, -0.9558061345544017), (937, -0.9640829415276613), (938, -0.9793935320978963), (939, -0.9557758840319242), (940, 0.9457989336381076), (941, 0.997869087607633), (942, 0.9272557432399189), (943, 0.9912353572177226), (944, 0.9698141681316771), (945, 0.9883335682652072), (946, 0.9977969005025649), (947, 0.9835442359546839), (948, 0.9653842477260509), (949, -0.9610692372428609), (950, 0.9881692104269388), (951, 0.9575815187141193), (952, 0.9958695694338306), (953, 0.9885960325057019), (954, -0.4982283992384053), (955, -0.9235084660576198), (956, 0.9420405675116353), (957, 0.9954212440598114), (958, 0.9831670793271191), (959, 0.9982961131002843), (960, 0.9911819142974657), (961, 0.9703973256873465), (962, -0.9744137983798759), (963, -0.9543327714791443), (964, 0.9891071629988488), (965, -0.9686983112378799), (966, 0.9933372789276442), (967, 0.9913483143722648), (968, -0.9465266530464066), (969, 0.9912370436456007), (970, -0.968612338376451), (971, 0.9689262988739736), (972, 0.9840992142758037), (973, 0.9973039878350837), (974, -0.9284510307421527), (975, 0.9932142085687145), (976, 0.9833309993899251), (977, 0.9702380789706556), (978, 0.9862215654768106), (979, 0.9887582692096579), (980, 0.999142247159735), (981, 0.9789031010824274), (982, 0.9705507354973595), (983, 0.9666203266202185), (984, 0.9958912108908737), (985, 0.9942067026070879), (986, 0.9877731482659671), (987, 0.9880200748715139), (988, 0.9990790751859728), (989, -0.9820583817076818), (990, -0.9728462917536626), (991, -0.988542859801647), (992, 0.9970783370006795), (993, -0.9611790322715448), (994, 0.9480042398207087), (995, -0.9434232038300582), (996, 0.9896916370291042), (997, 0.9982199741812462), (998, 0.9989224616688744), (999, 0.8685218157191793), (1000, 0.9711266028202614), (1001, -0.9572538410072281), (1002, -0.9649204340795243), (1003, 0.9981387050130827), (1004, 0.9335613046910906), (1005, 0.9204295247237503), (1006, -0.97229267026291), (1007, -0.9214505245668175), (1008, 0.9231693862788695), (1009, 0.762497763778785), (1010, -0.9486596385428264), (1011, 0.9650714610411387), (1012, -0.9220382599283565), (1013, 0.9244910202666021), (1014, -0.9488682681567199), (1015, 0.9976875447067398), (1016, 0.9738539794388779), (1017, 0.9695351544515465), (1018, 0.94686968848423), (1019, 0.9475770861485391), (1020, 0.9869914107927443), (1021, 0.9969221130784374), (1022, 0.8329461811658264), (1023, -0.985980819297291), (1024, -0.9612062714127871), (1025, 0.9866582587010885), (1026, -0.9516454753063992), (1027, -0.9607137634450174), (1028, 0.7938655551399117), (1029, -0.9818895214990442), (1030, 0.9759556152197582), (1031, 0.9933425829701141), (1032, -0.9271831825000667), (1033, 0.8260012567092961), (1034, 0.9693289937650343), (1035, -0.9525209774016146), (1036, 0.9879904311417572), (1037, 0.8412445072017868), (1038, -0.9292042012676871), (1039, -0.5187414363327724), (1040, 0.9848653677631068), (1041, 0.9878843361294383), (1042, -0.9779522830778956), (1043, 0.9602659355105961), (1044, 0.9982775496989867), (1045, -0.9501935455357245), (1046, -0.9283994822791715), (1047, -0.4165998702935553), (1048, -0.9192958994361258), (1049, 0.8416560734087986), (1050, -0.9872765517234611), (1051, 0.8851154288571906), (1052, 0.9446243445984811), (1053, 0.9864877933647147), (1054, 0.987837211222745), (1055, 0.9883619971827271), (1056, -0.9378933098240375), (1057, -0.8998292465411675), (1058, 0.7856150805070243), (1059, -0.9362326285514533), (1060, 0.9955177257535082), (1061, 0.9935765275571349), (1062, 0.9978149280883328), (1063, 0.8037767265062922), (1064, 0.8764055838097536), (1065, 0.9693251902066445), (1066, 0.9956530651400619), (1067, 0.8657366607023512), (1068, 0.9963518602895843), (1069, 0.998327788007877), (1070, 0.9676584069338299), (1071, -0.9739026048699225), (1072, 0.9214504691632908), (1073, -0.9674041490542883), (1074, 0.969265484398928), (1075, 0.915627405598594), (1076, 0.9875102567996341), (1077, 0.9950027461144221), (1078, -0.9631113027594211), (1079, 0.8411210848109334), (1080, 0.9434699228324199), (1081, 0.9968341040813549), (1082, 0.9979046239265537), (1083, 0.9793236722350307), (1084, 0.9617436395655031), (1085, 0.9710471980335935), (1086, 0.990374279321176), (1087, -0.9841486479978878), (1088, 0.9674389757726718), (1089, -0.5056439877154649), (1090, 0.9980887001514483), (1091, -0.9375567098680841), (1092, 0.9910762899920206), (1093, 0.9879235204030947), (1094, 0.8315558859282829), (1095, 0.9461976523638032), (1096, 0.9854313490676193), (1097, 0.9913536330658219), (1098, 0.9915141058333832), (1099, 0.8026922696684264), (1100, 0.844829571640184), (1101, 0.9889763421203591), (1102, 0.9964100223457373), (1103, 0.9563033993169194), (1104, 0.9978274813388248), (1105, 0.9940501625407359), (1106, 0.8402608207902982), (1107, 0.970747398091562), (1108, 0.9704426661285104), (1109, 0.9056620859267045), (1110, 0.9116874749275279), (1111, 0.9634308317421336), (1112, 0.9906134969530912), (1113, 0.9913205423884979), (1114, -0.9262092613248276), (1115, -0.9639648007943554), (1116, -0.9796212218439705), (1117, -0.9626692339162936), (1118, 0.9654746466976647), (1119, 0.9742341002696071), (1120, 0.998257798833261), (1121, -0.9575176528483257), (1122, -0.9665577541128875), (1123, -0.9330785893073665), (1124, -0.9519980600583335), (1125, 0.8993940169419272), (1126, -0.9493555999105736), (1127, -0.9229179428404636), (1128, 0.8405320255766026), (1129, 0.9967171019667389), (1130, 0.9670933103199861), (1131, 0.997422229732196), (1132, 0.846523763137349), (1133, 0.7854484664636617), (1134, -0.9665768318480155), (1135, 0.8397449989366333), (1136, -0.9898530681555323), (1137, 0.8343378807731364), (1138, -0.9506018267364197), (1139, 0.9002100682676817), (1140, -0.9393813161338082), (1141, -0.9479862563866668), (1142, 0.8465441296108234), (1143, 0.83636941812058), (1144, -0.9386067099455985), (1145, 0.9863926068700045), (1146, 0.8390572453529055), (1147, 0.843078377819385), (1148, 0.8300738640548179), (1149, 0.9613921136041408), (1150, 0.997485778120296), (1151, -0.42710854207432064), (1152, 0.8810746301415433), (1153, 0.9875597856683954), (1154, 0.9845040093952773), (1155, 0.9892887940575266), (1156, -0.49890635650958526), (1157, 0.8385171748008491), (1158, 0.9695333268118875), (1159, 0.8432547789012017), (1160, -0.5313469836562169), (1161, 0.9976789851456038), (1162, 0.9910374926439689), (1163, -0.955456589558598), (1164, 0.838871556674811), (1165, 0.9898330489237321), (1166, 0.8896145875424838), (1167, -0.9488361964643242), (1168, 0.9894093458338367), (1169, 0.9679481856721185), (1170, -0.9237689702607974), (1171, -0.9389591523496115), (1172, 0.9874230098932112), (1173, 0.9913729927153985), (1174, 0.9943877905051935), (1175, -0.9398767540475569), (1176, 0.9710782466162895), (1177, 0.9710782466162895), (1178, 0.9905886174069201), (1179, -0.9711346290367214), (1180, 0.9882340089094851), (1181, 0.9915111348417014), (1182, -0.9650081817228449), (1183, -0.9784342512246296), (1184, 0.8357693376446361), (1185, 0.9798331672328172), (1186, 0.840063584583619), (1187, 0.846102667945664), (1188, 0.8354810728076969), (1189, 0.8349480335396411), (1190, 0.8469181333941688), (1191, 0.9885339594960333), (1192, 0.8327381622972903), (1193, 0.8474459675294901), (1194, 0.9976943544136319), (1195, -0.9405218224229799), (1196, 0.8432563579704675), (1197, 0.8404132446851666), (1198, 0.8455592712789552), (1199, 0.8438620167679092), (1200, 0.958333233566957), (1201, 0.996053212933932), (1202, 0.9661544899227228), (1203, -0.9731661108028298), (1204, -0.9265182162705975), (1205, -0.9345730815820691), (1206, -0.9454236474776655), (1207, 0.9705143450848348), (1208, -0.9673443915582063), (1209, 0.9983420389357996), (1210, 0.837459685550105), (1211, 0.8442384833202672), (1212, 0.9800114103987264), (1213, 0.8784665344784433), (1214, -0.9586634042994167)]\n"
     ]
    },
    {
     "data": {
      "text/plain": [
       "[(522, 0.9999883843493096),\n",
       " (489, 0.999985816754732),\n",
       " (635, 0.9999703573988804),\n",
       " (724, 0.9999257059995683),\n",
       " (447, 0.9998932519715638),\n",
       " (781, 0.9998810648770833),\n",
       " (504, 0.9998122044150078),\n",
       " (354, 0.9997904733008749),\n",
       " (515, 0.9997818636781274),\n",
       " (369, 0.9997753794832005),\n",
       " (311, 0.9997679799774135),\n",
       " (382, 0.9997315438063962),\n",
       " (165, 0.9997303042745993),\n",
       " (291, 0.9997247831524573),\n",
       " (602, 0.999723178693145),\n",
       " (751, 0.9996805155501166),\n",
       " (301, 0.9996628079165876),\n",
       " (385, 0.9996439059689375),\n",
       " (435, 0.9996282963186203),\n",
       " (189, 0.9996093833553972),\n",
       " (96, 0.9995587404565383),\n",
       " (549, 0.9995412854352028),\n",
       " (445, 0.9995324652459813),\n",
       " (748, 0.9995284051676632),\n",
       " (257, 0.9994878001166138),\n",
       " (373, 0.9994415704459428),\n",
       " (159, 0.9994223265029083),\n",
       " (255, 0.9993769648578871),\n",
       " (770, 0.9993602937524564),\n",
       " (403, 0.9993368733690882),\n",
       " (389, 0.9993036773515195),\n",
       " (305, 0.9992896327924254),\n",
       " (118, 0.9992872909980641),\n",
       " (288, 0.9992485419069794),\n",
       " (739, 0.9992425558390009),\n",
       " (151, 0.9992399272447483),\n",
       " (441, 0.999193799229859),\n",
       " (320, 0.9991917557475012),\n",
       " (228, 0.9991843988682961)]"
      ]
     },
     "execution_count": 162,
     "metadata": {},
     "output_type": "execute_result"
    }
   ],
   "source": [
    "idx=data.index[data['name']=='Point Pelee Tip and East Point Beach'].tolist()\n",
    "print (idx[0])\n",
    "\n",
    "# score=list(enumerate(cosine_sim[idx[0]]))\n",
    "score=list(enumerate(cosine_sim_all[idx[0]]))\n",
    "print (score)\n",
    "sorted_score=sorted(score,key=lambda x: x[1],reverse=True)\n",
    "sorted_score[1:40]\n",
    "# print (data.iloc[522])\n",
    "# cosine_sim_all"
   ]
  },
  {
   "cell_type": "code",
   "execution_count": null,
   "metadata": {},
   "outputs": [],
   "source": []
  },
  {
   "cell_type": "code",
   "execution_count": null,
   "metadata": {},
   "outputs": [],
   "source": [
    "#Checking unique tags\n",
    "utags=[j.replace(' ','') for i in data.trail_attributes for j in i]\n",
    "uniqtags=set(utags)\n",
    "print (uniqtags) #(data.trail_attributes)\n"
   ]
  },
  {
   "cell_type": "code",
   "execution_count": null,
   "metadata": {},
   "outputs": [],
   "source": [
    "reviews=data.review\n",
    "# print (reviews[0])\n",
    "tfidf=TfidfVectorizer(stop_words='english')\n",
    "# print (tfidf)\n",
    "tfidf_matrix=tfidf.fit_transform(reviews)\n",
    "print (tfidf_matrix.shape)"
   ]
  },
  {
   "cell_type": "code",
   "execution_count": null,
   "metadata": {},
   "outputs": [],
   "source": [
    "from sklearn.metrics.pairwise import linear_kernel\n",
    "# dot product to get cosine sim\n",
    "# cosine_sim = linear_kernel(tfidf_matrix, tfidf_matrix)\n",
    "cosine_sim = linear_kernel(tfidf_matrix, tfidf_matrix)"
   ]
  },
  {
   "cell_type": "code",
   "execution_count": null,
   "metadata": {},
   "outputs": [],
   "source": [
    "for i,d in enumerate(data.elevation):\n",
    "#     print (i,d)\n",
    "    if(np.any(np.isnan(d))):\n",
    "        print (i,d)\n",
    "# np.any(np.isnan(data.elevation))"
   ]
  },
  {
   "cell_type": "code",
   "execution_count": null,
   "metadata": {},
   "outputs": [],
   "source": [
    "from sklearn.metrics.pairwise import cosine_similarity\n",
    "from scipy.spatial.distance import cdist\n",
    "# dist=[]\n",
    "dist=np.array([d for d in data.distance.values])\n",
    "d1=dist.reshape(dist.shape[0],-1)\n",
    "# distance=data.distance\n",
    "print (type(d1))\n",
    "# print (type(np.array(dist)))\n",
    "# print (np.asarray(dist)) #.to_array())\n",
    "# for i in data.distance.values:\n",
    "#     dist.append(i)\n",
    "#     print (i)\n",
    "# print (dist)\n",
    "d1=np.reshape(dist, (-1,1))\n",
    "print (d1.shape, d1)\n",
    "# d2=np.reshape(d1,)\n",
    "# print (d1[0], d1[1],d1[10])\n",
    "# cosine_sim=cosine_similarity(d1,d1)\n",
    "cosine_sim=1-cdist(d1, d1, 'cosine')\n",
    "# print (cosine_sim.shape)\n",
    "print (cosine_sim[0])\n",
    "# print (d1)\n",
    "# print (distance[0])\n",
    "x=[[1],[2]]\n",
    "print (x)\n",
    "print (cosine_similarity([[1],[3]],[[4],[2]]))"
   ]
  },
  {
   "cell_type": "code",
   "execution_count": null,
   "metadata": {},
   "outputs": [],
   "source": []
  },
  {
   "cell_type": "code",
   "execution_count": null,
   "metadata": {},
   "outputs": [],
   "source": [
    "#Test TF-IDF with a random set of variables\n",
    "# data.tags[1111]\n",
    "# tag=['scenicdriving', 'bugs', 'birdwatching', 'forest', 'river']\n",
    "# tag=['scenicdriving, bugs, birdwatching, forest, river']\n",
    "# print (uniqtags)\n",
    "\n",
    "# if 'scenicdriving' in tag[0]:\n",
    "#     print ('yes')\n",
    "# for x in uniqtags:\n",
    "# #     print (x, tag)\n",
    "#     if x in tag:\n",
    "#         print (x)\n",
    "#     else:\n",
    "#         print ('')\n",
    "        \n",
    "\n",
    "# tag1=[t if t in tag[0] else '' for t in uniqtags ]\n",
    "# print (tag1)\n",
    "# for i in uniqtags:\n",
    "#     if tag not in i\n",
    "# tag1=[]\n",
    "# tagm=tv.transform(tag1)\n",
    "# tagtm=tagm.transpose\n",
    "# print ('>',tagtm)\n",
    "# print (tagm.shape, tv_matrix.shape)\n",
    "# cosine_similarity(tagm,tv_matrix)"
   ]
  },
  {
   "cell_type": "code",
   "execution_count": null,
   "metadata": {},
   "outputs": [],
   "source": [
    "indices = pd.Series(data.index, index=data['name'])\n",
    "# print (indices)\n",
    "print (indices['The Crack Trail'])\n",
    "# print (data.name[0])"
   ]
  },
  {
   "cell_type": "code",
   "execution_count": null,
   "metadata": {},
   "outputs": [],
   "source": [
    "def get_recommendations(name,cosine_sim = cosine_sim):\n",
    "    idx = indices[name]\n",
    "    \n",
    "    # Get the pairwsie similarity scores of all trails with that trail\n",
    "    sim_scores = list(enumerate(cosine_sim[idx]))\n",
    "    \n",
    "    # Sort trails using similarity scores\n",
    "    sim_scores = sorted(sim_scores, key=lambda x: x[1], reverse=True)\n",
    "    \n",
    "    # 10 most similar trails\n",
    "    sim_scores = sim_scores[1:11]\n",
    "    \n",
    "    # Get trails\n",
    "    trail_indices = [i[0] for i in sim_scores]\n",
    "    \n",
    "    return data['name'].iloc[trail_indices]"
   ]
  },
  {
   "cell_type": "code",
   "execution_count": null,
   "metadata": {},
   "outputs": [],
   "source": [
    "get_recommendations('Taylor Creek Trail',cosine_sim = cosine_sim)"
   ]
  },
  {
   "cell_type": "code",
   "execution_count": null,
   "metadata": {},
   "outputs": [],
   "source": [
    "from sklearn.feature_extraction.text import CountVectorizer\n",
    "from sklearn.metrics import pairwise_kernels\n",
    "\n"
   ]
  },
  {
   "cell_type": "code",
   "execution_count": null,
   "metadata": {},
   "outputs": [],
   "source": [
    "import pandas as pd\n",
    "import gensim\n",
    "from gensim.utils import simple_preprocess\n",
    "from gensim.parsing.preprocessing import STOPWORDS\n",
    "from nltk.stem import WordNetLemmatizer #, SnowballStemmer\n",
    "from nltk.stem.porter import *\n",
    "from nltk.tokenize import RegexpTokenizer, sent_tokenize, word_tokenize\n",
    "tokenizer = RegexpTokenizer(r'\\w+')\n",
    "import numpy as np\n",
    "np.random.seed(2018)\n",
    "import nltk\n"
   ]
  },
  {
   "cell_type": "code",
   "execution_count": null,
   "metadata": {},
   "outputs": [],
   "source": [
    "import logging\n",
    "import gensim\n",
    "\n",
    "logging.basicConfig(format='%(asctime)s : %(levelname)s : %(message)s', level=logging.INFO)"
   ]
  },
  {
   "cell_type": "code",
   "execution_count": null,
   "metadata": {},
   "outputs": [],
   "source": [
    "nltk.download('wordnet')\n",
    "nltk.download('punkt')"
   ]
  },
  {
   "cell_type": "code",
   "execution_count": null,
   "metadata": {},
   "outputs": [],
   "source": [
    "# import pandas as pd\n",
    "\n",
    "# df=pd.read_pickle('dftst.pkl')\n",
    "# df=pd.read_pickle('hiking_attributes_ontario1.pkl')\n",
    "# df=pd.read_pickle('alltrails_ontario.pkl')\n",
    "df=pd.read_pickle('alltrails_ontario.pkl')\n",
    "print (len(df))\n",
    "# df['review'][0]\n",
    "# df.head(50)\n",
    "\n",
    "df_work=df.copy()\n",
    "df_work.head(5) #trail_attributes[1] #.head(5)\n",
    "# df_work.columns\n",
    "df_work.review[0]\n",
    "df_work.trail_attributes[0]"
   ]
  },
  {
   "cell_type": "code",
   "execution_count": null,
   "metadata": {},
   "outputs": [],
   "source": [
    "review_text=df_work.review\n",
    "review_list=pd.Series.tolist(review_text)\n",
    "def read_preproc(text):\n",
    "    for l in text:\n",
    "        yield gensim.utils.simple_preprocess(l)\n",
    "        \n",
    "preproc=list(read_preproc(review_list))"
   ]
  },
  {
   "cell_type": "code",
   "execution_count": null,
   "metadata": {},
   "outputs": [],
   "source": [
    "reviews=df_work.review\n",
    "reviews=reviews.str.lower()\n",
    "reviews=reviews.str.replace('\\\"', '')\n",
    "reviews=reviews.str.replace(\"\\'\", '')\n",
    "reviews=reviews.str.replace('\\\"', '')\n",
    "reviews=reviews.str.replace('\\!', '')\n",
    "reviews=reviews.str.replace('\\/', ' ')\n",
    "reviews=reviews.str.replace(',', '')\n",
    "reviews=reviews.str.replace('(', '')\n",
    "reviews=reviews.str.replace(')', '')\n",
    "reviews=reviews.str.replace('.', '')\n",
    "reviews=reviews.str.replace('\\d+', '')\n",
    "reviews=reviews.replace(to_replace={'hik', 'walk','run','trail', 'interesting',\\\n",
    "                                    'good','great','lot','recommend','area','park',\\\n",
    "                                    'love','like','way','easy','absolute','definite','time'}, value='', regex=True)\n",
    "#Pre-process\n",
    "def preprocess(text):\n",
    "    words=[word for sentence in sent_tokenize(text) for word in word_tokenize(sentence)]\n",
    "    words=[word for word in words if len(word)>3]\n",
    "    words=[word for word in words if word not in gensim.parsing.preprocessing.STOPWORDS]\n",
    "    #Lemmatize\n",
    "    words=[WordNetLemmatizer().lemmatize(word) for word in words]\n",
    "    return words\n",
    "\n",
    "review_list=pd.Series.tolist(reviews)\n",
    "print(review_list[0])\n",
    "\n",
    "preproc=list(preprocess(text) for text in review_list)\n",
    "# print (len(preproc), preproc[0])\n",
    "# print (preproc)"
   ]
  },
  {
   "cell_type": "code",
   "execution_count": null,
   "metadata": {},
   "outputs": [],
   "source": [
    "model = gensim.models.Word2Vec (preproc, size=150, window=10, min_count=2, workers=10)\n",
    "model.train(preproc,total_examples=len(preproc),epochs=10)"
   ]
  },
  {
   "cell_type": "code",
   "execution_count": null,
   "metadata": {},
   "outputs": [],
   "source": [
    "w1 = \"tree\"\n",
    "model.wv.most_similar (positive=w1)"
   ]
  },
  {
   "cell_type": "code",
   "execution_count": null,
   "metadata": {},
   "outputs": [],
   "source": [
    "#Trying Jan27th - Trying vectorization on trail attributes\n",
    "trail_attributes=df_work.trail_attributes\n",
    "#Remove space to create list of single words ('dogsonleash' -> 'dogsonleash')\n",
    "hattrib=[]\n",
    "for l1 in trail_attributes:\n",
    "    hattrib.append([l2.replace(' ', '') for l2 in l1])\n",
    "print (hattrib[0])\n",
    "\n",
    "df_work['curated_attributes']=pd.Series(hattrib)\n",
    "df_work.head(5)"
   ]
  },
  {
   "cell_type": "code",
   "execution_count": 1,
   "metadata": {},
   "outputs": [],
   "source": [
    "# def lemmatize_stemming(text):\n",
    "#     return PorterStemmer.stem(WordNetLemmatizer().lemmatize(text, pos='v'))\n",
    "def preprocess(text):\n",
    "    words=[word for sentence in sent_tokenize(text) for word in word_tokenize(sentence)]\n",
    "    words=[word for word in words if len(word)>3]\n",
    "    words=[word for word in words if word not in gensim.parsing.preprocessing.STOPWORDS]\n",
    "    words=[WordNetLemmatizer().lemmatize(word) for word in words]\n",
    "    #Lemmatize\n",
    "#     words=[WordNetLemmatizer.lemmatize(word) for word in words]\n",
    "    return words"
   ]
  },
  {
   "cell_type": "code",
   "execution_count": null,
   "metadata": {},
   "outputs": [],
   "source": [
    "import string\n",
    "import re\n",
    "reviews=df_work.review\n",
    "#tokenize text\n",
    "# reviews.apply(lambda x: x.lower())\n",
    "reviews=reviews.str.lower()\n",
    "reviews=reviews.str.replace('\\\"', '')\n",
    "reviews=reviews.str.replace(\"\\'\", '')\n",
    "reviews=reviews.str.replace('\\\"', '')\n",
    "reviews=reviews.str.replace('\\!', '')\n",
    "reviews=reviews.str.replace('\\/', ' ')\n",
    "reviews=reviews.str.replace(',', '')\n",
    "reviews=reviews.str.replace('(', '')\n",
    "reviews=reviews.str.replace(')', '')\n",
    "reviews=reviews.str.replace('.', '')\n",
    "reviews=reviews.str.replace('\\d+', '')\n",
    "reviews=reviews.replace(to_replace={'hik', 'walk','run','trail', 'interesting',\\\n",
    "                                    'good','great','lot','recommend','area','park',\\\n",
    "                                    'love','like','way','easy'}, value='', regex=True)\n",
    "\n",
    "processed_text=[preprocess(text) for text in reviews]\n",
    "# lemmatized_text=[WordNetLemmatizer.lemmatize(text) for text in reviews]\n",
    "# WordNetLemmatizer.lemmatize('are')\n",
    "\n",
    "# reviews.head(50)\n",
    "print (processed_text[0], reviews[0])\n",
    "# print ()"
   ]
  },
  {
   "cell_type": "code",
   "execution_count": null,
   "metadata": {
    "scrolled": true
   },
   "outputs": [],
   "source": [
    "#Add processed text as a new column\n",
    "df_work['processed_text']= pd.Series(processed_text)\n",
    "df_work['trail_attributes'][10]\n",
    "#[' '.join(filter(None,filter(lambda word: word not in stop, line))) for line in data['text_data'].str.lower().str.split(' ')]"
   ]
  },
  {
   "cell_type": "code",
   "execution_count": null,
   "metadata": {},
   "outputs": [],
   "source": [
    "from sklearn.feature_extraction.text import CountVectorizer"
   ]
  },
  {
   "cell_type": "code",
   "execution_count": null,
   "metadata": {},
   "outputs": [],
   "source": []
  },
  {
   "cell_type": "code",
   "execution_count": null,
   "metadata": {},
   "outputs": [],
   "source": [
    "#Creating word countf for IDF\n",
    "from sklearn.feature_extraction.text import CountVectorizer\n",
    "import re\n",
    " \n",
    "def get_stop_words(stop_file_path):\n",
    "    \"\"\"load stop words \"\"\"\n",
    "    \n",
    "    with open(stop_file_path, 'r', encoding=\"utf-8\") as f:\n",
    "        stopwords = f.readlines()\n",
    "        stop_set = set(m.strip() for m in stopwords)\n",
    "        return frozenset(stop_set)\n",
    " \n",
    "#load a set of stop words\n",
    "stopwords=get_stop_words(\"./stop_words.txt\")\n",
    " \n",
    "#get the text column \n",
    "docs=df_work['processed_text'][0] #.tolist()\n",
    " \n",
    "#create a vocabulary of words, \n",
    "#ignore words that appear in 85% of documents, \n",
    "#eliminate stop words\n",
    "cv=CountVectorizer(max_df=0.85,stop_words=stopwords)\n",
    "word_count_vector=cv.fit_transform(docs)"
   ]
  },
  {
   "cell_type": "code",
   "execution_count": null,
   "metadata": {
    "scrolled": true
   },
   "outputs": [],
   "source": [
    "list(cv.vocabulary_.keys())[:20]"
   ]
  },
  {
   "cell_type": "code",
   "execution_count": null,
   "metadata": {},
   "outputs": [],
   "source": [
    "from sklearn.feature_extraction.text import TfidfTransformer\n",
    " \n",
    "tfidf_transformer=TfidfTransformer(smooth_idf=True,use_idf=True)\n",
    "tfidf_transformer.fit(word_count_vector)\n",
    " "
   ]
  },
  {
   "cell_type": "code",
   "execution_count": null,
   "metadata": {},
   "outputs": [],
   "source": [
    "from gensim import corpora\n",
    "dictionary = corpora.Dictionary(df_work['processed_text'])\n",
    "corpus = [dictionary.doc2bow(text) for text in df_work['processed_text']]\n",
    "import pickle\n",
    "pickle.dump(corpus, open('corpus.pkl', 'wb'))\n",
    "dictionary.save('dictionary.gensim')"
   ]
  },
  {
   "cell_type": "code",
   "execution_count": null,
   "metadata": {},
   "outputs": [],
   "source": [
    "import gensim\n",
    "NUM_TOPICS = 5\n",
    "ldamodel = gensim.models.ldamodel.LdaModel(corpus, num_topics = NUM_TOPICS, id2word=dictionary, passes=15)\n",
    "ldamodel.save('model5.gensim')\n",
    "topics = ldamodel.print_topics(num_words=4)\n",
    "for topic in topics:\n",
    "    print(topic)"
   ]
  },
  {
   "cell_type": "markdown",
   "metadata": {},
   "source": [
    "Topic modeling based on this: https://towardsdatascience.com/topic-modeling-and-latent-dirichlet-allocation-in-python-9bf156893c24"
   ]
  },
  {
   "cell_type": "code",
   "execution_count": null,
   "metadata": {},
   "outputs": [],
   "source": [
    "# processed_text\n",
    "dictionary = gensim.corpora.Dictionary(processed_text)\n",
    "count = 0\n",
    "for k, v in dictionary.iteritems():\n",
    "    print(k, v)\n",
    "    count += 1\n",
    "    if count > 10:\n",
    "        break\n",
    "len(dictionary)"
   ]
  },
  {
   "cell_type": "code",
   "execution_count": null,
   "metadata": {},
   "outputs": [],
   "source": [
    "dictionary.filter_extremes(no_below=15, no_above=0.5, keep_n=10000)\n",
    "len(dictionary)"
   ]
  },
  {
   "cell_type": "code",
   "execution_count": null,
   "metadata": {},
   "outputs": [],
   "source": [
    "bow_corpus = [dictionary.doc2bow(doc) for doc in processed_text]\n",
    "print (len(bow_corpus))\n",
    "bow_corpus[41]"
   ]
  },
  {
   "cell_type": "code",
   "execution_count": null,
   "metadata": {},
   "outputs": [],
   "source": [
    "bow_doc_400 = bow_corpus[10]\n",
    "for i in range(len(bow_doc_400)):\n",
    "    print(\"Word {} (\\\"{}\\\") appears {} time.\".format(bow_doc_400[i][0], \n",
    "                                               dictionary[bow_doc_400[i][0]], \n",
    "bow_doc_400[i][1]))"
   ]
  },
  {
   "cell_type": "code",
   "execution_count": null,
   "metadata": {},
   "outputs": [],
   "source": [
    "#Bag of words\n",
    "from gensim import corpora, models\n",
    "tfidf = models.TfidfModel(bow_corpus)\n",
    "corpus_tfidf = tfidf[bow_corpus]\n",
    "from pprint import pprint\n",
    "for doc in corpus_tfidf:\n",
    "    pprint(doc)\n",
    "    break"
   ]
  },
  {
   "cell_type": "code",
   "execution_count": null,
   "metadata": {},
   "outputs": [],
   "source": [
    "#Train lda model using gensim.models.LdaMulticore and save it to ‘lda_model’\n",
    "lda_model = gensim.models.LdaMulticore(bow_corpus, num_topics=10, id2word=dictionary, passes=2, workers=2)\n",
    "#Explore words in topic and relative weight\n",
    "for idx, topic in lda_model.print_topics(-1):\n",
    "    print('Topic: {} \\nWords: {}'.format(idx, topic))"
   ]
  },
  {
   "cell_type": "code",
   "execution_count": null,
   "metadata": {},
   "outputs": [],
   "source": [
    "#LDA using TF-IDF\n",
    "lda_model_tfidf = gensim.models.LdaMulticore(corpus_tfidf, num_topics=10, id2word=dictionary, passes=2, workers=4)\n",
    "for idx, topic in lda_model_tfidf.print_topics(-1):\n",
    "    print('Topic: {} Word: {}'.format(idx, topic))"
   ]
  },
  {
   "cell_type": "code",
   "execution_count": null,
   "metadata": {},
   "outputs": [],
   "source": [
    "#Performance evaluation-LDA bag of words\n",
    "n=0\n",
    "print (processed_text[n])\n",
    "for index, score in sorted(lda_model[bow_corpus[n]], key=lambda tup: -1*tup[1]):\n",
    "    print(\"\\nScore: {}\\t \\nTopic: {}\".format(score, lda_model.print_topic(index, 10)))"
   ]
  },
  {
   "cell_type": "code",
   "execution_count": null,
   "metadata": {
    "scrolled": false
   },
   "outputs": [],
   "source": [
    "#Performance evaluation-LDA TF-IDF\n",
    "print (processed_text[40])\n",
    "for index, score in sorted(lda_model_tfidf[bow_corpus[40]], key=lambda tup: -1*tup[1]):\n",
    "    print(\"\\nScore: {}\\t \\nTopic: {}\".format(score, lda_model_tfidf.print_topic(index, 10)))"
   ]
  },
  {
   "cell_type": "code",
   "execution_count": null,
   "metadata": {},
   "outputs": [],
   "source": [
    "# # run word2vec model and then save it\n",
    "# texts_stemmed = filter(None, [next_text.strip(' ').split(' ') for next_text in df_work['processed_text'][0]])\n",
    "# w2vmodel_stemmed = gensim.models.Word2Vec(texts_stemmed, size=100, window=5, min_count=5, workers=4)\n",
    "# w2vmodel_stemmed.save(savefolder+'w2v_stemmed_model')"
   ]
  }
 ],
 "metadata": {
  "kernelspec": {
   "display_name": "Python 3",
   "language": "python",
   "name": "python3"
  },
  "language_info": {
   "codemirror_mode": {
    "name": "ipython",
    "version": 3
   },
   "file_extension": ".py",
   "mimetype": "text/x-python",
   "name": "python",
   "nbconvert_exporter": "python",
   "pygments_lexer": "ipython3",
   "version": "3.6.5"
  }
 },
 "nbformat": 4,
 "nbformat_minor": 2
}
