{
 "cells": [
  {
   "cell_type": "markdown",
   "metadata": {},
   "source": [
    "## GOAL\n",
    "\n",
    "To create a similarity metric based on trail features\n",
    "\n",
    "Input dataset:\n",
    "Hiking trails from Ontario scraped from alltrails.com\n",
    "\n",
    "#### Data cleaning:\n",
    "Trails removed in the following cases:\n",
    "1. when there is no user rating, reviews\n",
    "2. Removed unwanted tags\n",
    "3. Private and closed trails (info from trail name)\n",
    "Other:\n",
    "data['name'].str.lower()\n",
    "\n",
    "data=data[data['review']!='']\n",
    "\n",
    "data=data[data['trail_attributes']!='']\n",
    "\n",
    "##### Cosine similarity metric based on numerical, categorical and text data\n",
    "##### Extract keywords from user reviews for each trail (check for details in the appropriate section)\n",
    "\n"
   ]
  },
  {
   "cell_type": "code",
   "execution_count": 1,
   "metadata": {},
   "outputs": [],
   "source": [
    "import pandas as pd\n",
    "import matplotlib.pyplot as plt\n",
    "import numpy as np\n",
    "import seaborn as sns\n",
    "import matplotlib\n",
    "import matplotlib.pyplot as plt\n",
    "import pickle\n",
    "import os\n",
    "import string\n",
    "import re\n",
    "\n",
    "# Similarity measures\n",
    "from sklearn.metrics.pairwise import cosine_similarity, euclidean_distances, linear_kernel\n",
    "from scipy.spatial.distance import cdist\n",
    "\n",
    "# NLP\n",
    "from sklearn.feature_extraction.text import TfidfVectorizer, CountVectorizer\n",
    "from sklearn.preprocessing import StandardScaler, QuantileTransformer, MinMaxScaler, RobustScaler, OneHotEncoder ,LabelBinarizer\n",
    "from nltk.stem import WordNetLemmatizer\n",
    "from nltk.stem.porter import *\n",
    "from nltk.tokenize import RegexpTokenizer, sent_tokenize, word_tokenize\n",
    "import gensim\n",
    "from gensim.utils import simple_preprocess\n",
    "from gensim.parsing.preprocessing import STOPWORDS\n",
    "from gensim.summarization import keywords"
   ]
  },
  {
   "cell_type": "code",
   "execution_count": 2,
   "metadata": {},
   "outputs": [],
   "source": [
    "np.set_printoptions(formatter={'float': lambda x: \"{0:0.3f}\".format(x)})"
   ]
  },
  {
   "cell_type": "markdown",
   "metadata": {},
   "source": [
    "### READ IN PICKLE DATA FILE"
   ]
  },
  {
   "cell_type": "code",
   "execution_count": 3,
   "metadata": {},
   "outputs": [],
   "source": [
    "#Read in pickle data file\n",
    "data=pd.read_pickle('../data/alltrails_ontario_curated_0215.pkl')"
   ]
  },
  {
   "cell_type": "markdown",
   "metadata": {},
   "source": [
    "###  Data curation"
   ]
  },
  {
   "cell_type": "code",
   "execution_count": 4,
   "metadata": {},
   "outputs": [],
   "source": [
    "# Remove private and closed trails\n",
    "data = data[~data.trailName.str.contains('closed|private')]\n",
    "\n",
    "#Remove unused columns\n",
    "data.drop(['review_keywords', 'review_keywords1','urlname', 'log_elevation', 'log_distance'], axis=1)\n",
    "data=data[data['distance']>1]\n",
    "data=data[data['distance']<50]\n",
    "data=data[data['elevation']>1]\n",
    "data=data[data['elevation']<1000]\n",
    "data=data[data['stars']>1]\n",
    "\n",
    "# Reset trail index\n",
    "data=data.reset_index(drop=True)\n",
    "data.shape\n",
    "data1 = data.copy()"
   ]
  },
  {
   "cell_type": "code",
   "execution_count": 5,
   "metadata": {},
   "outputs": [
    {
     "data": {
      "text/html": [
       "<div>\n",
       "<style scoped>\n",
       "    .dataframe tbody tr th:only-of-type {\n",
       "        vertical-align: middle;\n",
       "    }\n",
       "\n",
       "    .dataframe tbody tr th {\n",
       "        vertical-align: top;\n",
       "    }\n",
       "\n",
       "    .dataframe thead th {\n",
       "        text-align: right;\n",
       "    }\n",
       "</style>\n",
       "<table border=\"1\" class=\"dataframe\">\n",
       "  <thead>\n",
       "    <tr style=\"text-align: right;\">\n",
       "      <th></th>\n",
       "      <th>difficulty</th>\n",
       "      <th>distance</th>\n",
       "      <th>elevation</th>\n",
       "      <th>name</th>\n",
       "      <th>nreviews</th>\n",
       "      <th>review</th>\n",
       "      <th>route_type</th>\n",
       "      <th>stars</th>\n",
       "      <th>trail_attributes</th>\n",
       "      <th>trailName</th>\n",
       "      <th>tagstr</th>\n",
       "      <th>urlname</th>\n",
       "      <th>tags_str</th>\n",
       "      <th>log_elevation</th>\n",
       "      <th>log_distance</th>\n",
       "      <th>review_keywords</th>\n",
       "      <th>review_keywords1</th>\n",
       "      <th>lname</th>\n",
       "    </tr>\n",
       "  </thead>\n",
       "  <tbody>\n",
       "    <tr>\n",
       "      <th>0</th>\n",
       "      <td>MODERATE</td>\n",
       "      <td>5.6</td>\n",
       "      <td>32.0</td>\n",
       "      <td>Taylor Creek Trail</td>\n",
       "      <td>23</td>\n",
       "      <td>Great for strollers, bikes etc. Opposite side ...</td>\n",
       "      <td>Out &amp; Back</td>\n",
       "      <td>3.7</td>\n",
       "      <td>[dogs on leash, wheelchair friendly, kid frien...</td>\n",
       "      <td>taylor creek trail</td>\n",
       "      <td>dogsonleash wheelchairfriendly kidfriendly str...</td>\n",
       "      <td>taylor-creek-trail</td>\n",
       "      <td>dogs on leash, wheelchair friendly, kid friend...</td>\n",
       "      <td>3.465736</td>\n",
       "      <td>1.722767</td>\n",
       "      <td>[bike, nice, dog]</td>\n",
       "      <td>[bike nice dog]</td>\n",
       "      <td>taylor creek trail</td>\n",
       "    </tr>\n",
       "    <tr>\n",
       "      <th>1</th>\n",
       "      <td>MODERATE</td>\n",
       "      <td>4.7</td>\n",
       "      <td>64.0</td>\n",
       "      <td>Hilton Falls Trail</td>\n",
       "      <td>238</td>\n",
       "      <td>What a gem! I was so pleasantly  surprised by ...</td>\n",
       "      <td>Loop</td>\n",
       "      <td>4.3</td>\n",
       "      <td>[dogs on leash, cross country skiing, fishing,...</td>\n",
       "      <td>hilton falls trail</td>\n",
       "      <td>dogsonleash crosscountryskiing fishing hiking ...</td>\n",
       "      <td>hilton-falls-trail</td>\n",
       "      <td>dogs on leash, cross country skiing, fishing, ...</td>\n",
       "      <td>4.158883</td>\n",
       "      <td>1.547563</td>\n",
       "      <td>[nice, family, fall, waterfalls, entrances, wo...</td>\n",
       "      <td>[nice family fall waterfalls entrances wooded ...</td>\n",
       "      <td>hilton falls trail</td>\n",
       "    </tr>\n",
       "    <tr>\n",
       "      <th>2</th>\n",
       "      <td>MODERATE</td>\n",
       "      <td>2.3</td>\n",
       "      <td>100.0</td>\n",
       "      <td>Niagara Glen Trail</td>\n",
       "      <td>135</td>\n",
       "      <td>Beautiful area with several trails.  Loved exp...</td>\n",
       "      <td>Loop</td>\n",
       "      <td>4.7</td>\n",
       "      <td>[dogs on leash, kid friendly, hiking, nature t...</td>\n",
       "      <td>niagara glen trail</td>\n",
       "      <td>dogsonleash kidfriendly hiking naturetrips wal...</td>\n",
       "      <td>niagara-glen-trail</td>\n",
       "      <td>dogs on leash, kid friendly, hiking, nature tr...</td>\n",
       "      <td>4.605170</td>\n",
       "      <td>0.832909</td>\n",
       "      <td>[views, stairs, nice, fall, niagara, rock, sce...</td>\n",
       "      <td>[views stairs nice fall niagara rock scenery f...</td>\n",
       "      <td>niagara glen trail</td>\n",
       "    </tr>\n",
       "    <tr>\n",
       "      <th>3</th>\n",
       "      <td>MODERATE</td>\n",
       "      <td>7.2</td>\n",
       "      <td>128.0</td>\n",
       "      <td>Nassagaweya and Bruce Trail Loop from Rattlesn...</td>\n",
       "      <td>170</td>\n",
       "      <td>Great views! We went in January so there weren...</td>\n",
       "      <td>Loop</td>\n",
       "      <td>4.2</td>\n",
       "      <td>[dogs on leash, kid friendly, hiking, nature t...</td>\n",
       "      <td>nassagaweya and bruce trail loop from rattlesn...</td>\n",
       "      <td>dogsonleash kidfriendly hiking naturetrips sno...</td>\n",
       "      <td>nassagaweya-and-bruce-trail-loop-from-rattlesn...</td>\n",
       "      <td>dogs on leash, kid friendly, hiking, nature tr...</td>\n",
       "      <td>4.852030</td>\n",
       "      <td>1.974081</td>\n",
       "      <td>[beautiful, view, nice, day, bruce, moderately...</td>\n",
       "      <td>[beautiful view nice day bruce moderately leve...</td>\n",
       "      <td>nassagaweya and bruce trail loop from rattlesn...</td>\n",
       "    </tr>\n",
       "    <tr>\n",
       "      <th>4</th>\n",
       "      <td>MODERATE</td>\n",
       "      <td>15.3</td>\n",
       "      <td>427.0</td>\n",
       "      <td>Lion's Head Loop Via Bruce Trail</td>\n",
       "      <td>117</td>\n",
       "      <td>Amazing trail with stunning lookouts. Hiked it...</td>\n",
       "      <td>Loop</td>\n",
       "      <td>4.8</td>\n",
       "      <td>[dogs on leash, hiking, nature trips, walking,...</td>\n",
       "      <td>lion's head loop via bruce trail</td>\n",
       "      <td>dogsonleash hiking naturetrips walking birdwat...</td>\n",
       "      <td>lion's-head-loop-via-bruce-trail-</td>\n",
       "      <td>dogs on leash, hiking, nature trips, walking, ...</td>\n",
       "      <td>6.056784</td>\n",
       "      <td>2.727853</td>\n",
       "      <td>[view, long, day, beautiful, rocks, water, you...</td>\n",
       "      <td>[view long day beautiful rocks water youre loo...</td>\n",
       "      <td>lion's head loop via bruce trail</td>\n",
       "    </tr>\n",
       "  </tbody>\n",
       "</table>\n",
       "</div>"
      ],
      "text/plain": [
       "  difficulty  distance  elevation  \\\n",
       "0   MODERATE       5.6       32.0   \n",
       "1   MODERATE       4.7       64.0   \n",
       "2   MODERATE       2.3      100.0   \n",
       "3   MODERATE       7.2      128.0   \n",
       "4   MODERATE      15.3      427.0   \n",
       "\n",
       "                                                name nreviews  \\\n",
       "0                                 Taylor Creek Trail       23   \n",
       "1                                 Hilton Falls Trail      238   \n",
       "2                                 Niagara Glen Trail      135   \n",
       "3  Nassagaweya and Bruce Trail Loop from Rattlesn...      170   \n",
       "4                  Lion's Head Loop Via Bruce Trail       117   \n",
       "\n",
       "                                              review  route_type  stars  \\\n",
       "0  Great for strollers, bikes etc. Opposite side ...  Out & Back    3.7   \n",
       "1  What a gem! I was so pleasantly  surprised by ...        Loop    4.3   \n",
       "2  Beautiful area with several trails.  Loved exp...        Loop    4.7   \n",
       "3  Great views! We went in January so there weren...        Loop    4.2   \n",
       "4  Amazing trail with stunning lookouts. Hiked it...        Loop    4.8   \n",
       "\n",
       "                                    trail_attributes  \\\n",
       "0  [dogs on leash, wheelchair friendly, kid frien...   \n",
       "1  [dogs on leash, cross country skiing, fishing,...   \n",
       "2  [dogs on leash, kid friendly, hiking, nature t...   \n",
       "3  [dogs on leash, kid friendly, hiking, nature t...   \n",
       "4  [dogs on leash, hiking, nature trips, walking,...   \n",
       "\n",
       "                                           trailName  \\\n",
       "0                                 taylor creek trail   \n",
       "1                                 hilton falls trail   \n",
       "2                                 niagara glen trail   \n",
       "3  nassagaweya and bruce trail loop from rattlesn...   \n",
       "4                  lion's head loop via bruce trail    \n",
       "\n",
       "                                              tagstr  \\\n",
       "0  dogsonleash wheelchairfriendly kidfriendly str...   \n",
       "1  dogsonleash crosscountryskiing fishing hiking ...   \n",
       "2  dogsonleash kidfriendly hiking naturetrips wal...   \n",
       "3  dogsonleash kidfriendly hiking naturetrips sno...   \n",
       "4  dogsonleash hiking naturetrips walking birdwat...   \n",
       "\n",
       "                                             urlname  \\\n",
       "0                                 taylor-creek-trail   \n",
       "1                                 hilton-falls-trail   \n",
       "2                                 niagara-glen-trail   \n",
       "3  nassagaweya-and-bruce-trail-loop-from-rattlesn...   \n",
       "4                  lion's-head-loop-via-bruce-trail-   \n",
       "\n",
       "                                            tags_str  log_elevation  \\\n",
       "0  dogs on leash, wheelchair friendly, kid friend...       3.465736   \n",
       "1  dogs on leash, cross country skiing, fishing, ...       4.158883   \n",
       "2  dogs on leash, kid friendly, hiking, nature tr...       4.605170   \n",
       "3  dogs on leash, kid friendly, hiking, nature tr...       4.852030   \n",
       "4  dogs on leash, hiking, nature trips, walking, ...       6.056784   \n",
       "\n",
       "   log_distance                                    review_keywords  \\\n",
       "0      1.722767                                  [bike, nice, dog]   \n",
       "1      1.547563  [nice, family, fall, waterfalls, entrances, wo...   \n",
       "2      0.832909  [views, stairs, nice, fall, niagara, rock, sce...   \n",
       "3      1.974081  [beautiful, view, nice, day, bruce, moderately...   \n",
       "4      2.727853  [view, long, day, beautiful, rocks, water, you...   \n",
       "\n",
       "                                    review_keywords1  \\\n",
       "0                                    [bike nice dog]   \n",
       "1  [nice family fall waterfalls entrances wooded ...   \n",
       "2  [views stairs nice fall niagara rock scenery f...   \n",
       "3  [beautiful view nice day bruce moderately leve...   \n",
       "4  [view long day beautiful rocks water youre loo...   \n",
       "\n",
       "                                               lname  \n",
       "0                                 taylor creek trail  \n",
       "1                                 hilton falls trail  \n",
       "2                                 niagara glen trail  \n",
       "3  nassagaweya and bruce trail loop from rattlesn...  \n",
       "4                  lion's head loop via bruce trail   "
      ]
     },
     "execution_count": 5,
     "metadata": {},
     "output_type": "execute_result"
    }
   ],
   "source": [
    "data.head(5)"
   ]
  },
  {
   "cell_type": "code",
   "execution_count": 6,
   "metadata": {},
   "outputs": [
    {
     "data": {
      "text/plain": [
       "['cross country skiing', 'nature trips', 'snowshoeing', 'views', 'snow']"
      ]
     },
     "execution_count": 6,
     "metadata": {},
     "output_type": "execute_result"
    }
   ],
   "source": [
    "# data[data.trail_attributes.map(lambda x: len(x)==0)]\n",
    "# data.head(2)\n",
    "# data['tagstr']=data.trail_attributes[]\n",
    "data.trail_attributes.iloc[754]"
   ]
  },
  {
   "cell_type": "markdown",
   "metadata": {},
   "source": [
    "####  Curate tags to retain subset of tags that are most useful for the user"
   ]
  },
  {
   "cell_type": "code",
   "execution_count": 7,
   "metadata": {},
   "outputs": [],
   "source": [
    "tags = data.trail_attributes"
   ]
  },
  {
   "cell_type": "code",
   "execution_count": 8,
   "metadata": {},
   "outputs": [],
   "source": [
    "# Create a curated list of tags - remove unwanted tags\n",
    "wanted_tags = ['dogs on leash', 'wheelchair friendly', 'kid friendly',\n",
    " 'hiking', 'mountain biking', 'trail running', 'forest', \n",
    " 'fishing', 'horseback riding', 'bird watching', 'lake', 'river', 'waterfall',\n",
    " 'wild flowers', 'wildlife', 'rocky', 'beach',\n",
    " 'dog friendly', 'scramble', 'camping', 'rock climbing', 'cave', \n",
    " 'paddle sports', 'backpacking']\n",
    "\n",
    "curated_tags = tags.apply(lambda tag: [el for el in tag if el in wanted_tags])"
   ]
  },
  {
   "cell_type": "code",
   "execution_count": 9,
   "metadata": {},
   "outputs": [],
   "source": [
    "# curated_tags\n",
    "data['tagstr'] = curated_tags.apply(lambda tag: [el.replace(' ', '') for el in tag])\n",
    "# Remove rows with no trail attributes after curation above\n",
    "data=data[data.tagstr.map(lambda x: len(x)>0)]\n",
    "# Sort tags\n",
    "data['tagstr']=data['tagstr'].apply(sorted)"
   ]
  },
  {
   "cell_type": "code",
   "execution_count": 10,
   "metadata": {},
   "outputs": [],
   "source": [
    "# Create sentences from trail feature lists\n",
    "data['tags_sent']=[' '.join(tag) for tag in data['tagstr'].values]\n",
    "# data.head()"
   ]
  },
  {
   "cell_type": "markdown",
   "metadata": {},
   "source": [
    "####  Transform text data from trail attributes"
   ]
  },
  {
   "cell_type": "code",
   "execution_count": 11,
   "metadata": {
    "scrolled": true
   },
   "outputs": [
    {
     "name": "stdout",
     "output_type": "stream",
     "text": [
      "{'dogsonleash': 6, 'forest': 8, 'hiking': 9, 'kidfriendly': 11, 'mountainbiking': 13, 'trailrunning': 19, 'wheelchairfriendly': 21, 'birdwatching': 2, 'fishing': 7, 'horsebackriding': 10, 'lake': 12, 'river': 15, 'rocky': 17, 'waterfall': 20, 'wildflowers': 22, 'wildlife': 23, 'beach': 1, 'dogfriendly': 5, 'scramble': 18, 'camping': 3, 'cave': 4, 'rockclimbing': 16, 'paddlesports': 14, 'backpacking': 0}\n"
     ]
    }
   ],
   "source": [
    "# Create cosine similarity metric based on tag strings\n",
    "tcv=CountVectorizer()\n",
    "tcv_tags_mat=tcv.fit_transform(data['tags_sent'])\n",
    "\n",
    "## Save the vectorizer vocabulary using pickle\n",
    "# pickle.dump(tcv.vocabulary_,open(\"tags_vocab_cv.pkl\",\"wb\"))\n",
    "print (tcv.vocabulary_)\n",
    "\n",
    "# Create cosine similarity matrix\n",
    "cosine_sim_tagstrcv = cosine_similarity(tcv_tags_mat,tcv_tags_mat)\n",
    "# tcv_tags_mat"
   ]
  },
  {
   "cell_type": "markdown",
   "metadata": {},
   "source": [
    "### Reverse mapping of indices with corresponding trail names"
   ]
  },
  {
   "cell_type": "code",
   "execution_count": 12,
   "metadata": {},
   "outputs": [],
   "source": [
    "# Reverse map ofindices with corresponding trail names\n",
    "trail_indices=pd.Series(data.index, index=data['name']).drop_duplicates()"
   ]
  },
  {
   "cell_type": "markdown",
   "metadata": {},
   "source": [
    "###  Transform trail difficulty data"
   ]
  },
  {
   "cell_type": "code",
   "execution_count": 13,
   "metadata": {
    "scrolled": true
   },
   "outputs": [
    {
     "data": {
      "text/plain": [
       "(824, 3)"
      ]
     },
     "execution_count": 13,
     "metadata": {},
     "output_type": "execute_result"
    }
   ],
   "source": [
    "# Binarize labels using LabelBinarizer\n",
    "data['difficulty'].astype('category')\n",
    "# data\n",
    "lb=LabelBinarizer()\n",
    "lb_diffic_mat=lb.fit_transform(data['difficulty'])\n",
    "\n",
    "# Create cosine similarity matrix\n",
    "cosine_sim_diffic = cosine_similarity(lb_diffic_mat,lb_diffic_mat)\n",
    "lb_diffic_mat.shape"
   ]
  },
  {
   "cell_type": "markdown",
   "metadata": {},
   "source": [
    "###  Cosine similarity metric for numerical data"
   ]
  },
  {
   "cell_type": "code",
   "execution_count": 14,
   "metadata": {
    "scrolled": false
   },
   "outputs": [],
   "source": [
    "# Standardscaling for numerical data\n",
    "scaler=StandardScaler()\n",
    "nd=data[['distance', 'elevation', 'stars']]\n",
    "scaled_nd=scaler.fit_transform(nd)\n",
    "\n",
    "cosine_sim_num=cosine_similarity(scaled_nd, scaled_nd)"
   ]
  },
  {
   "cell_type": "markdown",
   "metadata": {},
   "source": [
    "###  Create combined cosine similarity based on all features"
   ]
  },
  {
   "cell_type": "code",
   "execution_count": 15,
   "metadata": {
    "scrolled": true
   },
   "outputs": [],
   "source": [
    "# Combined features where stars, distance and elevation are used for the numerical data\n",
    "combined_features_sim3 = np.concatenate([tcv_tags_mat.toarray(), lb_diffic_mat, scaled_nd], axis=1)\n",
    "combined_features_sim3\n",
    "\n",
    "#Calculate similarity matrix for combined features\n",
    "cosine_sim_allfeat3=cosine_similarity(combined_features_sim3, combined_features_sim3)"
   ]
  },
  {
   "cell_type": "code",
   "execution_count": 16,
   "metadata": {},
   "outputs": [],
   "source": [
    "df1=pd.DataFrame([cosine_sim_allfeat3[2], data['distance'], data['elevation'], data['stars'], data['tagstr'], data['difficulty']]).T\n",
    "df1.columns=['cs', 'dist','elev','ratng', 'feat','diff']\n",
    "df2=df1.sort_values(by=['cs'], ascending=False)\n",
    "# df1.dtypes\n",
    "# df2.iloc[:10]"
   ]
  },
  {
   "cell_type": "code",
   "execution_count": 17,
   "metadata": {
    "scrolled": true
   },
   "outputs": [],
   "source": [
    "# Combined features where stars, distance and elevation are used for the numerical data\n",
    "combined_features_csim3 = np.concatenate([cosine_sim_diffic, cosine_sim_tagstrcv, cosine_sim_num], axis=1)\n",
    "combined_features_csim3\n",
    "\n",
    "#Calculate similarity matrix for combined features\n",
    "ccosine_sim_allfeat3=cosine_similarity(combined_features_csim3, combined_features_csim3)"
   ]
  },
  {
   "cell_type": "code",
   "execution_count": 18,
   "metadata": {},
   "outputs": [
    {
     "data": {
      "text/html": [
       "<div>\n",
       "<style scoped>\n",
       "    .dataframe tbody tr th:only-of-type {\n",
       "        vertical-align: middle;\n",
       "    }\n",
       "\n",
       "    .dataframe tbody tr th {\n",
       "        vertical-align: top;\n",
       "    }\n",
       "\n",
       "    .dataframe thead th {\n",
       "        text-align: right;\n",
       "    }\n",
       "</style>\n",
       "<table border=\"1\" class=\"dataframe\">\n",
       "  <thead>\n",
       "    <tr style=\"text-align: right;\">\n",
       "      <th></th>\n",
       "      <th>cs</th>\n",
       "      <th>dist</th>\n",
       "      <th>elev</th>\n",
       "      <th>ratng</th>\n",
       "      <th>feat</th>\n",
       "      <th>diff</th>\n",
       "    </tr>\n",
       "  </thead>\n",
       "  <tbody>\n",
       "    <tr>\n",
       "      <th>2</th>\n",
       "      <td>1</td>\n",
       "      <td>2.3</td>\n",
       "      <td>100</td>\n",
       "      <td>4.7</td>\n",
       "      <td>[dogsonleash, forest, hiking, kidfriendly, river]</td>\n",
       "      <td>MODERATE</td>\n",
       "    </tr>\n",
       "    <tr>\n",
       "      <th>90</th>\n",
       "      <td>0.991821</td>\n",
       "      <td>4.5</td>\n",
       "      <td>100</td>\n",
       "      <td>4.5</td>\n",
       "      <td>[birdwatching, dogsonleash, forest, hiking, ki...</td>\n",
       "      <td>MODERATE</td>\n",
       "    </tr>\n",
       "    <tr>\n",
       "      <th>232</th>\n",
       "      <td>0.987458</td>\n",
       "      <td>3.5</td>\n",
       "      <td>101</td>\n",
       "      <td>4.5</td>\n",
       "      <td>[birdwatching, dogsonleash, forest, hiking, ki...</td>\n",
       "      <td>MODERATE</td>\n",
       "    </tr>\n",
       "    <tr>\n",
       "      <th>12</th>\n",
       "      <td>0.987351</td>\n",
       "      <td>2.3</td>\n",
       "      <td>93</td>\n",
       "      <td>4.8</td>\n",
       "      <td>[birdwatching, cave, dogsonleash, forest, hiki...</td>\n",
       "      <td>MODERATE</td>\n",
       "    </tr>\n",
       "    <tr>\n",
       "      <th>740</th>\n",
       "      <td>0.986003</td>\n",
       "      <td>3.5</td>\n",
       "      <td>71</td>\n",
       "      <td>5</td>\n",
       "      <td>[birdwatching, dogsonleash, forest, hiking, ki...</td>\n",
       "      <td>MODERATE</td>\n",
       "    </tr>\n",
       "    <tr>\n",
       "      <th>795</th>\n",
       "      <td>0.98425</td>\n",
       "      <td>1.8</td>\n",
       "      <td>15</td>\n",
       "      <td>5</td>\n",
       "      <td>[dogsonleash, hiking, kidfriendly, mountainbik...</td>\n",
       "      <td>MODERATE</td>\n",
       "    </tr>\n",
       "    <tr>\n",
       "      <th>17</th>\n",
       "      <td>0.983774</td>\n",
       "      <td>4.8</td>\n",
       "      <td>93</td>\n",
       "      <td>4.5</td>\n",
       "      <td>[birdwatching, dogsonleash, forest, hiking, ro...</td>\n",
       "      <td>MODERATE</td>\n",
       "    </tr>\n",
       "    <tr>\n",
       "      <th>531</th>\n",
       "      <td>0.983115</td>\n",
       "      <td>2.3</td>\n",
       "      <td>93</td>\n",
       "      <td>5</td>\n",
       "      <td>[birdwatching, dogsonleash, forest, hiking]</td>\n",
       "      <td>MODERATE</td>\n",
       "    </tr>\n",
       "    <tr>\n",
       "      <th>59</th>\n",
       "      <td>0.979372</td>\n",
       "      <td>5</td>\n",
       "      <td>48</td>\n",
       "      <td>4.8</td>\n",
       "      <td>[birdwatching, dogsonleash, forest, hiking, ki...</td>\n",
       "      <td>MODERATE</td>\n",
       "    </tr>\n",
       "    <tr>\n",
       "      <th>22</th>\n",
       "      <td>0.979336</td>\n",
       "      <td>1.9</td>\n",
       "      <td>71</td>\n",
       "      <td>4.6</td>\n",
       "      <td>[dogsonleash, forest, hiking, trailrunning, wi...</td>\n",
       "      <td>MODERATE</td>\n",
       "    </tr>\n",
       "  </tbody>\n",
       "</table>\n",
       "</div>"
      ],
      "text/plain": [
       "           cs dist elev ratng  \\\n",
       "2           1  2.3  100   4.7   \n",
       "90   0.991821  4.5  100   4.5   \n",
       "232  0.987458  3.5  101   4.5   \n",
       "12   0.987351  2.3   93   4.8   \n",
       "740  0.986003  3.5   71     5   \n",
       "795   0.98425  1.8   15     5   \n",
       "17   0.983774  4.8   93   4.5   \n",
       "531  0.983115  2.3   93     5   \n",
       "59   0.979372    5   48   4.8   \n",
       "22   0.979336  1.9   71   4.6   \n",
       "\n",
       "                                                  feat      diff  \n",
       "2    [dogsonleash, forest, hiking, kidfriendly, river]  MODERATE  \n",
       "90   [birdwatching, dogsonleash, forest, hiking, ki...  MODERATE  \n",
       "232  [birdwatching, dogsonleash, forest, hiking, ki...  MODERATE  \n",
       "12   [birdwatching, cave, dogsonleash, forest, hiki...  MODERATE  \n",
       "740  [birdwatching, dogsonleash, forest, hiking, ki...  MODERATE  \n",
       "795  [dogsonleash, hiking, kidfriendly, mountainbik...  MODERATE  \n",
       "17   [birdwatching, dogsonleash, forest, hiking, ro...  MODERATE  \n",
       "531        [birdwatching, dogsonleash, forest, hiking]  MODERATE  \n",
       "59   [birdwatching, dogsonleash, forest, hiking, ki...  MODERATE  \n",
       "22   [dogsonleash, forest, hiking, trailrunning, wi...  MODERATE  "
      ]
     },
     "execution_count": 18,
     "metadata": {},
     "output_type": "execute_result"
    }
   ],
   "source": [
    "df1=pd.DataFrame([ccosine_sim_allfeat3[2], data['distance'], data['elevation'], data['stars'], data['tagstr'], data['difficulty']]).T\n",
    "df1.columns=['cs', 'dist','elev','ratng', 'feat','diff']\n",
    "df2=df1.sort_values(by=['cs'], ascending=False)\n",
    "df1.dtypes\n",
    "df2.iloc[:10]"
   ]
  },
  {
   "cell_type": "markdown",
   "metadata": {},
   "source": [
    "###  Write cosine similarity based on all features into a pickle file"
   ]
  },
  {
   "cell_type": "code",
   "execution_count": 19,
   "metadata": {},
   "outputs": [],
   "source": [
    "# Save cosine similarity matrix to be called in the web app\n",
    "# np.savetxt('../data/cosine_sim_allfeat3.dat', cosine_sim_allfeat3)"
   ]
  },
  {
   "cell_type": "markdown",
   "metadata": {},
   "source": [
    "###  Testing review text vectorization"
   ]
  },
  {
   "cell_type": "code",
   "execution_count": 20,
   "metadata": {},
   "outputs": [],
   "source": [
    "def preprocess(text):\n",
    "    words=[word for sentence in sent_tokenize(text) for word in word_tokenize(sentence)]\n",
    "    words=[word for word in words if len(word)>3]\n",
    "    words=[word for word in words if word not in gensim.parsing.preprocessing.STOPWORDS]\n",
    "    words=[WordNetLemmatizer().lemmatize(word) for word in words]\n",
    "    return words"
   ]
  },
  {
   "cell_type": "code",
   "execution_count": 21,
   "metadata": {},
   "outputs": [],
   "source": [
    "reviews=data.review\n",
    "#tokenize text\n",
    "# reviews.apply(lambda x: x.lower())\n",
    "reviews=reviews.str.lower()\n",
    "reviews=reviews.str.replace('\\\"', '')\n",
    "reviews=reviews.str.replace(\"\\'\", '')\n",
    "reviews=reviews.str.replace('\\\"', '')\n",
    "reviews=reviews.str.replace('\\!', '')\n",
    "reviews=reviews.str.replace('\\/', ' ')\n",
    "reviews=reviews.str.replace(',', '')\n",
    "reviews=reviews.str.replace('(', '')\n",
    "reviews=reviews.str.replace(')', '')\n",
    "reviews=reviews.str.replace('.', '')\n",
    "reviews=reviews.str.replace('\\d+', '')\n",
    "# Remove additional frequent words\n",
    "reviews=reviews.replace(to_replace={'hik', 'walk','run','trail', 'interesting',\\\n",
    "                                    'good','great','lot','recommend','area','park',\\\n",
    "                                    'love','like','way','easy', 'try', 'path', 'little', \\\n",
    "                                    'complete', 'definite', 'clear', 'close' \\\n",
    "                                    'fortunately', 'highly', 'place', 'start' \\\n",
    "                                    'hour', 'closed', 'condition', 'ers', 'overall', 'anything' \\\n",
    "                                    'local', 'nice', 'gett', 'local', 'line', 'anything', 'think' \\\n",
    "                                    'link', 'life', 'link', 'hour', 'day', 'better', 'you', 'surprising',\n",
    "                                    'afternoon', 'night'\n",
    "                                   }, value='', regex=True)\n",
    "\n",
    "# Extract words longer than 3 characters\n",
    "rv=[word for word in reviews] # if len(word)>3]\n",
    "\n",
    "# Pre-process text using function above\n",
    "processed_text=[preprocess(text) for text in rv]"
   ]
  },
  {
   "cell_type": "code",
   "execution_count": 22,
   "metadata": {},
   "outputs": [],
   "source": [
    "# Create sentences of the cleaned version of the trail reviews\n",
    "processed_sent=[]\n",
    "for wordlist in processed_text:\n",
    "    sent=' '.join(wordlist)\n",
    "#     print (len(wordlist))\n",
    "    if len(wordlist) <10:\n",
    "        processed_sent.append('No reviews')\n",
    "    else:\n",
    "        stemmed_sent = PorterStemmer().stem(sent)\n",
    "        lemmatized_sent = WordNetLemmatizer().lemmatize(stemmed_sent)\n",
    "        processed_sent.append(''.join(lemmatized_sent))"
   ]
  },
  {
   "cell_type": "code",
   "execution_count": 23,
   "metadata": {},
   "outputs": [],
   "source": [
    "# Extract keywords using the processed reviews\n",
    "review_keywords=[]\n",
    "for i,n in enumerate(processed_sent):\n",
    "    if (n.lower() != 'no reviews' and len(n.split()) >10):\n",
    "        keywrds = (keywords(n, ratio=0.10, lemmatize=True)) #.replace('\\n', ' ')\n",
    "        tx = [word for word in keywrds.split()]\n",
    "        review_keywords.append(tx)    \n",
    "    else:\n",
    "        review_keywords.append(['No reviews'])"
   ]
  },
  {
   "cell_type": "code",
   "execution_count": 24,
   "metadata": {},
   "outputs": [],
   "source": [
    "data['Keywords']=pd.Series((v for v in review_keywords))\n",
    "data['KeyFeatures']=pd.Series(([' '.join(v)] for v in review_keywords))"
   ]
  },
  {
   "cell_type": "code",
   "execution_count": 37,
   "metadata": {},
   "outputs": [],
   "source": [
    "## Write dataframe as a pickle file\n",
    "# data=data.drop(['log_elevation', 'log_distance', 'urlname', 'review_keywords', 'review_keywords1', 'urlname', 'nreviews', 'review'], axis=1)\n",
    "# data.to_pickle('../data/alltrails_ontario_curated_0219.pkl')"
   ]
  },
  {
   "cell_type": "code",
   "execution_count": 36,
   "metadata": {},
   "outputs": [
    {
     "data": {
      "text/html": [
       "<div>\n",
       "<style scoped>\n",
       "    .dataframe tbody tr th:only-of-type {\n",
       "        vertical-align: middle;\n",
       "    }\n",
       "\n",
       "    .dataframe tbody tr th {\n",
       "        vertical-align: top;\n",
       "    }\n",
       "\n",
       "    .dataframe thead th {\n",
       "        text-align: right;\n",
       "    }\n",
       "</style>\n",
       "<table border=\"1\" class=\"dataframe\">\n",
       "  <thead>\n",
       "    <tr style=\"text-align: right;\">\n",
       "      <th></th>\n",
       "      <th>difficulty</th>\n",
       "      <th>distance</th>\n",
       "      <th>elevation</th>\n",
       "      <th>name</th>\n",
       "      <th>route_type</th>\n",
       "      <th>stars</th>\n",
       "      <th>trail_attributes</th>\n",
       "      <th>trailName</th>\n",
       "      <th>tagstr</th>\n",
       "      <th>tags_str</th>\n",
       "      <th>lname</th>\n",
       "      <th>tags_sent</th>\n",
       "      <th>Keywords</th>\n",
       "      <th>KeyFeatures</th>\n",
       "    </tr>\n",
       "  </thead>\n",
       "  <tbody>\n",
       "    <tr>\n",
       "      <th>0</th>\n",
       "      <td>MODERATE</td>\n",
       "      <td>5.6</td>\n",
       "      <td>32.0</td>\n",
       "      <td>Taylor Creek Trail</td>\n",
       "      <td>Out &amp; Back</td>\n",
       "      <td>3.7</td>\n",
       "      <td>[dogs on leash, wheelchair friendly, kid frien...</td>\n",
       "      <td>taylor creek trail</td>\n",
       "      <td>[dogsonleash, forest, hiking, kidfriendly, mou...</td>\n",
       "      <td>dogs on leash, wheelchair friendly, kid friend...</td>\n",
       "      <td>taylor creek trail</td>\n",
       "      <td>dogsonleash forest hiking kidfriendly mountain...</td>\n",
       "      <td>[bike, river, dog, mountain, multi]</td>\n",
       "      <td>[bike river dog mountain multi]</td>\n",
       "    </tr>\n",
       "    <tr>\n",
       "      <th>1</th>\n",
       "      <td>MODERATE</td>\n",
       "      <td>4.7</td>\n",
       "      <td>64.0</td>\n",
       "      <td>Hilton Falls Trail</td>\n",
       "      <td>Loop</td>\n",
       "      <td>4.3</td>\n",
       "      <td>[dogs on leash, cross country skiing, fishing,...</td>\n",
       "      <td>hilton falls trail</td>\n",
       "      <td>[birdwatching, dogsonleash, fishing, forest, h...</td>\n",
       "      <td>dogs on leash, cross country skiing, fishing, ...</td>\n",
       "      <td>hilton falls trail</td>\n",
       "      <td>birdwatching dogsonleash fishing forest hiking...</td>\n",
       "      <td>[fall, waterfall, family, beautiful, entrance,...</td>\n",
       "      <td>[fall waterfall family beautiful entrance bruc...</td>\n",
       "    </tr>\n",
       "    <tr>\n",
       "      <th>2</th>\n",
       "      <td>MODERATE</td>\n",
       "      <td>2.3</td>\n",
       "      <td>100.0</td>\n",
       "      <td>Niagara Glen Trail</td>\n",
       "      <td>Loop</td>\n",
       "      <td>4.7</td>\n",
       "      <td>[dogs on leash, kid friendly, hiking, nature t...</td>\n",
       "      <td>niagara glen trail</td>\n",
       "      <td>[dogsonleash, forest, hiking, kidfriendly, river]</td>\n",
       "      <td>dogs on leash, kid friendly, hiking, nature tr...</td>\n",
       "      <td>niagara glen trail</td>\n",
       "      <td>dogsonleash forest hiking kidfriendly river</td>\n",
       "      <td>[rock, water, amazing, view, river, niagara, f...</td>\n",
       "      <td>[rock water amazing view river niagara fall ti...</td>\n",
       "    </tr>\n",
       "  </tbody>\n",
       "</table>\n",
       "</div>"
      ],
      "text/plain": [
       "  difficulty  distance  elevation                name  route_type  stars  \\\n",
       "0   MODERATE       5.6       32.0  Taylor Creek Trail  Out & Back    3.7   \n",
       "1   MODERATE       4.7       64.0  Hilton Falls Trail        Loop    4.3   \n",
       "2   MODERATE       2.3      100.0  Niagara Glen Trail        Loop    4.7   \n",
       "\n",
       "                                    trail_attributes           trailName  \\\n",
       "0  [dogs on leash, wheelchair friendly, kid frien...  taylor creek trail   \n",
       "1  [dogs on leash, cross country skiing, fishing,...  hilton falls trail   \n",
       "2  [dogs on leash, kid friendly, hiking, nature t...  niagara glen trail   \n",
       "\n",
       "                                              tagstr  \\\n",
       "0  [dogsonleash, forest, hiking, kidfriendly, mou...   \n",
       "1  [birdwatching, dogsonleash, fishing, forest, h...   \n",
       "2  [dogsonleash, forest, hiking, kidfriendly, river]   \n",
       "\n",
       "                                            tags_str               lname  \\\n",
       "0  dogs on leash, wheelchair friendly, kid friend...  taylor creek trail   \n",
       "1  dogs on leash, cross country skiing, fishing, ...  hilton falls trail   \n",
       "2  dogs on leash, kid friendly, hiking, nature tr...  niagara glen trail   \n",
       "\n",
       "                                           tags_sent  \\\n",
       "0  dogsonleash forest hiking kidfriendly mountain...   \n",
       "1  birdwatching dogsonleash fishing forest hiking...   \n",
       "2        dogsonleash forest hiking kidfriendly river   \n",
       "\n",
       "                                            Keywords  \\\n",
       "0                [bike, river, dog, mountain, multi]   \n",
       "1  [fall, waterfall, family, beautiful, entrance,...   \n",
       "2  [rock, water, amazing, view, river, niagara, f...   \n",
       "\n",
       "                                         KeyFeatures  \n",
       "0                    [bike river dog mountain multi]  \n",
       "1  [fall waterfall family beautiful entrance bruc...  \n",
       "2  [rock water amazing view river niagara fall ti...  "
      ]
     },
     "execution_count": 36,
     "metadata": {},
     "output_type": "execute_result"
    }
   ],
   "source": [
    "data.head(3)"
   ]
  }
 ],
 "metadata": {
  "kernelspec": {
   "display_name": "Python 3",
   "language": "python",
   "name": "python3"
  },
  "language_info": {
   "codemirror_mode": {
    "name": "ipython",
    "version": 3
   },
   "file_extension": ".py",
   "mimetype": "text/x-python",
   "name": "python",
   "nbconvert_exporter": "python",
   "pygments_lexer": "ipython3",
   "version": "3.7.1"
  }
 },
 "nbformat": 4,
 "nbformat_minor": 2
}
