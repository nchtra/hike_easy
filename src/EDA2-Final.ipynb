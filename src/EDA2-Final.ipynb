{
 "cells": [
  {
   "cell_type": "markdown",
   "metadata": {},
   "source": [
    "## Exploratory Data Analysis (EDA)\n",
    "\n",
    "Goal - Create a similarity metric based on just the numerical data (elevation gain, distance, star rating)"
   ]
  },
  {
   "cell_type": "markdown",
   "metadata": {},
   "source": [
    "###  Import essential modules"
   ]
  },
  {
   "cell_type": "code",
   "execution_count": 1,
   "metadata": {},
   "outputs": [],
   "source": [
    "import pandas as pd\n",
    "import matplotlib.pyplot as plt\n",
    "import numpy as np\n",
    "import seaborn as sns\n",
    "import matplotlib\n",
    "import matplotlib.pyplot as plt\n",
    "import pickle\n",
    "import os\n",
    "import string\n",
    "import re\n",
    "\n",
    "# Similarity measures\n",
    "from sklearn.metrics.pairwise import cosine_similarity, euclidean_distances, linear_kernel\n",
    "from scipy.spatial.distance import cdist\n",
    "\n",
    "# NLP\n",
    "from sklearn.feature_extraction.text import TfidfVectorizer, CountVectorizer\n",
    "from sklearn.preprocessing import StandardScaler, MinMaxScaler, RobustScaler, OneHotEncoder ,LabelBinarizer\n",
    "from nltk.stem import WordNetLemmatizer\n",
    "from nltk.stem.porter import *\n",
    "from nltk.tokenize import RegexpTokenizer, sent_tokenize, word_tokenize\n",
    "import gensim\n",
    "from gensim.utils import simple_preprocess\n",
    "from gensim.parsing.preprocessing import STOPWORDS\n",
    "from gensim.summarization import keywords"
   ]
  },
  {
   "cell_type": "markdown",
   "metadata": {},
   "source": [
    "### READ IN PICKLE DATA FILE"
   ]
  },
  {
   "cell_type": "code",
   "execution_count": 2,
   "metadata": {},
   "outputs": [],
   "source": [
    "#Read in pickle data file\n",
    "df=pd.read_pickle('../data/alltrails_ontario.pkl')"
   ]
  },
  {
   "cell_type": "markdown",
   "metadata": {},
   "source": [
    "###  Curate dataset"
   ]
  },
  {
   "cell_type": "markdown",
   "metadata": {},
   "source": [
    "#### 1. Remove nan from elevation data"
   ]
  },
  {
   "cell_type": "code",
   "execution_count": 3,
   "metadata": {},
   "outputs": [],
   "source": [
    "#Replace nan with 0. - I had to do this since elevation had a few rows with nan\n",
    "df.loc[np.isnan(df['elevation'])|(df['elevation']<0.1), 'elevation'] = 1"
   ]
  },
  {
   "cell_type": "markdown",
   "metadata": {},
   "source": [
    "#### 2. Remove rows with no reviews"
   ]
  },
  {
   "cell_type": "code",
   "execution_count": 4,
   "metadata": {},
   "outputs": [],
   "source": [
    "# Convert nreviews to int\n",
    "nreviews = df.nreviews.astype('int64')\n",
    "df['numreviews'] = nreviews\n",
    "\n",
    "# type(pd.to_numeric(nreviews))\n",
    "df = df[df['numreviews'] > 1]\n",
    "df=df[df['review'] != '']\n",
    "# df['nreviews']\n",
    "# df.shape\n",
    "# df.iloc[1001]"
   ]
  },
  {
   "cell_type": "code",
   "execution_count": 5,
   "metadata": {},
   "outputs": [
    {
     "data": {
      "text/plain": [
       "'Hard packed/fine gravel path for the most part. Good for bicyclist too. The trail follows a small creek for a good part. Nice enough walk for a bit of relaxation but can be noisy in some spots due to the urban environment.\\n\\nJust a couple of notes.  \\n\\nThis trail is marked April to October but considering it\\'s hard-packed with crushed limestone there\\'s no reason in my mind that it can\\'t be used year round.  I\\'m sure the locals do.\\n\\nI don\\'t see any reason why a wheelchair can\\'t access this trail.  It is somewhat hilly at points but there are no other obstacles that I would think to be an impediment.First hike with my three kids under 6 years old. Great walk with a stop at the creek to look for toads , then some wildflower picking and pretending to exercise on the equipment placed on parts of the trail. Fun!Had a nice quick hike here today, a hidden gem for sure, nice easy trails.. Very family friendlyThis trail is different than the other \"Sheppard\\'s Bush trail\" in allmaps as this maps some of the routes within the conservation area itself. It\\'s a nice open hardwood forest. We went on Easter and they had hidden eggs around the forest - was fun! It\\'s nice to have healthy looking forests like this sprinkled in the busy GTA.'"
      ]
     },
     "execution_count": 5,
     "metadata": {},
     "output_type": "execute_result"
    }
   ],
   "source": [
    "df['review'].iloc[150]"
   ]
  },
  {
   "cell_type": "code",
   "execution_count": 6,
   "metadata": {},
   "outputs": [],
   "source": [
    "# df['log_distance'].shape"
   ]
  },
  {
   "cell_type": "markdown",
   "metadata": {},
   "source": [
    "####  3. Create new column with trail names in lowercase"
   ]
  },
  {
   "cell_type": "code",
   "execution_count": 7,
   "metadata": {},
   "outputs": [],
   "source": [
    "df['trailName']=df['name'].str.lower()\n",
    "# df.head()"
   ]
  },
  {
   "cell_type": "markdown",
   "metadata": {},
   "source": [
    "#### 4. Curate trail attributes\n",
    "\n",
    "a) Curate trail attributes of interest for further analyses"
   ]
  },
  {
   "cell_type": "code",
   "execution_count": 8,
   "metadata": {
    "scrolled": false
   },
   "outputs": [],
   "source": [
    "\n",
    "# trail_attributes=df.trail_attributes\n",
    "# hattrib=[]\n",
    "# for l1 in trail_attributes:\n",
    "#     hattrib.append([l2.replace(' ', '') for l2 in l1])\n",
    "# print (hattrib[0])\n",
    "\n",
    "# # Add the curated attibutes as a new column ('tagstr') in df\n",
    "# df['tagstr']=pd.Series(hattrib)\n",
    "# df['tagstr']=[' '.join(tag) for tag in df.tagstr.values]\n",
    "# df.head(2)"
   ]
  },
  {
   "cell_type": "markdown",
   "metadata": {},
   "source": [
    "#####  Create unique trail attributes"
   ]
  },
  {
   "cell_type": "code",
   "execution_count": 9,
   "metadata": {
    "scrolled": true
   },
   "outputs": [],
   "source": [
    "# Get list of unique trail attributes\n",
    "tags = df.trail_attributes\n",
    "unique_tags= pd.Series([tag for tags in df.trail_attributes for tag in tags]).unique()"
   ]
  },
  {
   "cell_type": "code",
   "execution_count": 10,
   "metadata": {},
   "outputs": [],
   "source": [
    "unique_tags = ['dogs on leash', 'wheelchair friendly', 'kid friendly', 'stroller friendly'\n",
    " 'hiking', 'mountain biking', 'nature trips', 'snowshoeing', 'trail running'\n",
    " 'walking', 'forest', 'paved', 'views', 'snow', 'cross country skiing'\n",
    " 'fishing', 'horseback riding', 'bird watching', 'lake', 'river', 'waterfall'\n",
    " 'wild flowers', 'wildlife', 'rocky', 'bugs', 'muddy', 'beach', 'road biking'\n",
    " 'dog friendly', 'scramble', 'camping', 'rock climbing', 'cave', 'skiing'\n",
    " 'partially paved', 'no dogs', 'paddle sports', 'over grown', 'rails trails'\n",
    " 'backpacking', 'washed out', 'off road driving', 'off trail', 'bridge out'\n",
    " 'city walk', 'historic site', 'blowdown', 'no shade', 'scenic driving'\n",
    " 'private property', 'closed']\n",
    "# print (type(unique_tags))"
   ]
  },
  {
   "cell_type": "markdown",
   "metadata": {},
   "source": [
    "##### Create curated list of tags - remove unwanted tags and add results to new column in Dataframe"
   ]
  },
  {
   "cell_type": "code",
   "execution_count": 11,
   "metadata": {
    "scrolled": true
   },
   "outputs": [],
   "source": [
    "# Create a curated list of tags - remove unwanted tags\n",
    "wanted_tags = ['dogs on leash', 'wheelchair friendly', 'kid friendly',\n",
    " 'hiking', 'mountain biking', 'trail running', 'forest', \n",
    " 'fishing', 'horseback riding', 'bird watching', 'lake', 'river', 'waterfall',\n",
    " 'wild flowers', 'wildlife', 'rocky', 'beach',\n",
    " 'dog friendly', 'scramble', 'camping', 'rock climbing', 'cave', \n",
    " 'paddle sports', 'backpacking']\n",
    "# print (type(wanted_tags))\n",
    "\n",
    "curated_tags = tags.apply(lambda tag: [el for el in tag if el in wanted_tags])\n",
    "df['curated_tags'] = curated_tags\n",
    "# df.head()"
   ]
  },
  {
   "cell_type": "code",
   "execution_count": 12,
   "metadata": {},
   "outputs": [
    {
     "data": {
      "text/plain": [
       "(847, 13)"
      ]
     },
     "execution_count": 12,
     "metadata": {},
     "output_type": "execute_result"
    }
   ],
   "source": [
    "# curated_tags\n",
    "df['tagstr'] = curated_tags.apply(lambda tag: [el.replace(' ', '') for el in tag])\n",
    "df.shape"
   ]
  },
  {
   "cell_type": "code",
   "execution_count": 13,
   "metadata": {
    "scrolled": true
   },
   "outputs": [],
   "source": [
    "# Optional (I did this before saving the curated file below - 2018-02-08) - Remove the original 'nreviews' column \n",
    "# df.pop('nreviews')\n",
    "# df.head()"
   ]
  },
  {
   "cell_type": "markdown",
   "metadata": {},
   "source": [
    "## ANALYSES"
   ]
  },
  {
   "cell_type": "markdown",
   "metadata": {},
   "source": [
    "###  cosine similarity of curated tags"
   ]
  },
  {
   "cell_type": "code",
   "execution_count": 14,
   "metadata": {},
   "outputs": [
    {
     "name": "stdout",
     "output_type": "stream",
     "text": [
      "{'dogsonleash': 6, 'wheelchairfriendly': 21, 'kidfriendly': 11, 'hiking': 9, 'mountainbiking': 13, 'trailrunning': 19, 'forest': 8, 'fishing': 7, 'horsebackriding': 10, 'birdwatching': 2, 'lake': 12, 'river': 15, 'waterfall': 20, 'wildflowers': 22, 'wildlife': 23, 'rocky': 17, 'beach': 1, 'dogfriendly': 5, 'scramble': 18, 'camping': 3, 'rockclimbing': 16, 'cave': 4, 'paddlesports': 14, 'backpacking': 0}\n"
     ]
    }
   ],
   "source": [
    "# Create cosine similarity metric based on tag strings\n",
    "tcv=CountVectorizer()\n",
    "df['tagstr']=[' '.join(tag) for tag in df.tagstr.values]\n",
    "tcv_mat=tcv.fit_transform(df['tagstr'])\n",
    "\n",
    "## Save the vectorizer vocabulary using pickle\n",
    "pickle.dump(tcv.vocabulary_,open(\"tags_vocab_cv.pkl\",\"wb\"))\n",
    "\n",
    "print (tcv.vocabulary_)\n",
    "# Create cosine similarity matrix\n",
    "cosine_sim_tagstrcv = cosine_similarity(tcv_mat,tcv_mat)"
   ]
  },
  {
   "cell_type": "markdown",
   "metadata": {},
   "source": [
    "###  cosine similarity metric of difficulty category"
   ]
  },
  {
   "cell_type": "code",
   "execution_count": 15,
   "metadata": {},
   "outputs": [],
   "source": [
    "# Create cosine similarity metric based on trail difficulty used as category\n",
    "df['difficulty'].astype('category')\n",
    "# data\n",
    "lb=LabelBinarizer()\n",
    "lb_diffic=lb.fit_transform(df['difficulty'])\n",
    "\n",
    "cosine_sim_diffic = cosine_similarity(lb_diffic,lb_diffic)\n",
    "# len(cosine_sim_diffic[0])"
   ]
  },
  {
   "cell_type": "markdown",
   "metadata": {},
   "source": [
    "### Reverse mapping of indices with corresponding trail names"
   ]
  },
  {
   "cell_type": "code",
   "execution_count": 16,
   "metadata": {},
   "outputs": [
    {
     "data": {
      "text/plain": [
       "847"
      ]
     },
     "execution_count": 16,
     "metadata": {},
     "output_type": "execute_result"
    }
   ],
   "source": [
    "# Reverse map ofindices with corresponding trail names\n",
    "trail_indices=pd.Series(df.index, index=df['name']).drop_duplicates()\n",
    "len(trail_indices)\n",
    "# trail_indices"
   ]
  },
  {
   "cell_type": "markdown",
   "metadata": {},
   "source": [
    "### Robustscaling of numerical features (distance, elevation)"
   ]
  },
  {
   "cell_type": "markdown",
   "metadata": {},
   "source": [
    "#### Look at log of distance and elevation (due to the long tails)"
   ]
  },
  {
   "cell_type": "code",
   "execution_count": 17,
   "metadata": {},
   "outputs": [
    {
     "name": "stderr",
     "output_type": "stream",
     "text": [
      "C:\\Users\\chtra\\Anaconda3\\lib\\site-packages\\scipy\\stats\\stats.py:1713: FutureWarning: Using a non-tuple sequence for multidimensional indexing is deprecated; use `arr[tuple(seq)]` instead of `arr[seq]`. In the future this will be interpreted as an array index, `arr[np.array(seq)]`, which will result either in an error or a different result.\n",
      "  return np.add.reduce(sorted[indexer] * weights, axis=axis) / sumval\n"
     ]
    },
    {
     "data": {
      "text/plain": [
       "(847,)"
      ]
     },
     "execution_count": 17,
     "metadata": {},
     "output_type": "execute_result"
    },
    {
     "data": {
      "image/png": "[encoded data removed]",
      "text/plain": [
       "<Figure size 432x288 with 1 Axes>"
      ]
     },
     "metadata": {
      "needs_background": "light"
     },
     "output_type": "display_data"
    }
   ],
   "source": [
    "# Testing numerical data\n",
    "elev=df['elevation']\n",
    "#Natural log of elevation\n",
    "log_elev=np.log(elev)\n",
    "df['log_elevation']=log_elev\n",
    "sns.kdeplot(log_elev)\n",
    "# data.head(5)\n",
    "log_elev.shape"
   ]
  },
  {
   "cell_type": "code",
   "execution_count": 18,
   "metadata": {
    "scrolled": true
   },
   "outputs": [
    {
     "data": {
      "text/plain": [
       "<matplotlib.axes._subplots.AxesSubplot at 0x1c1ef1970b8>"
      ]
     },
     "execution_count": 18,
     "metadata": {},
     "output_type": "execute_result"
    },
    {
     "data": {
      "image/png": "[encoded data removed]",
      "text/plain": [
       "<Figure size 432x288 with 1 Axes>"
      ]
     },
     "metadata": {
      "needs_background": "light"
     },
     "output_type": "display_data"
    }
   ],
   "source": [
    "dist=df['distance']\n",
    "log_dist=np.log(dist)\n",
    "log_dist\n",
    "df['log_distance']=log_dist\n",
    "sns.kdeplot(log_dist)\n",
    "# data.head(2)"
   ]
  },
  {
   "cell_type": "markdown",
   "metadata": {},
   "source": [
    "###  cosine similarity metric for numerical data"
   ]
  },
  {
   "cell_type": "code",
   "execution_count": 19,
   "metadata": {
    "scrolled": false
   },
   "outputs": [
    {
     "data": {
      "text/plain": [
       "<matplotlib.axes._subplots.AxesSubplot at 0x1c1ef150908>"
      ]
     },
     "execution_count": 19,
     "metadata": {},
     "output_type": "execute_result"
    },
    {
     "data": {
      "image/png": "[encoded data removed]",
      "text/plain": [
       "<Figure size 432x288 with 1 Axes>"
      ]
     },
     "metadata": {
      "needs_background": "light"
     },
     "output_type": "display_data"
    }
   ],
   "source": [
    "num_data=df[['log_elevation','log_distance','stars']]\n",
    "sns.kdeplot(df['log_elevation'])\n",
    "sns.kdeplot(df['log_distance'])\n",
    "sns.kdeplot(df['stars'])\n",
    "# num_data['log_elevation']"
   ]
  },
  {
   "cell_type": "markdown",
   "metadata": {},
   "source": [
    "#####  RobustScaling for the three numerical features"
   ]
  },
  {
   "cell_type": "code",
   "execution_count": 29,
   "metadata": {},
   "outputs": [
    {
     "data": {
      "text/plain": [
       "<matplotlib.axes._subplots.AxesSubplot at 0x1c1f0b90240>"
      ]
     },
     "execution_count": 29,
     "metadata": {},
     "output_type": "execute_result"
    },
    {
     "data": {
      "image/png": "[encoded data removed]",
      "text/plain": [
       "<Figure size 432x288 with 1 Axes>"
      ]
     },
     "metadata": {
      "needs_background": "light"
     },
     "output_type": "display_data"
    }
   ],
   "source": [
    "num_data2=df[['log_elevation','log_distance']]\n",
    "sns.kdeplot(df['log_elevation'])\n",
    "sns.kdeplot(df['log_distance'])\n",
    "# num_data['log_elevation']"
   ]
  },
  {
   "cell_type": "code",
   "execution_count": 30,
   "metadata": {},
   "outputs": [
    {
     "name": "stderr",
     "output_type": "stream",
     "text": [
      "C:\\Users\\chtra\\Anaconda3\\lib\\site-packages\\scipy\\stats\\stats.py:1713: FutureWarning: Using a non-tuple sequence for multidimensional indexing is deprecated; use `arr[tuple(seq)]` instead of `arr[seq]`. In the future this will be interpreted as an array index, `arr[np.array(seq)]`, which will result either in an error or a different result.\n",
      "  return np.add.reduce(sorted[indexer] * weights, axis=axis) / sumval\n"
     ]
    },
    {
     "data": {
      "text/plain": [
       "<matplotlib.axes._subplots.AxesSubplot at 0x1c1eefc3160>"
      ]
     },
     "execution_count": 30,
     "metadata": {},
     "output_type": "execute_result"
    },
    {
     "data": {
      "image/png": "[encoded data removed]",
      "text/plain": [
       "<Figure size 432x288 with 1 Axes>"
      ]
     },
     "metadata": {
      "needs_background": "light"
     },
     "output_type": "display_data"
    }
   ],
   "source": [
    "# Robust scaling for numerical data\n",
    "scaler=RobustScaler()\n",
    "# scaler=StandardScaler()\n",
    "scaled_numdata2=scaler.fit_transform(num_data2)\n",
    "scaled_numdata2=pd.DataFrame(scaled_numdata2, columns=['log_elevation', 'log_distance'])\n",
    "sns.kdeplot(scaled_numdata2['log_elevation'])\n",
    "sns.kdeplot(scaled_numdata2['log_distance'])"
   ]
  },
  {
   "cell_type": "code",
   "execution_count": 31,
   "metadata": {},
   "outputs": [
    {
     "name": "stderr",
     "output_type": "stream",
     "text": [
      "C:\\Users\\chtra\\Anaconda3\\lib\\site-packages\\scipy\\stats\\stats.py:1713: FutureWarning: Using a non-tuple sequence for multidimensional indexing is deprecated; use `arr[tuple(seq)]` instead of `arr[seq]`. In the future this will be interpreted as an array index, `arr[np.array(seq)]`, which will result either in an error or a different result.\n",
      "  return np.add.reduce(sorted[indexer] * weights, axis=axis) / sumval\n"
     ]
    },
    {
     "data": {
      "text/plain": [
       "(847, 3)"
      ]
     },
     "execution_count": 31,
     "metadata": {},
     "output_type": "execute_result"
    },
    {
     "data": {
      "image/png": "[encoded data removed]",
      "text/plain": [
       "<Figure size 432x288 with 1 Axes>"
      ]
     },
     "metadata": {
      "needs_background": "light"
     },
     "output_type": "display_data"
    }
   ],
   "source": [
    "# Robust scaling for numerical data\n",
    "scaler=RobustScaler()\n",
    "# scaler=StandardScaler()\n",
    "scaled_numdata=scaler.fit_transform(num_data)\n",
    "scaled_numdata=pd.DataFrame(scaled_numdata, columns=['log_elevation', 'log_distance', 'stars'])\n",
    "sns.kdeplot(scaled_numdata['log_elevation'])\n",
    "sns.kdeplot(scaled_numdata['log_distance'])\n",
    "sns.kdeplot(scaled_numdata['stars'])\n",
    "scaled_numdata.shape"
   ]
  },
  {
   "cell_type": "code",
   "execution_count": 32,
   "metadata": {},
   "outputs": [],
   "source": [
    "cosine_sim_num = cosine_similarity(scaled_numdata, scaled_numdata)"
   ]
  },
  {
   "cell_type": "markdown",
   "metadata": {},
   "source": [
    "###  Create cosine similarity based on all features"
   ]
  },
  {
   "cell_type": "code",
   "execution_count": 33,
   "metadata": {},
   "outputs": [
    {
     "data": {
      "text/plain": [
       "array([[ 1.        ,  0.95963293, -0.38933946, ..., -0.48661871,\n",
       "         0.96288753,  0.64585833],\n",
       "       [ 0.95963293,  1.        , -0.11456015, ..., -0.71268418,\n",
       "         0.8481069 ,  0.83451346],\n",
       "       [-0.38933946, -0.11456015,  1.        , ..., -0.61522147,\n",
       "        -0.6234962 ,  0.45175804],\n",
       "       ...,\n",
       "       [-0.48661871, -0.71268418, -0.61522147, ...,  1.        ,\n",
       "        -0.23276796, -0.98125407],\n",
       "       [ 0.96288753,  0.8481069 , -0.6234962 , ..., -0.23276796,\n",
       "         1.        ,  0.41582955],\n",
       "       [ 0.64585833,  0.83451346,  0.45175804, ..., -0.98125407,\n",
       "         0.41582955,  1.        ]])"
      ]
     },
     "execution_count": 33,
     "metadata": {},
     "output_type": "execute_result"
    }
   ],
   "source": [
    "# Cosine similarity for numerical data\n",
    "scaled_numdata2.shape\n",
    "cosine_sim_num2 = cosine_similarity(scaled_numdata2, scaled_numdata2)\n",
    "cosine_sim_num2c = cosine_similarity(scaled_numdata2, scaled_numdata2)\n",
    "cosine_sim_num2[0], cosine_sim_num2c[1]\n",
    "cosine_sim_num2c.shape\n",
    "cosine_sim_num2c"
   ]
  },
  {
   "cell_type": "code",
   "execution_count": 34,
   "metadata": {},
   "outputs": [
    {
     "name": "stdout",
     "output_type": "stream",
     "text": [
      "(847, 2541)\n",
      "[1.         0.51559304 0.45511104 0.35434122 0.2660764  0.2729572\n",
      " 0.78231394 0.32052085 0.22510317 0.02566085]\n",
      "(847, 847)\n"
     ]
    }
   ],
   "source": [
    "#Combined features where only distance and elevation are used for the numerical data\n",
    "combined_features_sim2=np.concatenate([cosine_sim_tagstrcv, cosine_sim_diffic, cosine_sim_num], axis=1)\n",
    "print (combined_features_sim2.shape)\n",
    "\n",
    "#Calculate similarity matrix for combined features\n",
    "cosine_sim_allfeat2=cosine_similarity(combined_features_sim2, combined_features_sim2)\n",
    "print (cosine_sim_allfeat2[0][:10])\n",
    "print (cosine_sim_allfeat2.shape)"
   ]
  },
  {
   "cell_type": "code",
   "execution_count": 35,
   "metadata": {},
   "outputs": [],
   "source": [
    "np.savetxt('cosine_sim2-0919.dat', cosine_sim_allfeat2)"
   ]
  },
  {
   "cell_type": "code",
   "execution_count": 36,
   "metadata": {},
   "outputs": [
    {
     "name": "stdout",
     "output_type": "stream",
     "text": [
      "(847, 847) (847, 847) (847, 847)\n"
     ]
    },
    {
     "data": {
      "text/plain": [
       "numpy.ndarray"
      ]
     },
     "execution_count": 36,
     "metadata": {},
     "output_type": "execute_result"
    }
   ],
   "source": [
    "#Combined features where stars, distance and elevation are used for the numerical data\n",
    "print (cosine_sim_tagstrcv.shape, cosine_sim_diffic.shape, cosine_sim_num.shape)\n",
    "combined_features_sim3=np.concatenate([cosine_sim_tagstrcv, cosine_sim_diffic, cosine_sim_num], axis=1)\n",
    "combined_features_sim3.shape\n",
    "\n",
    "#Calculate similarity matrix for combined features\n",
    "cosine_sim_allfeat3=cosine_similarity(combined_features_sim3, combined_features_sim3)\n",
    "type(cosine_sim_allfeat3)"
   ]
  },
  {
   "cell_type": "markdown",
   "metadata": {},
   "source": [
    "##  Write cosine similarity based on all features into a pickle file"
   ]
  },
  {
   "cell_type": "code",
   "execution_count": 37,
   "metadata": {},
   "outputs": [],
   "source": [
    "np.savetxt('cosine_sim3.dat', cosine_sim_allfeat3)"
   ]
  },
  {
   "cell_type": "markdown",
   "metadata": {},
   "source": [
    "###  Review text vectorization to extract keywords"
   ]
  },
  {
   "cell_type": "code",
   "execution_count": 38,
   "metadata": {},
   "outputs": [],
   "source": [
    "def preprocess(text):\n",
    "    words=[word for sentence in sent_tokenize(text) for word in word_tokenize(sentence)]\n",
    "    words=[word for word in words if len(word)>3]\n",
    "    words=[word for word in words if word not in gensim.parsing.preprocessing.STOPWORDS]\n",
    "    words=[WordNetLemmatizer().lemmatize(word) for word in words]\n",
    "    #Lemmatize\n",
    "#     words=[WordNetLemmatizer.lemmatize(word) for word in words]\n",
    "    return words"
   ]
  },
  {
   "cell_type": "code",
   "execution_count": 39,
   "metadata": {},
   "outputs": [
    {
     "name": "stdout",
     "output_type": "stream",
     "text": [
      "(847,)\n"
     ]
    }
   ],
   "source": [
    "reviews=df.review\n",
    "#tokenize text\n",
    "# reviews.apply(lambda x: x.lower())\n",
    "reviews=reviews.str.lower()\n",
    "reviews=reviews.str.replace('\\\"', '')\n",
    "reviews=reviews.str.replace(\"\\'\", '')\n",
    "reviews=reviews.str.replace('\\\"', '')\n",
    "reviews=reviews.str.replace('\\!', '')\n",
    "reviews=reviews.str.replace('\\/', ' ')\n",
    "reviews=reviews.str.replace(',', '')\n",
    "reviews=reviews.str.replace('(', '')\n",
    "reviews=reviews.str.replace(')', '')\n",
    "reviews=reviews.str.replace('.', '')\n",
    "reviews=reviews.str.replace('\\d+', '')\n",
    "reviews=reviews.replace(to_replace={'hik', 'walk','run','trail', 'interesting',\\\n",
    "                                    'good','great','lot','recommend','area','park',\\\n",
    "                                    'love','like','way','easy', 'try', 'path', 'little', \\\n",
    "                                    'complete', 'definite', 'clear', 'close' \\\n",
    "                                    'fortunately', 'ing ', 'highly', 'place', 'start' \\\n",
    "                                    'hour', 'closed', 'condition', 'ers'\n",
    "                                   }, value='', regex=True)\n",
    "\n",
    "rv=[word for word in reviews if len(word)>3]\n",
    "# print (rv[0])\n",
    "processed_text=[preprocess(text) for text in rv]\n",
    "# print (processed_text[0])\n",
    "# WordNetLemmatizer.lemmatize('are')\n",
    "\n",
    "processed_text_stemmed = [PorterStemmer().stem(rev) for rev in reviews]\n",
    "text_stemmed_lemmatized=[WordNetLemmatizer().lemmatize(text) for text in processed_text_stemmed]\n",
    "print (reviews.shape)"
   ]
  },
  {
   "cell_type": "markdown",
   "metadata": {},
   "source": [
    "### Create keywords for reviews for each trail"
   ]
  },
  {
   "cell_type": "code",
   "execution_count": 40,
   "metadata": {},
   "outputs": [],
   "source": [
    "# text_stemmed_lemmatized[0]\n",
    "def get_unique_keywords(txt):\n",
    "    return (set([WordNetLemmatizer().lemmatize(txt) for txt in keywrds.split()]))"
   ]
  },
  {
   "cell_type": "code",
   "execution_count": 41,
   "metadata": {},
   "outputs": [],
   "source": [
    "review_keywords=[]\n",
    "for i,n in enumerate(text_stemmed_lemmatized):\n",
    "    keywrds = (keywords(n, ratio=0.10, lemmatize=True)) #.replace('\\n', ' ')\n",
    "    tx = [word for word in keywrds.split() if len(word) >2]\n",
    "    if (tx != ''):\n",
    "        review_keywords.append(tx)\n",
    "    else:\n",
    "        review_keywords.append([''])"
   ]
  },
  {
   "cell_type": "code",
   "execution_count": 42,
   "metadata": {},
   "outputs": [
    {
     "name": "stdout",
     "output_type": "stream",
     "text": [
      "847\n"
     ]
    }
   ],
   "source": [
    "print (len(review_keywords))"
   ]
  },
  {
   "cell_type": "code",
   "execution_count": 43,
   "metadata": {},
   "outputs": [
    {
     "data": {
      "text/plain": [
       "['bike, nice, dog']"
      ]
     },
     "execution_count": 43,
     "metadata": {},
     "output_type": "execute_result"
    }
   ],
   "source": [
    "df['review_keywords']=pd.Series((v for v in review_keywords))\n",
    "df['review_keywords1']=pd.Series(([' '.join (v)] for v in review_keywords))\n",
    "# for v in review_keywords:\n",
    "#     print (v)\n",
    "# df.head()\n",
    "rv = pd.Series([', '.join (v)] for v in review_keywords)\n",
    "rv.iloc[0]"
   ]
  },
  {
   "cell_type": "code",
   "execution_count": 47,
   "metadata": {
    "scrolled": true
   },
   "outputs": [
    {
     "data": {
      "text/html": [
       "<div>\n",
       "<style scoped>\n",
       "    .dataframe tbody tr th:only-of-type {\n",
       "        vertical-align: middle;\n",
       "    }\n",
       "\n",
       "    .dataframe tbody tr th {\n",
       "        vertical-align: top;\n",
       "    }\n",
       "\n",
       "    .dataframe thead th {\n",
       "        text-align: right;\n",
       "    }\n",
       "</style>\n",
       "<table border=\"1\" class=\"dataframe\">\n",
       "  <thead>\n",
       "    <tr style=\"text-align: right;\">\n",
       "      <th></th>\n",
       "      <th>difficulty</th>\n",
       "      <th>distance</th>\n",
       "      <th>elevation</th>\n",
       "      <th>name</th>\n",
       "      <th>nreviews</th>\n",
       "      <th>review</th>\n",
       "      <th>route_type</th>\n",
       "      <th>stars</th>\n",
       "      <th>trail_attributes</th>\n",
       "      <th>numreviews</th>\n",
       "      <th>trailName</th>\n",
       "      <th>curated_tags</th>\n",
       "      <th>tagstr</th>\n",
       "      <th>log_elevation</th>\n",
       "      <th>log_distance</th>\n",
       "      <th>review_keywords</th>\n",
       "      <th>review_keywords1</th>\n",
       "    </tr>\n",
       "  </thead>\n",
       "  <tbody>\n",
       "    <tr>\n",
       "      <th>0</th>\n",
       "      <td>MODERATE</td>\n",
       "      <td>5.6</td>\n",
       "      <td>32.0</td>\n",
       "      <td>Taylor Creek Trail</td>\n",
       "      <td>23</td>\n",
       "      <td>Great for strollers, bikes etc. Opposite side ...</td>\n",
       "      <td>Out &amp; Back</td>\n",
       "      <td>3.7</td>\n",
       "      <td>[dogs on leash, wheelchair friendly, kid frien...</td>\n",
       "      <td>23</td>\n",
       "      <td>taylor creek trail</td>\n",
       "      <td>[dogs on leash, wheelchair friendly, kid frien...</td>\n",
       "      <td>dogsonleash wheelchairfriendly kidfriendly hik...</td>\n",
       "      <td>3.465736</td>\n",
       "      <td>1.722767</td>\n",
       "      <td>[bike, nice, dog]</td>\n",
       "      <td>[bike nice dog]</td>\n",
       "    </tr>\n",
       "    <tr>\n",
       "      <th>1</th>\n",
       "      <td>MODERATE</td>\n",
       "      <td>4.7</td>\n",
       "      <td>64.0</td>\n",
       "      <td>Hilton Falls Trail</td>\n",
       "      <td>238</td>\n",
       "      <td>What a gem! I was so pleasantly  surprised by ...</td>\n",
       "      <td>Loop</td>\n",
       "      <td>4.3</td>\n",
       "      <td>[dogs on leash, cross country skiing, fishing,...</td>\n",
       "      <td>238</td>\n",
       "      <td>hilton falls trail</td>\n",
       "      <td>[dogs on leash, fishing, hiking, horseback rid...</td>\n",
       "      <td>dogsonleash fishing hiking horsebackriding mou...</td>\n",
       "      <td>4.158883</td>\n",
       "      <td>1.547563</td>\n",
       "      <td>[nice, family, fall, waterfalls, entrances, pi...</td>\n",
       "      <td>[nice family fall waterfalls entrances picnic ...</td>\n",
       "    </tr>\n",
       "    <tr>\n",
       "      <th>2</th>\n",
       "      <td>MODERATE</td>\n",
       "      <td>2.3</td>\n",
       "      <td>100.0</td>\n",
       "      <td>Niagara Glen Trail</td>\n",
       "      <td>135</td>\n",
       "      <td>Beautiful area with several trails.  Loved exp...</td>\n",
       "      <td>Loop</td>\n",
       "      <td>4.7</td>\n",
       "      <td>[dogs on leash, kid friendly, hiking, nature t...</td>\n",
       "      <td>135</td>\n",
       "      <td>niagara glen trail</td>\n",
       "      <td>[dogs on leash, kid friendly, hiking, forest, ...</td>\n",
       "      <td>dogsonleash kidfriendly hiking forest river</td>\n",
       "      <td>4.605170</td>\n",
       "      <td>0.832909</td>\n",
       "      <td>[views, stairs, nice, fall, niagara, rock, sce...</td>\n",
       "      <td>[views stairs nice fall niagara rock scenery f...</td>\n",
       "    </tr>\n",
       "    <tr>\n",
       "      <th>3</th>\n",
       "      <td>MODERATE</td>\n",
       "      <td>7.2</td>\n",
       "      <td>128.0</td>\n",
       "      <td>Nassagaweya and Bruce Trail Loop from Rattlesn...</td>\n",
       "      <td>170</td>\n",
       "      <td>Great views! We went in January so there weren...</td>\n",
       "      <td>Loop</td>\n",
       "      <td>4.2</td>\n",
       "      <td>[dogs on leash, kid friendly, hiking, nature t...</td>\n",
       "      <td>170</td>\n",
       "      <td>nassagaweya and bruce trail loop from rattlesn...</td>\n",
       "      <td>[dogs on leash, kid friendly, hiking, trail ru...</td>\n",
       "      <td>dogsonleash kidfriendly hiking trailrunning fo...</td>\n",
       "      <td>4.852030</td>\n",
       "      <td>1.974081</td>\n",
       "      <td>[beautiful, view, nice, day, bruce, moderately...</td>\n",
       "      <td>[beautiful view nice day bruce moderately leve...</td>\n",
       "    </tr>\n",
       "    <tr>\n",
       "      <th>4</th>\n",
       "      <td>MODERATE</td>\n",
       "      <td>15.3</td>\n",
       "      <td>427.0</td>\n",
       "      <td>Lion's Head Loop Via Bruce Trail</td>\n",
       "      <td>117</td>\n",
       "      <td>Amazing trail with stunning lookouts. Hiked it...</td>\n",
       "      <td>Loop</td>\n",
       "      <td>4.8</td>\n",
       "      <td>[dogs on leash, hiking, nature trips, walking,...</td>\n",
       "      <td>117</td>\n",
       "      <td>lion's head loop via bruce trail</td>\n",
       "      <td>[dogs on leash, hiking, bird watching, beach, ...</td>\n",
       "      <td>dogsonleash hiking birdwatching beach forest w...</td>\n",
       "      <td>6.056784</td>\n",
       "      <td>2.727853</td>\n",
       "      <td>[view, long, day, beautiful, rocks, water, you...</td>\n",
       "      <td>[view long day beautiful rocks water youre loo...</td>\n",
       "    </tr>\n",
       "    <tr>\n",
       "      <th>5</th>\n",
       "      <td>MODERATE</td>\n",
       "      <td>8.0</td>\n",
       "      <td>222.0</td>\n",
       "      <td>Forks of the Credit and Cataract Falls via Bru...</td>\n",
       "      <td>124</td>\n",
       "      <td>Hiking this trail for 25 years. Loveliest in t...</td>\n",
       "      <td>Loop</td>\n",
       "      <td>4.4</td>\n",
       "      <td>[dogs on leash, hiking, nature trips, trail ru...</td>\n",
       "      <td>124</td>\n",
       "      <td>forks of the credit and cataract falls via bru...</td>\n",
       "      <td>[dogs on leash, hiking, trail running, bird wa...</td>\n",
       "      <td>dogsonleash hiking trailrunning birdwatching l...</td>\n",
       "      <td>5.402677</td>\n",
       "      <td>2.079442</td>\n",
       "      <td>[falls, worth, weekends, theres, dominion, nor...</td>\n",
       "      <td>[falls worth weekends theres dominion north ac...</td>\n",
       "    </tr>\n",
       "    <tr>\n",
       "      <th>6</th>\n",
       "      <td>MODERATE</td>\n",
       "      <td>2.9</td>\n",
       "      <td>71.0</td>\n",
       "      <td>Dundas Peak via Bruce Trail and BT Side Trail</td>\n",
       "      <td>82</td>\n",
       "      <td>Love this trail. Great for all ages, just be c...</td>\n",
       "      <td>Loop</td>\n",
       "      <td>4.1</td>\n",
       "      <td>[dogs on leash, hiking, road biking, trail run...</td>\n",
       "      <td>82</td>\n",
       "      <td>dundas peak via bruce trail and bt side trail</td>\n",
       "      <td>[dogs on leash, hiking, trail running, bird wa...</td>\n",
       "      <td>dogsonleash hiking trailrunning birdwatching f...</td>\n",
       "      <td>4.262680</td>\n",
       "      <td>1.064711</td>\n",
       "      <td>[fall, view, busy, beautiful, experience, peak...</td>\n",
       "      <td>[fall view busy beautiful experience peak best...</td>\n",
       "    </tr>\n",
       "    <tr>\n",
       "      <th>7</th>\n",
       "      <td>MODERATE</td>\n",
       "      <td>9.5</td>\n",
       "      <td>197.0</td>\n",
       "      <td>Dundas Valley Trail</td>\n",
       "      <td>94</td>\n",
       "      <td>winter wonderlandGreat view in fallExcellent t...</td>\n",
       "      <td>Loop</td>\n",
       "      <td>4.5</td>\n",
       "      <td>[dogs on leash, kid friendly, hiking, mountain...</td>\n",
       "      <td>94</td>\n",
       "      <td>dundas valley trail</td>\n",
       "      <td>[dogs on leash, kid friendly, hiking, mountain...</td>\n",
       "      <td>dogsonleash kidfriendly hiking mountainbiking ...</td>\n",
       "      <td>5.283204</td>\n",
       "      <td>2.251292</td>\n",
       "      <td>[beautiful, nice, incredible, pretty, steep, k...</td>\n",
       "      <td>[beautiful nice incredible pretty steep kidsi ...</td>\n",
       "    </tr>\n",
       "    <tr>\n",
       "      <th>8</th>\n",
       "      <td>MODERATE</td>\n",
       "      <td>7.2</td>\n",
       "      <td>259.0</td>\n",
       "      <td>The Crack Trail</td>\n",
       "      <td>128</td>\n",
       "      <td>Did this hike mid December, about of Foot of s...</td>\n",
       "      <td>Out &amp; Back</td>\n",
       "      <td>4.8</td>\n",
       "      <td>[dog friendly, fishing, hiking, nature trips, ...</td>\n",
       "      <td>128</td>\n",
       "      <td>the crack trail</td>\n",
       "      <td>[dog friendly, fishing, hiking, trail running,...</td>\n",
       "      <td>dogfriendly fishing hiking trailrunning birdwa...</td>\n",
       "      <td>5.556828</td>\n",
       "      <td>1.974081</td>\n",
       "      <td>[views, difficult, rock, nice, hard, worth, st...</td>\n",
       "      <td>[views difficult rock nice hard worth steep ab...</td>\n",
       "    </tr>\n",
       "    <tr>\n",
       "      <th>9</th>\n",
       "      <td>EASY</td>\n",
       "      <td>9.0</td>\n",
       "      <td>301.0</td>\n",
       "      <td>McCarston's Lake Trail via Carriage and Spillw...</td>\n",
       "      <td>133</td>\n",
       "      <td>Was a nice hike. Roughly 3 hours. A lot of ice...</td>\n",
       "      <td>Loop</td>\n",
       "      <td>4.3</td>\n",
       "      <td>[dogs on leash, kid friendly, hiking, horsebac...</td>\n",
       "      <td>133</td>\n",
       "      <td>mccarston's lake trail via carriage and spillw...</td>\n",
       "      <td>[dogs on leash, kid friendly, hiking, horsebac...</td>\n",
       "      <td>dogsonleash kidfriendly hiking horsebackriding...</td>\n",
       "      <td>5.707110</td>\n",
       "      <td>2.197225</td>\n",
       "      <td>[nice, pond, beauty, went, pretty, day, forest...</td>\n",
       "      <td>[nice pond beauty went pretty day forests mark...</td>\n",
       "    </tr>\n",
       "  </tbody>\n",
       "</table>\n",
       "</div>"
      ],
      "text/plain": [
       "  difficulty  distance  elevation  \\\n",
       "0   MODERATE       5.6       32.0   \n",
       "1   MODERATE       4.7       64.0   \n",
       "2   MODERATE       2.3      100.0   \n",
       "3   MODERATE       7.2      128.0   \n",
       "4   MODERATE      15.3      427.0   \n",
       "5   MODERATE       8.0      222.0   \n",
       "6   MODERATE       2.9       71.0   \n",
       "7   MODERATE       9.5      197.0   \n",
       "8   MODERATE       7.2      259.0   \n",
       "9       EASY       9.0      301.0   \n",
       "\n",
       "                                                name nreviews  \\\n",
       "0                                 Taylor Creek Trail       23   \n",
       "1                                 Hilton Falls Trail      238   \n",
       "2                                 Niagara Glen Trail      135   \n",
       "3  Nassagaweya and Bruce Trail Loop from Rattlesn...      170   \n",
       "4                  Lion's Head Loop Via Bruce Trail       117   \n",
       "5  Forks of the Credit and Cataract Falls via Bru...      124   \n",
       "6      Dundas Peak via Bruce Trail and BT Side Trail       82   \n",
       "7                                Dundas Valley Trail       94   \n",
       "8                                    The Crack Trail      128   \n",
       "9  McCarston's Lake Trail via Carriage and Spillw...      133   \n",
       "\n",
       "                                              review  route_type  stars  \\\n",
       "0  Great for strollers, bikes etc. Opposite side ...  Out & Back    3.7   \n",
       "1  What a gem! I was so pleasantly  surprised by ...        Loop    4.3   \n",
       "2  Beautiful area with several trails.  Loved exp...        Loop    4.7   \n",
       "3  Great views! We went in January so there weren...        Loop    4.2   \n",
       "4  Amazing trail with stunning lookouts. Hiked it...        Loop    4.8   \n",
       "5  Hiking this trail for 25 years. Loveliest in t...        Loop    4.4   \n",
       "6  Love this trail. Great for all ages, just be c...        Loop    4.1   \n",
       "7  winter wonderlandGreat view in fallExcellent t...        Loop    4.5   \n",
       "8  Did this hike mid December, about of Foot of s...  Out & Back    4.8   \n",
       "9  Was a nice hike. Roughly 3 hours. A lot of ice...        Loop    4.3   \n",
       "\n",
       "                                    trail_attributes  numreviews  \\\n",
       "0  [dogs on leash, wheelchair friendly, kid frien...          23   \n",
       "1  [dogs on leash, cross country skiing, fishing,...         238   \n",
       "2  [dogs on leash, kid friendly, hiking, nature t...         135   \n",
       "3  [dogs on leash, kid friendly, hiking, nature t...         170   \n",
       "4  [dogs on leash, hiking, nature trips, walking,...         117   \n",
       "5  [dogs on leash, hiking, nature trips, trail ru...         124   \n",
       "6  [dogs on leash, hiking, road biking, trail run...          82   \n",
       "7  [dogs on leash, kid friendly, hiking, mountain...          94   \n",
       "8  [dog friendly, fishing, hiking, nature trips, ...         128   \n",
       "9  [dogs on leash, kid friendly, hiking, horsebac...         133   \n",
       "\n",
       "                                           trailName  \\\n",
       "0                                 taylor creek trail   \n",
       "1                                 hilton falls trail   \n",
       "2                                 niagara glen trail   \n",
       "3  nassagaweya and bruce trail loop from rattlesn...   \n",
       "4                  lion's head loop via bruce trail    \n",
       "5  forks of the credit and cataract falls via bru...   \n",
       "6      dundas peak via bruce trail and bt side trail   \n",
       "7                                dundas valley trail   \n",
       "8                                    the crack trail   \n",
       "9  mccarston's lake trail via carriage and spillw...   \n",
       "\n",
       "                                        curated_tags  \\\n",
       "0  [dogs on leash, wheelchair friendly, kid frien...   \n",
       "1  [dogs on leash, fishing, hiking, horseback rid...   \n",
       "2  [dogs on leash, kid friendly, hiking, forest, ...   \n",
       "3  [dogs on leash, kid friendly, hiking, trail ru...   \n",
       "4  [dogs on leash, hiking, bird watching, beach, ...   \n",
       "5  [dogs on leash, hiking, trail running, bird wa...   \n",
       "6  [dogs on leash, hiking, trail running, bird wa...   \n",
       "7  [dogs on leash, kid friendly, hiking, mountain...   \n",
       "8  [dog friendly, fishing, hiking, trail running,...   \n",
       "9  [dogs on leash, kid friendly, hiking, horsebac...   \n",
       "\n",
       "                                              tagstr  log_elevation  \\\n",
       "0  dogsonleash wheelchairfriendly kidfriendly hik...       3.465736   \n",
       "1  dogsonleash fishing hiking horsebackriding mou...       4.158883   \n",
       "2        dogsonleash kidfriendly hiking forest river       4.605170   \n",
       "3  dogsonleash kidfriendly hiking trailrunning fo...       4.852030   \n",
       "4  dogsonleash hiking birdwatching beach forest w...       6.056784   \n",
       "5  dogsonleash hiking trailrunning birdwatching l...       5.402677   \n",
       "6  dogsonleash hiking trailrunning birdwatching f...       4.262680   \n",
       "7  dogsonleash kidfriendly hiking mountainbiking ...       5.283204   \n",
       "8  dogfriendly fishing hiking trailrunning birdwa...       5.556828   \n",
       "9  dogsonleash kidfriendly hiking horsebackriding...       5.707110   \n",
       "\n",
       "   log_distance                                    review_keywords  \\\n",
       "0      1.722767                                  [bike, nice, dog]   \n",
       "1      1.547563  [nice, family, fall, waterfalls, entrances, pi...   \n",
       "2      0.832909  [views, stairs, nice, fall, niagara, rock, sce...   \n",
       "3      1.974081  [beautiful, view, nice, day, bruce, moderately...   \n",
       "4      2.727853  [view, long, day, beautiful, rocks, water, you...   \n",
       "5      2.079442  [falls, worth, weekends, theres, dominion, nor...   \n",
       "6      1.064711  [fall, view, busy, beautiful, experience, peak...   \n",
       "7      2.251292  [beautiful, nice, incredible, pretty, steep, k...   \n",
       "8      1.974081  [views, difficult, rock, nice, hard, worth, st...   \n",
       "9      2.197225  [nice, pond, beauty, went, pretty, day, forest...   \n",
       "\n",
       "                                    review_keywords1  \n",
       "0                                    [bike nice dog]  \n",
       "1  [nice family fall waterfalls entrances picnic ...  \n",
       "2  [views stairs nice fall niagara rock scenery f...  \n",
       "3  [beautiful view nice day bruce moderately leve...  \n",
       "4  [view long day beautiful rocks water youre loo...  \n",
       "5  [falls worth weekends theres dominion north ac...  \n",
       "6  [fall view busy beautiful experience peak best...  \n",
       "7  [beautiful nice incredible pretty steep kidsi ...  \n",
       "8  [views difficult rock nice hard worth steep ab...  \n",
       "9  [nice pond beauty went pretty day forests mark...  "
      ]
     },
     "execution_count": 47,
     "metadata": {},
     "output_type": "execute_result"
    }
   ],
   "source": [
    "df.head(10)"
   ]
  },
  {
   "cell_type": "code",
   "execution_count": 45,
   "metadata": {},
   "outputs": [],
   "source": [
    "# df.review_keywords.iloc[0]"
   ]
  },
  {
   "cell_type": "markdown",
   "metadata": {},
   "source": [
    "##  Write curated data file to be called in the Dash app"
   ]
  },
  {
   "cell_type": "code",
   "execution_count": 46,
   "metadata": {},
   "outputs": [],
   "source": [
    "df.to_pickle('../data/alltrails_ontario_curated_0208.pkl')"
   ]
  }
 ],
 "metadata": {
  "kernelspec": {
   "display_name": "Python 3",
   "language": "python",
   "name": "python3"
  },
  "language_info": {
   "codemirror_mode": {
    "name": "ipython",
    "version": 3
   },
   "file_extension": ".py",
   "mimetype": "text/x-python",
   "name": "python",
   "nbconvert_exporter": "python",
   "pygments_lexer": "ipython3",
   "version": "3.7.1"
  }
 },
 "nbformat": 4,
 "nbformat_minor": 2
}
